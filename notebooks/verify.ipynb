{
 "cells": [
  {
   "cell_type": "code",
   "execution_count": 1,
   "metadata": {},
   "outputs": [],
   "source": [
    "import sys\n",
    "import os\n",
    "\n",
    "# Get the absolute path to the repo root (parent of both src and notebook folders)\n",
    "repo_root = os.path.abspath(os.path.join(os.getcwd(), \"..\"))\n",
    "\n",
    "# Add the repo root to the Python path\n",
    "sys.path.append(repo_root)\n",
    "\n",
    "# Now you can import from src\n",
    "from src.master.data import load_and_crop_data, get_positive_negative_masks, process_segmentation_masks\n",
    "from src.master.visualize import show_masks_sam, visualize_masks\n",
    "from src.master.evaluate import evaluate_binary_masks"
   ]
  },
  {
   "cell_type": "code",
   "execution_count": null,
   "metadata": {},
   "outputs": [],
   "source": [
    "img_path = \"C:/Users/gtoft/OneDrive/DTU/4_Semester_AS/Master_Thesis/data/sam_inference/processed_data/meatballs/images/frame_000000.PNG\"\n",
    "gt_path = \"C:/Users/gtoft/OneDrive/DTU/4_Semester_AS/Master_Thesis/data/sam_inference/processed_data/meatballs/gt_masks/frame_000000.txt\"\n",
    "sam_path = \"C:/Users/gtoft/OneDrive/DTU/4_Semester_AS/Master_Thesis/data/sam_inference/processed_data/meatballs/sam_masks/frame_000000.txt\"\n",
    "\n",
    "img, masks_gt = load_and_crop_data(img_path, gt_path)\n",
    "\n",
    "_, masks_sam = load_and_crop_data(img_path, sam_path)\n",
    "\n",
    "visualize_masks(img, masks_gt)\n",
    "visualize_masks(img, masks_sam)"
   ]
  }
 ],
 "metadata": {
  "kernelspec": {
   "display_name": "masterenv",
   "language": "python",
   "name": "python3"
  },
  "language_info": {
   "codemirror_mode": {
    "name": "ipython",
    "version": 3
   },
   "file_extension": ".py",
   "mimetype": "text/x-python",
   "name": "python",
   "nbconvert_exporter": "python",
   "pygments_lexer": "ipython3",
   "version": "3.11.11"
  }
 },
 "nbformat": 4,
 "nbformat_minor": 2
}
