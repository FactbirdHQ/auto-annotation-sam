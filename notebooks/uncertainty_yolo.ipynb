{
 "cells": [
  {
   "cell_type": "code",
   "execution_count": 11,
   "id": "03187b04",
   "metadata": {},
   "outputs": [],
   "source": [
    "import os\n",
    "import glob\n",
    "import numpy as np\n",
    "\n",
    "def convert_seg_to_bbox(seg_label_path, bbox_label_path):\n",
    "    with open(seg_label_path, 'r') as f:\n",
    "        lines = f.readlines()\n",
    "    \n",
    "    bbox_lines = []\n",
    "    for line in lines:\n",
    "        parts = line.strip().split()\n",
    "        class_id = 0\n",
    "        \n",
    "        # Extract all x,y coordinates\n",
    "        coords = [float(coord) for coord in parts[1:]]\n",
    "        points = np.array(coords).reshape(-1, 2)\n",
    "        \n",
    "        # Find min/max to create bounding box\n",
    "        x_min, y_min = points.min(axis=0)\n",
    "        x_max, y_max = points.max(axis=0)\n",
    "        \n",
    "        # Convert to YOLO format (x_center, y_center, width, height)\n",
    "        x_center = (x_min + x_max) / 2\n",
    "        y_center = (y_min + y_max) / 2\n",
    "        width = x_max - x_min\n",
    "        height = y_max - y_min\n",
    "        \n",
    "        bbox_lines.append(f\"{class_id} {x_center:.6f} {y_center:.6f} {width:.6f} {height:.6f}\")\n",
    "    \n",
    "    # Write to new label file\n",
    "    with open(bbox_label_path, 'w') as f:\n",
    "        f.write('\\n'.join(bbox_lines))\n",
    "\n",
    "# Process all segmentation labels\n",
    "seg_label_dir = \"../data/processed/meatballs/gt_masks\"\n",
    "bbox_label_dir = \"../data/processed/meatballs_yolo/labels\"\n",
    "os.makedirs(bbox_label_dir, exist_ok=True)\n",
    "\n",
    "for seg_file in glob.glob(os.path.join(seg_label_dir, \"*.txt\")):\n",
    "    filename = os.path.basename(seg_file)\n",
    "    bbox_file = os.path.join(bbox_label_dir, filename)\n",
    "    convert_seg_to_bbox(seg_file, bbox_file)"
   ]
  },
  {
   "cell_type": "code",
   "execution_count": null,
   "id": "5610d5e7",
   "metadata": {},
   "outputs": [],
   "source": [
    "import shutil\n",
    "\n",
    "# Copy the images (you don't need to change these)\n",
    "src_img_dir = \"../data/processed/meatballs/images\"\n",
    "dst_img_dir = \"../data/processed/meatballs_yolo/images\"\n",
    "os.makedirs(dst_img_dir, exist_ok=True)\n",
    "\n",
    "for img_file in glob.glob(os.path.join(src_img_dir, \"*.png\")):\n",
    "    shutil.copy(img_file, dst_img_dir)\n"
   ]
  },
  {
   "cell_type": "code",
   "execution_count": null,
   "id": "6c197513",
   "metadata": {},
   "outputs": [
    {
     "name": "stdout",
     "output_type": "stream",
     "text": [
      "Dataset reorganization complete:\n",
      "  Train: 140 images\n",
      "  Validation: 40 images\n",
      "  Test: 20 images\n",
      "Dataset YAML created at: ../data/processed/meatballs_yolo\\dataset.yaml\n",
      "Note: Update the class names in the YAML file to match your actual classes.\n"
     ]
    }
   ],
   "source": [
    "import os\n",
    "import random\n",
    "import shutil\n",
    "from pathlib import Path\n",
    "\n",
    "def reorganize_existing_dataset(dataset_dir, train_ratio=0.7, val_ratio=0.2, test_ratio=0.1, seed=42):\n",
    "    \"\"\"\n",
    "    Reorganize an existing dataset with flat images and labels folders into train/val/test splits\n",
    "    \"\"\"\n",
    "    # Set random seed for reproducibility\n",
    "    random.seed(seed)\n",
    "    \n",
    "    # Input directories\n",
    "    img_dir = os.path.join(dataset_dir, \"images\")\n",
    "    label_dir = os.path.join(dataset_dir, \"labels\")\n",
    "    \n",
    "    # Get all image files before creating new directories\n",
    "    image_files = [f for f in os.listdir(img_dir) if f.endswith(('.jpg', '.jpeg', '.png'))]\n",
    "    random.shuffle(image_files)\n",
    "    \n",
    "    # Create subdirectories\n",
    "    for split in [\"train\", \"val\", \"test\"]:\n",
    "        os.makedirs(os.path.join(img_dir, split), exist_ok=True)\n",
    "        os.makedirs(os.path.join(label_dir, split), exist_ok=True)\n",
    "    \n",
    "    # Calculate split indices\n",
    "    n_samples = len(image_files)\n",
    "    train_end = int(n_samples * train_ratio)\n",
    "    val_end = train_end + int(n_samples * val_ratio)\n",
    "    \n",
    "    # Split files\n",
    "    train_files = image_files[:train_end]\n",
    "    val_files = image_files[train_end:val_end]\n",
    "    test_files = image_files[val_end:]\n",
    "    \n",
    "    # Move files to respective directories\n",
    "    splits = {\n",
    "        \"train\": train_files,\n",
    "        \"val\": val_files,\n",
    "        \"test\": test_files\n",
    "    }\n",
    "    \n",
    "    for split, files in splits.items():\n",
    "        for filename in files:\n",
    "            # Move image\n",
    "            src_img = os.path.join(img_dir, filename)\n",
    "            dst_img = os.path.join(img_dir, split, filename)\n",
    "            shutil.move(src_img, dst_img)\n",
    "            \n",
    "            # Move label (if exists)\n",
    "            base_name = os.path.splitext(filename)[0]\n",
    "            label_filename = f\"{base_name}.txt\"\n",
    "            src_label = os.path.join(label_dir, label_filename)\n",
    "            dst_label = os.path.join(label_dir, split, label_filename)\n",
    "            \n",
    "            if os.path.exists(src_label):\n",
    "                shutil.move(src_label, dst_label)\n",
    "    \n",
    "    # Print statistics\n",
    "    print(f\"Dataset reorganization complete:\")\n",
    "    print(f\"  Train: {len(train_files)} images\")\n",
    "    print(f\"  Validation: {len(val_files)} images\")\n",
    "    print(f\"  Test: {len(test_files)} images\")\n",
    "    \n",
    "    # Create YAML file\n",
    "    yaml_path = os.path.join(dataset_dir, \"data.yaml\")\n",
    "    \n",
    "    # Try to infer class names\n",
    "    class_names = [\"class0\", \"class1\"]  # Default placeholder\n",
    "    # Check for any label file to infer classes\n",
    "    sample_dirs = [os.path.join(label_dir, split) for split in [\"train\", \"val\", \"test\"]]\n",
    "    for dir_path in sample_dirs:\n",
    "        label_files = [f for f in os.listdir(dir_path) if f.endswith('.txt')]\n",
    "        if label_files:\n",
    "            # Take the first label file and find max class ID\n",
    "            with open(os.path.join(dir_path, label_files[0]), 'r') as f:\n",
    "                class_ids = set()\n",
    "                for line in f:\n",
    "                    parts = line.strip().split()\n",
    "                    if parts:\n",
    "                        class_ids.add(int(parts[0]))\n",
    "            \n",
    "            if class_ids:\n",
    "                num_classes = max(class_ids) + 1\n",
    "                class_names = [f\"class{i}\" for i in range(num_classes)]\n",
    "            break\n",
    "    \n",
    "    yaml_content = f\"\"\"\n",
    "# YOLOv8 dataset config\n",
    "path: {os.path.abspath(dataset_dir)}\n",
    "train: images/train\n",
    "val: images/val\n",
    "test: images/test\n",
    "\n",
    "# Classes\n",
    "nc: {len(class_names)}\n",
    "names: {class_names}\n",
    "\"\"\"\n",
    "\n",
    "    with open(yaml_path, 'w') as f:\n",
    "        f.write(yaml_content)\n",
    "    \n",
    "    print(f\"Dataset YAML created at: {yaml_path}\")\n",
    "    print(\"Note: Update the class names in the YAML file to match your actual classes.\")\n",
    "    \n",
    "    return yaml_path\n",
    "\n",
    "# Example usage\n",
    "dataset_dir = \"../data/processed/meatballs_yolo\"  # Contains images/ and labels/ folders\n",
    "yaml_file = reorganize_existing_dataset(dataset_dir)"
   ]
  },
  {
   "cell_type": "code",
   "execution_count": null,
   "id": "ea276670",
   "metadata": {},
   "outputs": [],
   "source": []
  },
  {
   "cell_type": "markdown",
   "id": "10bb82a1",
   "metadata": {},
   "source": [
    "# let's train\n"
   ]
  },
  {
   "cell_type": "code",
   "execution_count": 14,
   "id": "4c55e323",
   "metadata": {},
   "outputs": [],
   "source": [
    "from ultralytics import YOLO\n",
    "import numpy as np\n",
    "import torch\n",
    "\n",
    "# Load your model\n",
    "model = YOLO(\"yolov8n.pt\")\n",
    "\n",
    "def mc_inference_precise(image_path, num_samples=30):\n",
    "    # Store original state\n",
    "    training_state = model.model.training\n",
    "    \n",
    "    # Set model to eval mode (keeps batch norm using running stats)\n",
    "    model.model.eval()\n",
    "    \n",
    "    # Manually set only dropout layers to train mode\n",
    "    for module in model.model.modules():\n",
    "        if isinstance(module, torch.nn.Dropout):\n",
    "            module.training = True\n",
    "    \n",
    "    # Run inference\n",
    "    results_list = []\n",
    "    with torch.no_grad():\n",
    "        for _ in range(num_samples):\n",
    "            results = model(image_path)\n",
    "            detections = results[0].boxes.data\n",
    "            results_list.append(detections.cpu().numpy())\n",
    "    \n",
    "    # Restore original state\n",
    "    model.model.train(training_state)\n",
    "    \n",
    "    return results_list"
   ]
  },
  {
   "cell_type": "code",
   "execution_count": 15,
   "id": "64506eed",
   "metadata": {},
   "outputs": [
    {
     "name": "stdout",
     "output_type": "stream",
     "text": [
      "Ultralytics 8.3.111  Python-3.11.11 torch-2.5.1+cu121 CUDA:0 (NVIDIA GeForce RTX 3060 Laptop GPU, 6144MiB)\n",
      "\u001b[34m\u001b[1mengine\\trainer: \u001b[0mtask=detect, mode=train, model=yolov8n.pt, data=../data/processed/meatballs_yolo/data.yaml, epochs=100, time=None, patience=50, batch=16, imgsz=640, save=True, save_period=-1, cache=False, device=0, workers=8, project=None, name=train3, exist_ok=False, pretrained=True, optimizer=auto, verbose=True, seed=0, deterministic=True, single_cls=False, rect=False, cos_lr=False, close_mosaic=10, resume=False, amp=True, fraction=1.0, profile=False, freeze=None, multi_scale=False, overlap_mask=True, mask_ratio=4, dropout=0.0, val=True, split=val, save_json=False, conf=None, iou=0.7, max_det=300, half=False, dnn=False, plots=True, source=None, vid_stride=1, stream_buffer=False, visualize=False, augment=False, agnostic_nms=False, classes=None, retina_masks=False, embed=None, show=False, save_frames=False, save_txt=False, save_conf=False, save_crop=False, show_labels=True, show_conf=True, show_boxes=True, line_width=None, format=torchscript, keras=False, optimize=False, int8=False, dynamic=False, simplify=True, opset=None, workspace=None, nms=False, lr0=0.01, lrf=0.01, momentum=0.937, weight_decay=0.0005, warmup_epochs=3.0, warmup_momentum=0.8, warmup_bias_lr=0.1, box=7.5, cls=0.5, dfl=1.5, pose=12.0, kobj=1.0, nbs=64, hsv_h=0.015, hsv_s=0.7, hsv_v=0.4, degrees=0.0, translate=0.1, scale=0.5, shear=0.0, perspective=0.0, flipud=0.0, fliplr=0.5, bgr=0.0, mosaic=1.0, mixup=0.0, copy_paste=0.0, copy_paste_mode=flip, auto_augment=randaugment, erasing=0.4, cfg=None, tracker=botsort.yaml, save_dir=runs\\detect\\train3\n",
      "Overriding model.yaml nc=80 with nc=1\n",
      "\n",
      "                   from  n    params  module                                       arguments                     \n",
      "  0                  -1  1       464  ultralytics.nn.modules.conv.Conv             [3, 16, 3, 2]                 \n",
      "  1                  -1  1      4672  ultralytics.nn.modules.conv.Conv             [16, 32, 3, 2]                \n",
      "  2                  -1  1      7360  ultralytics.nn.modules.block.C2f             [32, 32, 1, True]             \n",
      "  3                  -1  1     18560  ultralytics.nn.modules.conv.Conv             [32, 64, 3, 2]                \n",
      "  4                  -1  2     49664  ultralytics.nn.modules.block.C2f             [64, 64, 2, True]             \n",
      "  5                  -1  1     73984  ultralytics.nn.modules.conv.Conv             [64, 128, 3, 2]               \n",
      "  6                  -1  2    197632  ultralytics.nn.modules.block.C2f             [128, 128, 2, True]           \n",
      "  7                  -1  1    295424  ultralytics.nn.modules.conv.Conv             [128, 256, 3, 2]              \n",
      "  8                  -1  1    460288  ultralytics.nn.modules.block.C2f             [256, 256, 1, True]           \n",
      "  9                  -1  1    164608  ultralytics.nn.modules.block.SPPF            [256, 256, 5]                 \n",
      " 10                  -1  1         0  torch.nn.modules.upsampling.Upsample         [None, 2, 'nearest']          \n",
      " 11             [-1, 6]  1         0  ultralytics.nn.modules.conv.Concat           [1]                           \n",
      " 12                  -1  1    148224  ultralytics.nn.modules.block.C2f             [384, 128, 1]                 \n",
      " 13                  -1  1         0  torch.nn.modules.upsampling.Upsample         [None, 2, 'nearest']          \n",
      " 14             [-1, 4]  1         0  ultralytics.nn.modules.conv.Concat           [1]                           \n",
      " 15                  -1  1     37248  ultralytics.nn.modules.block.C2f             [192, 64, 1]                  \n",
      " 16                  -1  1     36992  ultralytics.nn.modules.conv.Conv             [64, 64, 3, 2]                \n",
      " 17            [-1, 12]  1         0  ultralytics.nn.modules.conv.Concat           [1]                           \n",
      " 18                  -1  1    123648  ultralytics.nn.modules.block.C2f             [192, 128, 1]                 \n",
      " 19                  -1  1    147712  ultralytics.nn.modules.conv.Conv             [128, 128, 3, 2]              \n",
      " 20             [-1, 9]  1         0  ultralytics.nn.modules.conv.Concat           [1]                           \n",
      " 21                  -1  1    493056  ultralytics.nn.modules.block.C2f             [384, 256, 1]                 \n",
      " 22        [15, 18, 21]  1    751507  ultralytics.nn.modules.head.Detect           [1, [64, 128, 256]]           \n",
      "Model summary: 129 layers, 3,011,043 parameters, 3,011,027 gradients, 8.2 GFLOPs\n",
      "\n",
      "Transferred 319/355 items from pretrained weights\n",
      "Freezing layer 'model.22.dfl.conv.weight'\n",
      "\u001b[34m\u001b[1mAMP: \u001b[0mrunning Automatic Mixed Precision (AMP) checks...\n",
      "\u001b[34m\u001b[1mAMP: \u001b[0mchecks passed \n",
      "\u001b[34m\u001b[1mtrain: \u001b[0mFast image access  (ping: 0.10.0 ms, read: 780.2222.1 MB/s, size: 129.8 KB)\n"
     ]
    },
    {
     "name": "stderr",
     "output_type": "stream",
     "text": [
      "\u001b[34m\u001b[1mtrain: \u001b[0mScanning C:\\Users\\gtoft\\OneDrive\\DTU\\4_Semester_AS\\Master_Thesis\\auto-annotation-sam\\data\\processed\\meatballs_yolo\\labels\\train... 140 images, 0 backgrounds, 0 corrupt: 100%|██████████| 140/140 [00:00<00:00, 883.39it/s]"
     ]
    },
    {
     "name": "stdout",
     "output_type": "stream",
     "text": [
      "\u001b[34m\u001b[1mtrain: \u001b[0mNew cache created: C:\\Users\\gtoft\\OneDrive\\DTU\\4_Semester_AS\\Master_Thesis\\auto-annotation-sam\\data\\processed\\meatballs_yolo\\labels\\train.cache\n"
     ]
    },
    {
     "name": "stderr",
     "output_type": "stream",
     "text": [
      "\n"
     ]
    },
    {
     "name": "stdout",
     "output_type": "stream",
     "text": [
      "\u001b[34m\u001b[1mval: \u001b[0mFast image access  (ping: 0.00.0 ms, read: 878.9193.6 MB/s, size: 128.6 KB)\n"
     ]
    },
    {
     "name": "stderr",
     "output_type": "stream",
     "text": [
      "\u001b[34m\u001b[1mval: \u001b[0mScanning C:\\Users\\gtoft\\OneDrive\\DTU\\4_Semester_AS\\Master_Thesis\\auto-annotation-sam\\data\\processed\\meatballs_yolo\\labels\\val... 40 images, 0 backgrounds, 0 corrupt: 100%|██████████| 40/40 [00:00<00:00, 648.69it/s]"
     ]
    },
    {
     "name": "stdout",
     "output_type": "stream",
     "text": [
      "\u001b[34m\u001b[1mval: \u001b[0mNew cache created: C:\\Users\\gtoft\\OneDrive\\DTU\\4_Semester_AS\\Master_Thesis\\auto-annotation-sam\\data\\processed\\meatballs_yolo\\labels\\val.cache\n"
     ]
    },
    {
     "name": "stderr",
     "output_type": "stream",
     "text": [
      "\n"
     ]
    },
    {
     "name": "stdout",
     "output_type": "stream",
     "text": [
      "Plotting labels to runs\\detect\\train3\\labels.jpg... \n",
      "\u001b[34m\u001b[1moptimizer:\u001b[0m 'optimizer=auto' found, ignoring 'lr0=0.01' and 'momentum=0.937' and determining best 'optimizer', 'lr0' and 'momentum' automatically... \n",
      "\u001b[34m\u001b[1moptimizer:\u001b[0m AdamW(lr=0.002, momentum=0.9) with parameter groups 57 weight(decay=0.0), 64 weight(decay=0.0005), 63 bias(decay=0.0)\n",
      "Image sizes 640 train, 640 val\n",
      "Using 8 dataloader workers\n",
      "Logging results to \u001b[1mruns\\detect\\train3\u001b[0m\n",
      "Starting training for 100 epochs...\n",
      "\n",
      "      Epoch    GPU_mem   box_loss   cls_loss   dfl_loss  Instances       Size\n"
     ]
    },
    {
     "name": "stderr",
     "output_type": "stream",
     "text": [
      "      1/100      3.52G      2.224      3.505      1.465        936        640: 100%|██████████| 9/9 [00:05<00:00,  1.55it/s]\n",
      "                 Class     Images  Instances      Box(P          R      mAP50  mAP50-95): 100%|██████████| 2/2 [00:00<00:00,  3.34it/s]"
     ]
    },
    {
     "name": "stdout",
     "output_type": "stream",
     "text": [
      "                   all         40       2118      0.163      0.924      0.215      0.123\n"
     ]
    },
    {
     "name": "stderr",
     "output_type": "stream",
     "text": [
      "\n"
     ]
    },
    {
     "name": "stdout",
     "output_type": "stream",
     "text": [
      "\n",
      "      Epoch    GPU_mem   box_loss   cls_loss   dfl_loss  Instances       Size\n"
     ]
    },
    {
     "name": "stderr",
     "output_type": "stream",
     "text": [
      "      2/100      3.83G      1.469       2.13          1        984        640: 100%|██████████| 9/9 [00:02<00:00,  4.28it/s]\n",
      "                 Class     Images  Instances      Box(P          R      mAP50  mAP50-95): 100%|██████████| 2/2 [00:00<00:00,  5.01it/s]"
     ]
    },
    {
     "name": "stdout",
     "output_type": "stream",
     "text": [
      "                   all         40       2118      0.169      0.959      0.797      0.488\n"
     ]
    },
    {
     "name": "stderr",
     "output_type": "stream",
     "text": [
      "\n"
     ]
    },
    {
     "name": "stdout",
     "output_type": "stream",
     "text": [
      "\n",
      "      Epoch    GPU_mem   box_loss   cls_loss   dfl_loss  Instances       Size\n"
     ]
    },
    {
     "name": "stderr",
     "output_type": "stream",
     "text": [
      "      3/100      3.57G      1.442      1.154     0.9697        627        640: 100%|██████████| 9/9 [00:01<00:00,  4.70it/s]\n",
      "                 Class     Images  Instances      Box(P          R      mAP50  mAP50-95): 100%|██████████| 2/2 [00:00<00:00,  5.56it/s]"
     ]
    },
    {
     "name": "stdout",
     "output_type": "stream",
     "text": [
      "                   all         40       2118          1      0.653      0.923      0.475\n"
     ]
    },
    {
     "name": "stderr",
     "output_type": "stream",
     "text": [
      "\n"
     ]
    },
    {
     "name": "stdout",
     "output_type": "stream",
     "text": [
      "\n",
      "      Epoch    GPU_mem   box_loss   cls_loss   dfl_loss  Instances       Size\n"
     ]
    },
    {
     "name": "stderr",
     "output_type": "stream",
     "text": [
      "      4/100      3.52G      1.372     0.9235     0.9671        842        640: 100%|██████████| 9/9 [00:01<00:00,  4.81it/s]\n",
      "                 Class     Images  Instances      Box(P          R      mAP50  mAP50-95): 100%|██████████| 2/2 [00:00<00:00,  5.18it/s]"
     ]
    },
    {
     "name": "stdout",
     "output_type": "stream",
     "text": [
      "                   all         40       2118      0.999      0.818      0.948      0.558\n"
     ]
    },
    {
     "name": "stderr",
     "output_type": "stream",
     "text": [
      "\n"
     ]
    },
    {
     "name": "stdout",
     "output_type": "stream",
     "text": [
      "\n",
      "      Epoch    GPU_mem   box_loss   cls_loss   dfl_loss  Instances       Size\n"
     ]
    },
    {
     "name": "stderr",
     "output_type": "stream",
     "text": [
      "      5/100      3.56G      1.295     0.8003     0.9608        993        640: 100%|██████████| 9/9 [00:01<00:00,  4.65it/s]\n",
      "                 Class     Images  Instances      Box(P          R      mAP50  mAP50-95): 100%|██████████| 2/2 [00:00<00:00,  5.55it/s]"
     ]
    },
    {
     "name": "stdout",
     "output_type": "stream",
     "text": [
      "                   all         40       2118      0.942      0.927      0.971      0.608\n"
     ]
    },
    {
     "name": "stderr",
     "output_type": "stream",
     "text": [
      "\n"
     ]
    },
    {
     "name": "stdout",
     "output_type": "stream",
     "text": [
      "\n",
      "      Epoch    GPU_mem   box_loss   cls_loss   dfl_loss  Instances       Size\n"
     ]
    },
    {
     "name": "stderr",
     "output_type": "stream",
     "text": [
      "      6/100      3.44G       1.32     0.7691     0.9608       1103        640: 100%|██████████| 9/9 [00:01<00:00,  4.66it/s]\n",
      "                 Class     Images  Instances      Box(P          R      mAP50  mAP50-95): 100%|██████████| 2/2 [00:00<00:00,  5.08it/s]"
     ]
    },
    {
     "name": "stdout",
     "output_type": "stream",
     "text": [
      "                   all         40       2118      0.994      0.985      0.994      0.611\n"
     ]
    },
    {
     "name": "stderr",
     "output_type": "stream",
     "text": [
      "\n"
     ]
    },
    {
     "name": "stdout",
     "output_type": "stream",
     "text": [
      "\n",
      "      Epoch    GPU_mem   box_loss   cls_loss   dfl_loss  Instances       Size\n"
     ]
    },
    {
     "name": "stderr",
     "output_type": "stream",
     "text": [
      "      7/100      3.02G      1.279     0.7069     0.9605        846        640: 100%|██████████| 9/9 [00:01<00:00,  4.88it/s]\n",
      "                 Class     Images  Instances      Box(P          R      mAP50  mAP50-95): 100%|██████████| 2/2 [00:00<00:00,  5.49it/s]"
     ]
    },
    {
     "name": "stdout",
     "output_type": "stream",
     "text": [
      "                   all         40       2118      0.995      0.984      0.994      0.663\n"
     ]
    },
    {
     "name": "stderr",
     "output_type": "stream",
     "text": [
      "\n"
     ]
    },
    {
     "name": "stdout",
     "output_type": "stream",
     "text": [
      "\n",
      "      Epoch    GPU_mem   box_loss   cls_loss   dfl_loss  Instances       Size\n"
     ]
    },
    {
     "name": "stderr",
     "output_type": "stream",
     "text": [
      "      8/100      2.99G      1.237     0.6939     0.9509        599        640: 100%|██████████| 9/9 [00:01<00:00,  4.83it/s]\n",
      "                 Class     Images  Instances      Box(P          R      mAP50  mAP50-95): 100%|██████████| 2/2 [00:00<00:00,  5.22it/s]"
     ]
    },
    {
     "name": "stdout",
     "output_type": "stream",
     "text": [
      "                   all         40       2118      0.988      0.992      0.993      0.655\n"
     ]
    },
    {
     "name": "stderr",
     "output_type": "stream",
     "text": [
      "\n"
     ]
    },
    {
     "name": "stdout",
     "output_type": "stream",
     "text": [
      "\n",
      "      Epoch    GPU_mem   box_loss   cls_loss   dfl_loss  Instances       Size\n"
     ]
    },
    {
     "name": "stderr",
     "output_type": "stream",
     "text": [
      "      9/100      2.99G      1.252     0.6871     0.9536        928        640: 100%|██████████| 9/9 [00:01<00:00,  5.12it/s]\n",
      "                 Class     Images  Instances      Box(P          R      mAP50  mAP50-95): 100%|██████████| 2/2 [00:00<00:00,  5.52it/s]"
     ]
    },
    {
     "name": "stdout",
     "output_type": "stream",
     "text": [
      "                   all         40       2118      0.991      0.992      0.994      0.648\n"
     ]
    },
    {
     "name": "stderr",
     "output_type": "stream",
     "text": [
      "\n"
     ]
    },
    {
     "name": "stdout",
     "output_type": "stream",
     "text": [
      "\n",
      "      Epoch    GPU_mem   box_loss   cls_loss   dfl_loss  Instances       Size\n"
     ]
    },
    {
     "name": "stderr",
     "output_type": "stream",
     "text": [
      "     10/100      2.99G      1.203     0.6403     0.9398        852        640: 100%|██████████| 9/9 [00:01<00:00,  5.06it/s]\n",
      "                 Class     Images  Instances      Box(P          R      mAP50  mAP50-95): 100%|██████████| 2/2 [00:00<00:00,  5.03it/s]"
     ]
    },
    {
     "name": "stdout",
     "output_type": "stream",
     "text": [
      "                   all         40       2118      0.991      0.994      0.995      0.661\n"
     ]
    },
    {
     "name": "stderr",
     "output_type": "stream",
     "text": [
      "\n"
     ]
    },
    {
     "name": "stdout",
     "output_type": "stream",
     "text": [
      "\n",
      "      Epoch    GPU_mem   box_loss   cls_loss   dfl_loss  Instances       Size\n"
     ]
    },
    {
     "name": "stderr",
     "output_type": "stream",
     "text": [
      "     11/100      3.43G       1.24     0.6426      0.934       1015        640: 100%|██████████| 9/9 [00:01<00:00,  5.03it/s]\n",
      "                 Class     Images  Instances      Box(P          R      mAP50  mAP50-95): 100%|██████████| 2/2 [00:00<00:00,  5.37it/s]"
     ]
    },
    {
     "name": "stdout",
     "output_type": "stream",
     "text": [
      "                   all         40       2118      0.993      0.992      0.995      0.659\n"
     ]
    },
    {
     "name": "stderr",
     "output_type": "stream",
     "text": [
      "\n"
     ]
    },
    {
     "name": "stdout",
     "output_type": "stream",
     "text": [
      "\n",
      "      Epoch    GPU_mem   box_loss   cls_loss   dfl_loss  Instances       Size\n"
     ]
    },
    {
     "name": "stderr",
     "output_type": "stream",
     "text": [
      "     12/100       3.3G      1.178     0.6209     0.9207       1074        640: 100%|██████████| 9/9 [00:01<00:00,  4.76it/s]\n",
      "                 Class     Images  Instances      Box(P          R      mAP50  mAP50-95): 100%|██████████| 2/2 [00:00<00:00,  5.49it/s]"
     ]
    },
    {
     "name": "stdout",
     "output_type": "stream",
     "text": [
      "                   all         40       2118      0.994      0.995      0.995      0.674\n"
     ]
    },
    {
     "name": "stderr",
     "output_type": "stream",
     "text": [
      "\n"
     ]
    },
    {
     "name": "stdout",
     "output_type": "stream",
     "text": [
      "\n",
      "      Epoch    GPU_mem   box_loss   cls_loss   dfl_loss  Instances       Size\n"
     ]
    },
    {
     "name": "stderr",
     "output_type": "stream",
     "text": [
      "     13/100      2.87G      1.183     0.6233     0.9358        957        640: 100%|██████████| 9/9 [00:01<00:00,  5.02it/s]\n",
      "                 Class     Images  Instances      Box(P          R      mAP50  mAP50-95): 100%|██████████| 2/2 [00:00<00:00,  5.28it/s]"
     ]
    },
    {
     "name": "stdout",
     "output_type": "stream",
     "text": [
      "                   all         40       2118      0.992      0.994      0.994      0.685\n"
     ]
    },
    {
     "name": "stderr",
     "output_type": "stream",
     "text": [
      "\n"
     ]
    },
    {
     "name": "stdout",
     "output_type": "stream",
     "text": [
      "\n",
      "      Epoch    GPU_mem   box_loss   cls_loss   dfl_loss  Instances       Size\n"
     ]
    },
    {
     "name": "stderr",
     "output_type": "stream",
     "text": [
      "     14/100      3.27G      1.161     0.6079     0.9183       1130        640: 100%|██████████| 9/9 [00:01<00:00,  4.82it/s]\n",
      "                 Class     Images  Instances      Box(P          R      mAP50  mAP50-95): 100%|██████████| 2/2 [00:00<00:00,  5.29it/s]"
     ]
    },
    {
     "name": "stdout",
     "output_type": "stream",
     "text": [
      "                   all         40       2118      0.989      0.993      0.994       0.66\n"
     ]
    },
    {
     "name": "stderr",
     "output_type": "stream",
     "text": [
      "\n"
     ]
    },
    {
     "name": "stdout",
     "output_type": "stream",
     "text": [
      "\n",
      "      Epoch    GPU_mem   box_loss   cls_loss   dfl_loss  Instances       Size\n"
     ]
    },
    {
     "name": "stderr",
     "output_type": "stream",
     "text": [
      "     15/100       3.5G      1.151     0.6154     0.9296       1070        640: 100%|██████████| 9/9 [00:01<00:00,  4.84it/s]\n",
      "                 Class     Images  Instances      Box(P          R      mAP50  mAP50-95): 100%|██████████| 2/2 [00:00<00:00,  5.27it/s]"
     ]
    },
    {
     "name": "stdout",
     "output_type": "stream",
     "text": [
      "                   all         40       2118      0.992      0.994      0.995      0.713\n"
     ]
    },
    {
     "name": "stderr",
     "output_type": "stream",
     "text": [
      "\n"
     ]
    },
    {
     "name": "stdout",
     "output_type": "stream",
     "text": [
      "\n",
      "      Epoch    GPU_mem   box_loss   cls_loss   dfl_loss  Instances       Size\n"
     ]
    },
    {
     "name": "stderr",
     "output_type": "stream",
     "text": [
      "     16/100      3.38G      1.119     0.5995     0.9276        614        640: 100%|██████████| 9/9 [00:01<00:00,  4.94it/s]\n",
      "                 Class     Images  Instances      Box(P          R      mAP50  mAP50-95): 100%|██████████| 2/2 [00:00<00:00,  5.53it/s]"
     ]
    },
    {
     "name": "stdout",
     "output_type": "stream",
     "text": [
      "                   all         40       2118      0.991      0.993      0.994      0.686\n"
     ]
    },
    {
     "name": "stderr",
     "output_type": "stream",
     "text": [
      "\n"
     ]
    },
    {
     "name": "stdout",
     "output_type": "stream",
     "text": [
      "\n",
      "      Epoch    GPU_mem   box_loss   cls_loss   dfl_loss  Instances       Size\n"
     ]
    },
    {
     "name": "stderr",
     "output_type": "stream",
     "text": [
      "     17/100      2.94G      1.166     0.5967     0.9248       1118        640: 100%|██████████| 9/9 [00:01<00:00,  4.94it/s]\n",
      "                 Class     Images  Instances      Box(P          R      mAP50  mAP50-95): 100%|██████████| 2/2 [00:00<00:00,  5.21it/s]"
     ]
    },
    {
     "name": "stdout",
     "output_type": "stream",
     "text": [
      "                   all         40       2118      0.992      0.993      0.993      0.672\n"
     ]
    },
    {
     "name": "stderr",
     "output_type": "stream",
     "text": [
      "\n"
     ]
    },
    {
     "name": "stdout",
     "output_type": "stream",
     "text": [
      "\n",
      "      Epoch    GPU_mem   box_loss   cls_loss   dfl_loss  Instances       Size\n"
     ]
    },
    {
     "name": "stderr",
     "output_type": "stream",
     "text": [
      "     18/100      2.94G       1.23     0.5997     0.9445        885        640: 100%|██████████| 9/9 [00:01<00:00,  5.08it/s]\n",
      "                 Class     Images  Instances      Box(P          R      mAP50  mAP50-95): 100%|██████████| 2/2 [00:00<00:00,  5.42it/s]"
     ]
    },
    {
     "name": "stdout",
     "output_type": "stream",
     "text": [
      "                   all         40       2118      0.994      0.996      0.994      0.717\n"
     ]
    },
    {
     "name": "stderr",
     "output_type": "stream",
     "text": [
      "\n"
     ]
    },
    {
     "name": "stdout",
     "output_type": "stream",
     "text": [
      "\n",
      "      Epoch    GPU_mem   box_loss   cls_loss   dfl_loss  Instances       Size\n"
     ]
    },
    {
     "name": "stderr",
     "output_type": "stream",
     "text": [
      "     19/100      2.94G      1.198      0.585      0.941        914        640: 100%|██████████| 9/9 [00:01<00:00,  5.12it/s]\n",
      "                 Class     Images  Instances      Box(P          R      mAP50  mAP50-95): 100%|██████████| 2/2 [00:00<00:00,  5.59it/s]"
     ]
    },
    {
     "name": "stdout",
     "output_type": "stream",
     "text": [
      "                   all         40       2118      0.991      0.995      0.994      0.678\n"
     ]
    },
    {
     "name": "stderr",
     "output_type": "stream",
     "text": [
      "\n"
     ]
    },
    {
     "name": "stdout",
     "output_type": "stream",
     "text": [
      "\n",
      "      Epoch    GPU_mem   box_loss   cls_loss   dfl_loss  Instances       Size\n"
     ]
    },
    {
     "name": "stderr",
     "output_type": "stream",
     "text": [
      "     20/100      2.94G      1.136     0.5703     0.9233        873        640: 100%|██████████| 9/9 [00:01<00:00,  4.92it/s]\n",
      "                 Class     Images  Instances      Box(P          R      mAP50  mAP50-95): 100%|██████████| 2/2 [00:00<00:00,  5.28it/s]"
     ]
    },
    {
     "name": "stdout",
     "output_type": "stream",
     "text": [
      "                   all         40       2118      0.993      0.995      0.995       0.69\n"
     ]
    },
    {
     "name": "stderr",
     "output_type": "stream",
     "text": [
      "\n"
     ]
    },
    {
     "name": "stdout",
     "output_type": "stream",
     "text": [
      "\n",
      "      Epoch    GPU_mem   box_loss   cls_loss   dfl_loss  Instances       Size\n"
     ]
    },
    {
     "name": "stderr",
     "output_type": "stream",
     "text": [
      "     21/100      2.94G      1.157      0.571     0.9364       1107        640: 100%|██████████| 9/9 [00:01<00:00,  5.01it/s]\n",
      "                 Class     Images  Instances      Box(P          R      mAP50  mAP50-95): 100%|██████████| 2/2 [00:00<00:00,  5.43it/s]"
     ]
    },
    {
     "name": "stdout",
     "output_type": "stream",
     "text": [
      "                   all         40       2118      0.995      0.992      0.995      0.686\n"
     ]
    },
    {
     "name": "stderr",
     "output_type": "stream",
     "text": [
      "\n"
     ]
    },
    {
     "name": "stdout",
     "output_type": "stream",
     "text": [
      "\n",
      "      Epoch    GPU_mem   box_loss   cls_loss   dfl_loss  Instances       Size\n"
     ]
    },
    {
     "name": "stderr",
     "output_type": "stream",
     "text": [
      "     22/100      2.94G      1.161     0.5761     0.9335        936        640: 100%|██████████| 9/9 [00:01<00:00,  5.02it/s]\n",
      "                 Class     Images  Instances      Box(P          R      mAP50  mAP50-95): 100%|██████████| 2/2 [00:00<00:00,  5.20it/s]"
     ]
    },
    {
     "name": "stdout",
     "output_type": "stream",
     "text": [
      "                   all         40       2118      0.994      0.993      0.994      0.678\n"
     ]
    },
    {
     "name": "stderr",
     "output_type": "stream",
     "text": [
      "\n"
     ]
    },
    {
     "name": "stdout",
     "output_type": "stream",
     "text": [
      "\n",
      "      Epoch    GPU_mem   box_loss   cls_loss   dfl_loss  Instances       Size\n"
     ]
    },
    {
     "name": "stderr",
     "output_type": "stream",
     "text": [
      "     23/100      3.35G      1.145     0.5776     0.9376        989        640: 100%|██████████| 9/9 [00:01<00:00,  4.99it/s]\n",
      "                 Class     Images  Instances      Box(P          R      mAP50  mAP50-95): 100%|██████████| 2/2 [00:00<00:00,  5.05it/s]"
     ]
    },
    {
     "name": "stdout",
     "output_type": "stream",
     "text": [
      "                   all         40       2118      0.993      0.995      0.993      0.708\n"
     ]
    },
    {
     "name": "stderr",
     "output_type": "stream",
     "text": [
      "\n"
     ]
    },
    {
     "name": "stdout",
     "output_type": "stream",
     "text": [
      "\n",
      "      Epoch    GPU_mem   box_loss   cls_loss   dfl_loss  Instances       Size\n"
     ]
    },
    {
     "name": "stderr",
     "output_type": "stream",
     "text": [
      "     24/100      3.32G      1.104     0.5513     0.9131        884        640: 100%|██████████| 9/9 [00:01<00:00,  4.76it/s]\n",
      "                 Class     Images  Instances      Box(P          R      mAP50  mAP50-95): 100%|██████████| 2/2 [00:00<00:00,  5.46it/s]"
     ]
    },
    {
     "name": "stdout",
     "output_type": "stream",
     "text": [
      "                   all         40       2118      0.992      0.995      0.993      0.713\n"
     ]
    },
    {
     "name": "stderr",
     "output_type": "stream",
     "text": [
      "\n"
     ]
    },
    {
     "name": "stdout",
     "output_type": "stream",
     "text": [
      "\n",
      "      Epoch    GPU_mem   box_loss   cls_loss   dfl_loss  Instances       Size\n"
     ]
    },
    {
     "name": "stderr",
     "output_type": "stream",
     "text": [
      "     25/100      2.95G      1.091     0.5453     0.9136        665        640: 100%|██████████| 9/9 [00:01<00:00,  4.91it/s]\n",
      "                 Class     Images  Instances      Box(P          R      mAP50  mAP50-95): 100%|██████████| 2/2 [00:00<00:00,  5.43it/s]"
     ]
    },
    {
     "name": "stdout",
     "output_type": "stream",
     "text": [
      "                   all         40       2118      0.991      0.997      0.995      0.712\n"
     ]
    },
    {
     "name": "stderr",
     "output_type": "stream",
     "text": [
      "\n"
     ]
    },
    {
     "name": "stdout",
     "output_type": "stream",
     "text": [
      "\n",
      "      Epoch    GPU_mem   box_loss   cls_loss   dfl_loss  Instances       Size\n"
     ]
    },
    {
     "name": "stderr",
     "output_type": "stream",
     "text": [
      "     26/100      3.38G      1.097     0.5451      0.911        894        640: 100%|██████████| 9/9 [00:01<00:00,  5.03it/s]\n",
      "                 Class     Images  Instances      Box(P          R      mAP50  mAP50-95): 100%|██████████| 2/2 [00:00<00:00,  5.25it/s]"
     ]
    },
    {
     "name": "stdout",
     "output_type": "stream",
     "text": [
      "                   all         40       2118      0.994      0.994      0.995      0.721\n"
     ]
    },
    {
     "name": "stderr",
     "output_type": "stream",
     "text": [
      "\n"
     ]
    },
    {
     "name": "stdout",
     "output_type": "stream",
     "text": [
      "\n",
      "      Epoch    GPU_mem   box_loss   cls_loss   dfl_loss  Instances       Size\n"
     ]
    },
    {
     "name": "stderr",
     "output_type": "stream",
     "text": [
      "     27/100      3.39G      1.086     0.5349     0.9051        940        640: 100%|██████████| 9/9 [00:01<00:00,  4.83it/s]\n",
      "                 Class     Images  Instances      Box(P          R      mAP50  mAP50-95): 100%|██████████| 2/2 [00:00<00:00,  5.39it/s]"
     ]
    },
    {
     "name": "stdout",
     "output_type": "stream",
     "text": [
      "                   all         40       2118      0.994      0.996      0.995      0.698\n"
     ]
    },
    {
     "name": "stderr",
     "output_type": "stream",
     "text": [
      "\n"
     ]
    },
    {
     "name": "stdout",
     "output_type": "stream",
     "text": [
      "\n",
      "      Epoch    GPU_mem   box_loss   cls_loss   dfl_loss  Instances       Size\n"
     ]
    },
    {
     "name": "stderr",
     "output_type": "stream",
     "text": [
      "     28/100       3.6G      1.068     0.5311     0.9058        671        640: 100%|██████████| 9/9 [00:01<00:00,  4.50it/s]\n",
      "                 Class     Images  Instances      Box(P          R      mAP50  mAP50-95): 100%|██████████| 2/2 [00:00<00:00,  5.45it/s]"
     ]
    },
    {
     "name": "stdout",
     "output_type": "stream",
     "text": [
      "                   all         40       2118      0.993      0.996      0.993      0.698\n"
     ]
    },
    {
     "name": "stderr",
     "output_type": "stream",
     "text": [
      "\n"
     ]
    },
    {
     "name": "stdout",
     "output_type": "stream",
     "text": [
      "\n",
      "      Epoch    GPU_mem   box_loss   cls_loss   dfl_loss  Instances       Size\n"
     ]
    },
    {
     "name": "stderr",
     "output_type": "stream",
     "text": [
      "     29/100      2.93G      1.078     0.5367     0.9099       1257        640: 100%|██████████| 9/9 [00:01<00:00,  4.63it/s]\n",
      "                 Class     Images  Instances      Box(P          R      mAP50  mAP50-95): 100%|██████████| 2/2 [00:00<00:00,  5.44it/s]"
     ]
    },
    {
     "name": "stdout",
     "output_type": "stream",
     "text": [
      "                   all         40       2118      0.991      0.996      0.993      0.676\n"
     ]
    },
    {
     "name": "stderr",
     "output_type": "stream",
     "text": [
      "\n"
     ]
    },
    {
     "name": "stdout",
     "output_type": "stream",
     "text": [
      "\n",
      "      Epoch    GPU_mem   box_loss   cls_loss   dfl_loss  Instances       Size\n"
     ]
    },
    {
     "name": "stderr",
     "output_type": "stream",
     "text": [
      "     30/100      3.32G       1.06     0.5218     0.9075        741        640: 100%|██████████| 9/9 [00:01<00:00,  4.80it/s]\n",
      "                 Class     Images  Instances      Box(P          R      mAP50  mAP50-95): 100%|██████████| 2/2 [00:00<00:00,  5.41it/s]"
     ]
    },
    {
     "name": "stdout",
     "output_type": "stream",
     "text": [
      "                   all         40       2118      0.991      0.996      0.993      0.713\n"
     ]
    },
    {
     "name": "stderr",
     "output_type": "stream",
     "text": [
      "\n"
     ]
    },
    {
     "name": "stdout",
     "output_type": "stream",
     "text": [
      "\n",
      "      Epoch    GPU_mem   box_loss   cls_loss   dfl_loss  Instances       Size\n"
     ]
    },
    {
     "name": "stderr",
     "output_type": "stream",
     "text": [
      "     31/100      3.01G      1.045     0.5107     0.9041        733        640: 100%|██████████| 9/9 [00:01<00:00,  4.55it/s]\n",
      "                 Class     Images  Instances      Box(P          R      mAP50  mAP50-95): 100%|██████████| 2/2 [00:00<00:00,  5.09it/s]"
     ]
    },
    {
     "name": "stdout",
     "output_type": "stream",
     "text": [
      "                   all         40       2118      0.992      0.996      0.993      0.723\n"
     ]
    },
    {
     "name": "stderr",
     "output_type": "stream",
     "text": [
      "\n"
     ]
    },
    {
     "name": "stdout",
     "output_type": "stream",
     "text": [
      "\n",
      "      Epoch    GPU_mem   box_loss   cls_loss   dfl_loss  Instances       Size\n"
     ]
    },
    {
     "name": "stderr",
     "output_type": "stream",
     "text": [
      "     32/100      3.49G      1.033     0.5105     0.8957       1131        640: 100%|██████████| 9/9 [00:02<00:00,  4.41it/s]\n",
      "                 Class     Images  Instances      Box(P          R      mAP50  mAP50-95): 100%|██████████| 2/2 [00:00<00:00,  4.97it/s]"
     ]
    },
    {
     "name": "stdout",
     "output_type": "stream",
     "text": [
      "                   all         40       2118      0.992      0.995      0.995      0.719\n"
     ]
    },
    {
     "name": "stderr",
     "output_type": "stream",
     "text": [
      "\n"
     ]
    },
    {
     "name": "stdout",
     "output_type": "stream",
     "text": [
      "\n",
      "      Epoch    GPU_mem   box_loss   cls_loss   dfl_loss  Instances       Size\n"
     ]
    },
    {
     "name": "stderr",
     "output_type": "stream",
     "text": [
      "     33/100      3.07G      1.033     0.5083     0.9022       1241        640: 100%|██████████| 9/9 [00:01<00:00,  4.59it/s]\n",
      "                 Class     Images  Instances      Box(P          R      mAP50  mAP50-95): 100%|██████████| 2/2 [00:00<00:00,  5.21it/s]"
     ]
    },
    {
     "name": "stdout",
     "output_type": "stream",
     "text": [
      "                   all         40       2118      0.992      0.996      0.995      0.699\n"
     ]
    },
    {
     "name": "stderr",
     "output_type": "stream",
     "text": [
      "\n"
     ]
    },
    {
     "name": "stdout",
     "output_type": "stream",
     "text": [
      "\n",
      "      Epoch    GPU_mem   box_loss   cls_loss   dfl_loss  Instances       Size\n"
     ]
    },
    {
     "name": "stderr",
     "output_type": "stream",
     "text": [
      "     34/100      3.43G      1.067     0.5133     0.9041        672        640: 100%|██████████| 9/9 [00:02<00:00,  4.43it/s]\n",
      "                 Class     Images  Instances      Box(P          R      mAP50  mAP50-95): 100%|██████████| 2/2 [00:00<00:00,  4.73it/s]"
     ]
    },
    {
     "name": "stdout",
     "output_type": "stream",
     "text": [
      "                   all         40       2118      0.992      0.995      0.995      0.724\n"
     ]
    },
    {
     "name": "stderr",
     "output_type": "stream",
     "text": [
      "\n"
     ]
    },
    {
     "name": "stdout",
     "output_type": "stream",
     "text": [
      "\n",
      "      Epoch    GPU_mem   box_loss   cls_loss   dfl_loss  Instances       Size\n"
     ]
    },
    {
     "name": "stderr",
     "output_type": "stream",
     "text": [
      "     35/100      3.69G      1.032     0.5071     0.8871        653        640: 100%|██████████| 9/9 [00:02<00:00,  4.22it/s]\n",
      "                 Class     Images  Instances      Box(P          R      mAP50  mAP50-95): 100%|██████████| 2/2 [00:00<00:00,  4.58it/s]"
     ]
    },
    {
     "name": "stdout",
     "output_type": "stream",
     "text": [
      "                   all         40       2118      0.991      0.998      0.994      0.712\n"
     ]
    },
    {
     "name": "stderr",
     "output_type": "stream",
     "text": [
      "\n"
     ]
    },
    {
     "name": "stdout",
     "output_type": "stream",
     "text": [
      "\n",
      "      Epoch    GPU_mem   box_loss   cls_loss   dfl_loss  Instances       Size\n"
     ]
    },
    {
     "name": "stderr",
     "output_type": "stream",
     "text": [
      "     36/100      2.91G      1.024      0.496     0.8925        839        640: 100%|██████████| 9/9 [00:02<00:00,  4.10it/s]\n",
      "                 Class     Images  Instances      Box(P          R      mAP50  mAP50-95): 100%|██████████| 2/2 [00:00<00:00,  4.98it/s]"
     ]
    },
    {
     "name": "stdout",
     "output_type": "stream",
     "text": [
      "                   all         40       2118      0.991      0.996      0.994      0.732\n"
     ]
    },
    {
     "name": "stderr",
     "output_type": "stream",
     "text": [
      "\n"
     ]
    },
    {
     "name": "stdout",
     "output_type": "stream",
     "text": [
      "\n",
      "      Epoch    GPU_mem   box_loss   cls_loss   dfl_loss  Instances       Size\n"
     ]
    },
    {
     "name": "stderr",
     "output_type": "stream",
     "text": [
      "     37/100      2.91G      1.031     0.4984     0.9009        646        640: 100%|██████████| 9/9 [00:02<00:00,  4.27it/s]\n",
      "                 Class     Images  Instances      Box(P          R      mAP50  mAP50-95): 100%|██████████| 2/2 [00:00<00:00,  4.97it/s]"
     ]
    },
    {
     "name": "stdout",
     "output_type": "stream",
     "text": [
      "                   all         40       2118      0.991      0.998      0.995      0.731\n"
     ]
    },
    {
     "name": "stderr",
     "output_type": "stream",
     "text": [
      "\n"
     ]
    },
    {
     "name": "stdout",
     "output_type": "stream",
     "text": [
      "\n",
      "      Epoch    GPU_mem   box_loss   cls_loss   dfl_loss  Instances       Size\n"
     ]
    },
    {
     "name": "stderr",
     "output_type": "stream",
     "text": [
      "     38/100      2.91G      1.023     0.4982     0.9002        897        640: 100%|██████████| 9/9 [00:02<00:00,  4.14it/s]\n",
      "                 Class     Images  Instances      Box(P          R      mAP50  mAP50-95): 100%|██████████| 2/2 [00:00<00:00,  4.31it/s]"
     ]
    },
    {
     "name": "stdout",
     "output_type": "stream",
     "text": [
      "                   all         40       2118      0.991      0.998      0.994      0.713\n"
     ]
    },
    {
     "name": "stderr",
     "output_type": "stream",
     "text": [
      "\n"
     ]
    },
    {
     "name": "stdout",
     "output_type": "stream",
     "text": [
      "\n",
      "      Epoch    GPU_mem   box_loss   cls_loss   dfl_loss  Instances       Size\n"
     ]
    },
    {
     "name": "stderr",
     "output_type": "stream",
     "text": [
      "     39/100      2.91G      1.031      0.497     0.9022        689        640: 100%|██████████| 9/9 [00:02<00:00,  4.12it/s]\n",
      "                 Class     Images  Instances      Box(P          R      mAP50  mAP50-95): 100%|██████████| 2/2 [00:00<00:00,  4.64it/s]"
     ]
    },
    {
     "name": "stdout",
     "output_type": "stream",
     "text": [
      "                   all         40       2118      0.992      0.999      0.995      0.735\n"
     ]
    },
    {
     "name": "stderr",
     "output_type": "stream",
     "text": [
      "\n"
     ]
    },
    {
     "name": "stdout",
     "output_type": "stream",
     "text": [
      "\n",
      "      Epoch    GPU_mem   box_loss   cls_loss   dfl_loss  Instances       Size\n"
     ]
    },
    {
     "name": "stderr",
     "output_type": "stream",
     "text": [
      "     40/100      3.32G      1.022     0.4912     0.9016        730        640: 100%|██████████| 9/9 [00:02<00:00,  3.87it/s]\n",
      "                 Class     Images  Instances      Box(P          R      mAP50  mAP50-95): 100%|██████████| 2/2 [00:00<00:00,  4.68it/s]"
     ]
    },
    {
     "name": "stdout",
     "output_type": "stream",
     "text": [
      "                   all         40       2118      0.995      0.993      0.995      0.741\n"
     ]
    },
    {
     "name": "stderr",
     "output_type": "stream",
     "text": [
      "\n"
     ]
    },
    {
     "name": "stdout",
     "output_type": "stream",
     "text": [
      "\n",
      "      Epoch    GPU_mem   box_loss   cls_loss   dfl_loss  Instances       Size\n"
     ]
    },
    {
     "name": "stderr",
     "output_type": "stream",
     "text": [
      "     41/100      3.48G      1.035      0.503     0.8944        839        640: 100%|██████████| 9/9 [00:02<00:00,  3.77it/s]\n",
      "                 Class     Images  Instances      Box(P          R      mAP50  mAP50-95): 100%|██████████| 2/2 [00:00<00:00,  4.92it/s]"
     ]
    },
    {
     "name": "stdout",
     "output_type": "stream",
     "text": [
      "                   all         40       2118      0.993      0.996      0.995      0.733\n"
     ]
    },
    {
     "name": "stderr",
     "output_type": "stream",
     "text": [
      "\n"
     ]
    },
    {
     "name": "stdout",
     "output_type": "stream",
     "text": [
      "\n",
      "      Epoch    GPU_mem   box_loss   cls_loss   dfl_loss  Instances       Size\n"
     ]
    },
    {
     "name": "stderr",
     "output_type": "stream",
     "text": [
      "     42/100      3.12G      1.006     0.4861      0.891       1029        640: 100%|██████████| 9/9 [00:02<00:00,  4.14it/s]\n",
      "                 Class     Images  Instances      Box(P          R      mAP50  mAP50-95): 100%|██████████| 2/2 [00:00<00:00,  4.33it/s]"
     ]
    },
    {
     "name": "stdout",
     "output_type": "stream",
     "text": [
      "                   all         40       2118      0.992      0.998      0.995       0.73\n"
     ]
    },
    {
     "name": "stderr",
     "output_type": "stream",
     "text": [
      "\n"
     ]
    },
    {
     "name": "stdout",
     "output_type": "stream",
     "text": [
      "\n",
      "      Epoch    GPU_mem   box_loss   cls_loss   dfl_loss  Instances       Size\n"
     ]
    },
    {
     "name": "stderr",
     "output_type": "stream",
     "text": [
      "     43/100      3.53G     0.9857     0.4712     0.8835        811        640: 100%|██████████| 9/9 [00:02<00:00,  3.68it/s]\n",
      "                 Class     Images  Instances      Box(P          R      mAP50  mAP50-95): 100%|██████████| 2/2 [00:00<00:00,  4.12it/s]"
     ]
    },
    {
     "name": "stdout",
     "output_type": "stream",
     "text": [
      "                   all         40       2118      0.992      0.998      0.995      0.738\n"
     ]
    },
    {
     "name": "stderr",
     "output_type": "stream",
     "text": [
      "\n"
     ]
    },
    {
     "name": "stdout",
     "output_type": "stream",
     "text": [
      "\n",
      "      Epoch    GPU_mem   box_loss   cls_loss   dfl_loss  Instances       Size\n"
     ]
    },
    {
     "name": "stderr",
     "output_type": "stream",
     "text": [
      "     44/100      3.88G      1.002     0.4731     0.8933       1128        640: 100%|██████████| 9/9 [00:02<00:00,  3.78it/s]\n",
      "                 Class     Images  Instances      Box(P          R      mAP50  mAP50-95): 100%|██████████| 2/2 [00:00<00:00,  4.55it/s]"
     ]
    },
    {
     "name": "stdout",
     "output_type": "stream",
     "text": [
      "                   all         40       2118      0.993      0.997      0.995      0.738\n"
     ]
    },
    {
     "name": "stderr",
     "output_type": "stream",
     "text": [
      "\n"
     ]
    },
    {
     "name": "stdout",
     "output_type": "stream",
     "text": [
      "\n",
      "      Epoch    GPU_mem   box_loss   cls_loss   dfl_loss  Instances       Size\n"
     ]
    },
    {
     "name": "stderr",
     "output_type": "stream",
     "text": [
      "     45/100      3.34G     0.9884     0.4889     0.8889        737        640: 100%|██████████| 9/9 [00:02<00:00,  4.13it/s]\n",
      "                 Class     Images  Instances      Box(P          R      mAP50  mAP50-95): 100%|██████████| 2/2 [00:00<00:00,  4.57it/s]"
     ]
    },
    {
     "name": "stdout",
     "output_type": "stream",
     "text": [
      "                   all         40       2118      0.991      0.999      0.995      0.733\n"
     ]
    },
    {
     "name": "stderr",
     "output_type": "stream",
     "text": [
      "\n"
     ]
    },
    {
     "name": "stdout",
     "output_type": "stream",
     "text": [
      "\n",
      "      Epoch    GPU_mem   box_loss   cls_loss   dfl_loss  Instances       Size\n"
     ]
    },
    {
     "name": "stderr",
     "output_type": "stream",
     "text": [
      "     46/100      3.91G      0.985     0.4697     0.8851        935        640: 100%|██████████| 9/9 [00:02<00:00,  4.35it/s]\n",
      "                 Class     Images  Instances      Box(P          R      mAP50  mAP50-95): 100%|██████████| 2/2 [00:00<00:00,  4.76it/s]"
     ]
    },
    {
     "name": "stdout",
     "output_type": "stream",
     "text": [
      "                   all         40       2118      0.991      0.999      0.995      0.741\n"
     ]
    },
    {
     "name": "stderr",
     "output_type": "stream",
     "text": [
      "\n"
     ]
    },
    {
     "name": "stdout",
     "output_type": "stream",
     "text": [
      "\n",
      "      Epoch    GPU_mem   box_loss   cls_loss   dfl_loss  Instances       Size\n"
     ]
    },
    {
     "name": "stderr",
     "output_type": "stream",
     "text": [
      "     47/100      3.79G     0.9767     0.4638     0.8796        968        640: 100%|██████████| 9/9 [00:02<00:00,  4.37it/s]\n",
      "                 Class     Images  Instances      Box(P          R      mAP50  mAP50-95): 100%|██████████| 2/2 [00:00<00:00,  5.09it/s]"
     ]
    },
    {
     "name": "stdout",
     "output_type": "stream",
     "text": [
      "                   all         40       2118      0.991      0.999      0.995      0.739\n"
     ]
    },
    {
     "name": "stderr",
     "output_type": "stream",
     "text": [
      "\n"
     ]
    },
    {
     "name": "stdout",
     "output_type": "stream",
     "text": [
      "\n",
      "      Epoch    GPU_mem   box_loss   cls_loss   dfl_loss  Instances       Size\n"
     ]
    },
    {
     "name": "stderr",
     "output_type": "stream",
     "text": [
      "     48/100       3.3G     0.9717     0.4521     0.8886        939        640: 100%|██████████| 9/9 [00:02<00:00,  4.39it/s]\n",
      "                 Class     Images  Instances      Box(P          R      mAP50  mAP50-95): 100%|██████████| 2/2 [00:00<00:00,  4.29it/s]"
     ]
    },
    {
     "name": "stdout",
     "output_type": "stream",
     "text": [
      "                   all         40       2118      0.991      0.998      0.995      0.731\n"
     ]
    },
    {
     "name": "stderr",
     "output_type": "stream",
     "text": [
      "\n"
     ]
    },
    {
     "name": "stdout",
     "output_type": "stream",
     "text": [
      "\n",
      "      Epoch    GPU_mem   box_loss   cls_loss   dfl_loss  Instances       Size\n"
     ]
    },
    {
     "name": "stderr",
     "output_type": "stream",
     "text": [
      "     49/100      3.83G      1.006     0.4796     0.8924        615        640: 100%|██████████| 9/9 [00:02<00:00,  4.48it/s]\n",
      "                 Class     Images  Instances      Box(P          R      mAP50  mAP50-95): 100%|██████████| 2/2 [00:00<00:00,  4.43it/s]"
     ]
    },
    {
     "name": "stdout",
     "output_type": "stream",
     "text": [
      "                   all         40       2118       0.99      0.998      0.995      0.741\n"
     ]
    },
    {
     "name": "stderr",
     "output_type": "stream",
     "text": [
      "\n"
     ]
    },
    {
     "name": "stdout",
     "output_type": "stream",
     "text": [
      "\n",
      "      Epoch    GPU_mem   box_loss   cls_loss   dfl_loss  Instances       Size\n"
     ]
    },
    {
     "name": "stderr",
     "output_type": "stream",
     "text": [
      "     50/100      3.25G     0.9932      0.469      0.881       1076        640: 100%|██████████| 9/9 [00:01<00:00,  4.67it/s]\n",
      "                 Class     Images  Instances      Box(P          R      mAP50  mAP50-95): 100%|██████████| 2/2 [00:00<00:00,  4.62it/s]"
     ]
    },
    {
     "name": "stdout",
     "output_type": "stream",
     "text": [
      "                   all         40       2118      0.992      0.998      0.995      0.738\n"
     ]
    },
    {
     "name": "stderr",
     "output_type": "stream",
     "text": [
      "\n"
     ]
    },
    {
     "name": "stdout",
     "output_type": "stream",
     "text": [
      "\n",
      "      Epoch    GPU_mem   box_loss   cls_loss   dfl_loss  Instances       Size\n"
     ]
    },
    {
     "name": "stderr",
     "output_type": "stream",
     "text": [
      "     51/100      2.94G     0.9796     0.4565      0.887        890        640: 100%|██████████| 9/9 [00:01<00:00,  4.62it/s]\n",
      "                 Class     Images  Instances      Box(P          R      mAP50  mAP50-95): 100%|██████████| 2/2 [00:00<00:00,  4.32it/s]"
     ]
    },
    {
     "name": "stdout",
     "output_type": "stream",
     "text": [
      "                   all         40       2118       0.99      0.998      0.995      0.742\n"
     ]
    },
    {
     "name": "stderr",
     "output_type": "stream",
     "text": [
      "\n"
     ]
    },
    {
     "name": "stdout",
     "output_type": "stream",
     "text": [
      "\n",
      "      Epoch    GPU_mem   box_loss   cls_loss   dfl_loss  Instances       Size\n"
     ]
    },
    {
     "name": "stderr",
     "output_type": "stream",
     "text": [
      "     52/100      2.95G     0.9763     0.4541     0.8856        784        640: 100%|██████████| 9/9 [00:01<00:00,  4.71it/s]\n",
      "                 Class     Images  Instances      Box(P          R      mAP50  mAP50-95): 100%|██████████| 2/2 [00:00<00:00,  3.85it/s]"
     ]
    },
    {
     "name": "stdout",
     "output_type": "stream",
     "text": [
      "                   all         40       2118      0.992      0.997      0.995      0.744\n"
     ]
    },
    {
     "name": "stderr",
     "output_type": "stream",
     "text": [
      "\n"
     ]
    },
    {
     "name": "stdout",
     "output_type": "stream",
     "text": [
      "\n",
      "      Epoch    GPU_mem   box_loss   cls_loss   dfl_loss  Instances       Size\n"
     ]
    },
    {
     "name": "stderr",
     "output_type": "stream",
     "text": [
      "     53/100      2.95G      0.971      0.451     0.8843       1087        640: 100%|██████████| 9/9 [00:01<00:00,  4.69it/s]\n",
      "                 Class     Images  Instances      Box(P          R      mAP50  mAP50-95): 100%|██████████| 2/2 [00:00<00:00,  4.73it/s]"
     ]
    },
    {
     "name": "stdout",
     "output_type": "stream",
     "text": [
      "                   all         40       2118      0.992      0.998      0.995      0.744\n"
     ]
    },
    {
     "name": "stderr",
     "output_type": "stream",
     "text": [
      "\n"
     ]
    },
    {
     "name": "stdout",
     "output_type": "stream",
     "text": [
      "\n",
      "      Epoch    GPU_mem   box_loss   cls_loss   dfl_loss  Instances       Size\n"
     ]
    },
    {
     "name": "stderr",
     "output_type": "stream",
     "text": [
      "     54/100      2.95G     0.9697     0.4464      0.888       1165        640: 100%|██████████| 9/9 [00:01<00:00,  4.75it/s]\n",
      "                 Class     Images  Instances      Box(P          R      mAP50  mAP50-95): 100%|██████████| 2/2 [00:00<00:00,  4.88it/s]"
     ]
    },
    {
     "name": "stdout",
     "output_type": "stream",
     "text": [
      "                   all         40       2118      0.993      0.998      0.995      0.741\n"
     ]
    },
    {
     "name": "stderr",
     "output_type": "stream",
     "text": [
      "\n"
     ]
    },
    {
     "name": "stdout",
     "output_type": "stream",
     "text": [
      "\n",
      "      Epoch    GPU_mem   box_loss   cls_loss   dfl_loss  Instances       Size\n"
     ]
    },
    {
     "name": "stderr",
     "output_type": "stream",
     "text": [
      "     55/100      2.95G     0.9708     0.4498     0.8867        817        640: 100%|██████████| 9/9 [00:01<00:00,  4.71it/s]\n",
      "                 Class     Images  Instances      Box(P          R      mAP50  mAP50-95): 100%|██████████| 2/2 [00:00<00:00,  4.08it/s]"
     ]
    },
    {
     "name": "stdout",
     "output_type": "stream",
     "text": [
      "                   all         40       2118      0.992      0.998      0.995      0.734\n"
     ]
    },
    {
     "name": "stderr",
     "output_type": "stream",
     "text": [
      "\n"
     ]
    },
    {
     "name": "stdout",
     "output_type": "stream",
     "text": [
      "\n",
      "      Epoch    GPU_mem   box_loss   cls_loss   dfl_loss  Instances       Size\n"
     ]
    },
    {
     "name": "stderr",
     "output_type": "stream",
     "text": [
      "     56/100      3.38G     0.9629      0.448     0.8834        809        640: 100%|██████████| 9/9 [00:01<00:00,  4.80it/s]\n",
      "                 Class     Images  Instances      Box(P          R      mAP50  mAP50-95): 100%|██████████| 2/2 [00:00<00:00,  4.76it/s]"
     ]
    },
    {
     "name": "stdout",
     "output_type": "stream",
     "text": [
      "                   all         40       2118      0.993      0.998      0.995      0.743\n"
     ]
    },
    {
     "name": "stderr",
     "output_type": "stream",
     "text": [
      "\n"
     ]
    },
    {
     "name": "stdout",
     "output_type": "stream",
     "text": [
      "\n",
      "      Epoch    GPU_mem   box_loss   cls_loss   dfl_loss  Instances       Size\n"
     ]
    },
    {
     "name": "stderr",
     "output_type": "stream",
     "text": [
      "     57/100      3.56G     0.9556      0.441     0.8797        951        640: 100%|██████████| 9/9 [00:01<00:00,  4.84it/s]\n",
      "                 Class     Images  Instances      Box(P          R      mAP50  mAP50-95): 100%|██████████| 2/2 [00:00<00:00,  4.37it/s]"
     ]
    },
    {
     "name": "stdout",
     "output_type": "stream",
     "text": [
      "                   all         40       2118      0.993      0.998      0.995      0.739\n"
     ]
    },
    {
     "name": "stderr",
     "output_type": "stream",
     "text": [
      "\n"
     ]
    },
    {
     "name": "stdout",
     "output_type": "stream",
     "text": [
      "\n",
      "      Epoch    GPU_mem   box_loss   cls_loss   dfl_loss  Instances       Size\n"
     ]
    },
    {
     "name": "stderr",
     "output_type": "stream",
     "text": [
      "     58/100      3.52G     0.9475      0.436     0.8803        871        640: 100%|██████████| 9/9 [00:01<00:00,  4.58it/s]\n",
      "                 Class     Images  Instances      Box(P          R      mAP50  mAP50-95): 100%|██████████| 2/2 [00:00<00:00,  3.76it/s]"
     ]
    },
    {
     "name": "stdout",
     "output_type": "stream",
     "text": [
      "                   all         40       2118      0.992      0.999      0.995       0.74\n"
     ]
    },
    {
     "name": "stderr",
     "output_type": "stream",
     "text": [
      "\n"
     ]
    },
    {
     "name": "stdout",
     "output_type": "stream",
     "text": [
      "\n",
      "      Epoch    GPU_mem   box_loss   cls_loss   dfl_loss  Instances       Size\n"
     ]
    },
    {
     "name": "stderr",
     "output_type": "stream",
     "text": [
      "     59/100      3.49G     0.9654     0.4393     0.8757       1048        640: 100%|██████████| 9/9 [00:01<00:00,  4.59it/s]\n",
      "                 Class     Images  Instances      Box(P          R      mAP50  mAP50-95): 100%|██████████| 2/2 [00:00<00:00,  5.10it/s]"
     ]
    },
    {
     "name": "stdout",
     "output_type": "stream",
     "text": [
      "                   all         40       2118      0.992      0.998      0.995      0.733\n"
     ]
    },
    {
     "name": "stderr",
     "output_type": "stream",
     "text": [
      "\n"
     ]
    },
    {
     "name": "stdout",
     "output_type": "stream",
     "text": [
      "\n",
      "      Epoch    GPU_mem   box_loss   cls_loss   dfl_loss  Instances       Size\n"
     ]
    },
    {
     "name": "stderr",
     "output_type": "stream",
     "text": [
      "     60/100      3.44G     0.9603     0.4439     0.8901        826        640: 100%|██████████| 9/9 [00:01<00:00,  4.55it/s]\n",
      "                 Class     Images  Instances      Box(P          R      mAP50  mAP50-95): 100%|██████████| 2/2 [00:00<00:00,  5.16it/s]"
     ]
    },
    {
     "name": "stdout",
     "output_type": "stream",
     "text": [
      "                   all         40       2118      0.993      0.997      0.995      0.731\n"
     ]
    },
    {
     "name": "stderr",
     "output_type": "stream",
     "text": [
      "\n"
     ]
    },
    {
     "name": "stdout",
     "output_type": "stream",
     "text": [
      "\n",
      "      Epoch    GPU_mem   box_loss   cls_loss   dfl_loss  Instances       Size\n"
     ]
    },
    {
     "name": "stderr",
     "output_type": "stream",
     "text": [
      "     61/100      3.17G     0.9814     0.4533     0.8882       1282        640: 100%|██████████| 9/9 [00:01<00:00,  4.85it/s]\n",
      "                 Class     Images  Instances      Box(P          R      mAP50  mAP50-95): 100%|██████████| 2/2 [00:00<00:00,  5.08it/s]"
     ]
    },
    {
     "name": "stdout",
     "output_type": "stream",
     "text": [
      "                   all         40       2118      0.993      0.998      0.995      0.741\n"
     ]
    },
    {
     "name": "stderr",
     "output_type": "stream",
     "text": [
      "\n"
     ]
    },
    {
     "name": "stdout",
     "output_type": "stream",
     "text": [
      "\n",
      "      Epoch    GPU_mem   box_loss   cls_loss   dfl_loss  Instances       Size\n"
     ]
    },
    {
     "name": "stderr",
     "output_type": "stream",
     "text": [
      "     62/100      3.37G     0.9556     0.4426     0.8744        818        640: 100%|██████████| 9/9 [00:01<00:00,  4.56it/s]\n",
      "                 Class     Images  Instances      Box(P          R      mAP50  mAP50-95): 100%|██████████| 2/2 [00:00<00:00,  4.39it/s]"
     ]
    },
    {
     "name": "stdout",
     "output_type": "stream",
     "text": [
      "                   all         40       2118      0.993      0.998      0.995      0.741\n"
     ]
    },
    {
     "name": "stderr",
     "output_type": "stream",
     "text": [
      "\n"
     ]
    },
    {
     "name": "stdout",
     "output_type": "stream",
     "text": [
      "\n",
      "      Epoch    GPU_mem   box_loss   cls_loss   dfl_loss  Instances       Size\n"
     ]
    },
    {
     "name": "stderr",
     "output_type": "stream",
     "text": [
      "     63/100      3.33G     0.9448     0.4314      0.877        819        640: 100%|██████████| 9/9 [00:01<00:00,  4.73it/s]\n",
      "                 Class     Images  Instances      Box(P          R      mAP50  mAP50-95): 100%|██████████| 2/2 [00:00<00:00,  4.85it/s]"
     ]
    },
    {
     "name": "stdout",
     "output_type": "stream",
     "text": [
      "                   all         40       2118      0.992      0.998      0.995      0.741\n"
     ]
    },
    {
     "name": "stderr",
     "output_type": "stream",
     "text": [
      "\n"
     ]
    },
    {
     "name": "stdout",
     "output_type": "stream",
     "text": [
      "\n",
      "      Epoch    GPU_mem   box_loss   cls_loss   dfl_loss  Instances       Size\n"
     ]
    },
    {
     "name": "stderr",
     "output_type": "stream",
     "text": [
      "     64/100      3.45G     0.9348     0.4284     0.8848        909        640: 100%|██████████| 9/9 [00:01<00:00,  4.85it/s]\n",
      "                 Class     Images  Instances      Box(P          R      mAP50  mAP50-95): 100%|██████████| 2/2 [00:00<00:00,  4.51it/s]"
     ]
    },
    {
     "name": "stdout",
     "output_type": "stream",
     "text": [
      "                   all         40       2118      0.993      0.997      0.995      0.746\n"
     ]
    },
    {
     "name": "stderr",
     "output_type": "stream",
     "text": [
      "\n"
     ]
    },
    {
     "name": "stdout",
     "output_type": "stream",
     "text": [
      "\n",
      "      Epoch    GPU_mem   box_loss   cls_loss   dfl_loss  Instances       Size\n"
     ]
    },
    {
     "name": "stderr",
     "output_type": "stream",
     "text": [
      "     65/100      3.47G     0.9392     0.4333     0.8758        858        640: 100%|██████████| 9/9 [00:01<00:00,  4.76it/s]\n",
      "                 Class     Images  Instances      Box(P          R      mAP50  mAP50-95): 100%|██████████| 2/2 [00:00<00:00,  5.07it/s]"
     ]
    },
    {
     "name": "stdout",
     "output_type": "stream",
     "text": [
      "                   all         40       2118      0.992      0.999      0.995      0.745\n"
     ]
    },
    {
     "name": "stderr",
     "output_type": "stream",
     "text": [
      "\n"
     ]
    },
    {
     "name": "stdout",
     "output_type": "stream",
     "text": [
      "\n",
      "      Epoch    GPU_mem   box_loss   cls_loss   dfl_loss  Instances       Size\n"
     ]
    },
    {
     "name": "stderr",
     "output_type": "stream",
     "text": [
      "     66/100      3.26G      0.938     0.4285     0.8826       1109        640: 100%|██████████| 9/9 [00:01<00:00,  4.84it/s]\n",
      "                 Class     Images  Instances      Box(P          R      mAP50  mAP50-95): 100%|██████████| 2/2 [00:00<00:00,  5.58it/s]"
     ]
    },
    {
     "name": "stdout",
     "output_type": "stream",
     "text": [
      "                   all         40       2118      0.993      0.998      0.995      0.747\n"
     ]
    },
    {
     "name": "stderr",
     "output_type": "stream",
     "text": [
      "\n"
     ]
    },
    {
     "name": "stdout",
     "output_type": "stream",
     "text": [
      "\n",
      "      Epoch    GPU_mem   box_loss   cls_loss   dfl_loss  Instances       Size\n"
     ]
    },
    {
     "name": "stderr",
     "output_type": "stream",
     "text": [
      "     67/100      3.29G     0.9415     0.4251     0.8822       1130        640: 100%|██████████| 9/9 [00:01<00:00,  4.86it/s]\n",
      "                 Class     Images  Instances      Box(P          R      mAP50  mAP50-95): 100%|██████████| 2/2 [00:00<00:00,  5.55it/s]"
     ]
    },
    {
     "name": "stdout",
     "output_type": "stream",
     "text": [
      "                   all         40       2118      0.994      0.998      0.995      0.741\n"
     ]
    },
    {
     "name": "stderr",
     "output_type": "stream",
     "text": [
      "\n"
     ]
    },
    {
     "name": "stdout",
     "output_type": "stream",
     "text": [
      "\n",
      "      Epoch    GPU_mem   box_loss   cls_loss   dfl_loss  Instances       Size\n"
     ]
    },
    {
     "name": "stderr",
     "output_type": "stream",
     "text": [
      "     68/100      3.45G     0.9496     0.4377     0.8789        613        640: 100%|██████████| 9/9 [00:01<00:00,  4.69it/s]\n",
      "                 Class     Images  Instances      Box(P          R      mAP50  mAP50-95): 100%|██████████| 2/2 [00:00<00:00,  5.02it/s]"
     ]
    },
    {
     "name": "stdout",
     "output_type": "stream",
     "text": [
      "                   all         40       2118      0.993      0.999      0.995      0.735\n"
     ]
    },
    {
     "name": "stderr",
     "output_type": "stream",
     "text": [
      "\n"
     ]
    },
    {
     "name": "stdout",
     "output_type": "stream",
     "text": [
      "\n",
      "      Epoch    GPU_mem   box_loss   cls_loss   dfl_loss  Instances       Size\n"
     ]
    },
    {
     "name": "stderr",
     "output_type": "stream",
     "text": [
      "     69/100      3.26G     0.9338     0.4227      0.877        976        640: 100%|██████████| 9/9 [00:01<00:00,  4.97it/s]\n",
      "                 Class     Images  Instances      Box(P          R      mAP50  mAP50-95): 100%|██████████| 2/2 [00:00<00:00,  4.29it/s]"
     ]
    },
    {
     "name": "stdout",
     "output_type": "stream",
     "text": [
      "                   all         40       2118      0.994      0.996      0.995      0.747\n"
     ]
    },
    {
     "name": "stderr",
     "output_type": "stream",
     "text": [
      "\n"
     ]
    },
    {
     "name": "stdout",
     "output_type": "stream",
     "text": [
      "\n",
      "      Epoch    GPU_mem   box_loss   cls_loss   dfl_loss  Instances       Size\n"
     ]
    },
    {
     "name": "stderr",
     "output_type": "stream",
     "text": [
      "     70/100      3.01G     0.9382      0.421     0.8755        916        640: 100%|██████████| 9/9 [00:01<00:00,  4.63it/s]\n",
      "                 Class     Images  Instances      Box(P          R      mAP50  mAP50-95): 100%|██████████| 2/2 [00:00<00:00,  4.69it/s]"
     ]
    },
    {
     "name": "stdout",
     "output_type": "stream",
     "text": [
      "                   all         40       2118      0.993      0.998      0.995      0.749\n"
     ]
    },
    {
     "name": "stderr",
     "output_type": "stream",
     "text": [
      "\n"
     ]
    },
    {
     "name": "stdout",
     "output_type": "stream",
     "text": [
      "\n",
      "      Epoch    GPU_mem   box_loss   cls_loss   dfl_loss  Instances       Size\n"
     ]
    },
    {
     "name": "stderr",
     "output_type": "stream",
     "text": [
      "     71/100      3.07G     0.9322     0.4182     0.8778        941        640: 100%|██████████| 9/9 [00:01<00:00,  4.80it/s]\n",
      "                 Class     Images  Instances      Box(P          R      mAP50  mAP50-95): 100%|██████████| 2/2 [00:00<00:00,  4.31it/s]"
     ]
    },
    {
     "name": "stdout",
     "output_type": "stream",
     "text": [
      "                   all         40       2118      0.993      0.997      0.995      0.743\n"
     ]
    },
    {
     "name": "stderr",
     "output_type": "stream",
     "text": [
      "\n"
     ]
    },
    {
     "name": "stdout",
     "output_type": "stream",
     "text": [
      "\n",
      "      Epoch    GPU_mem   box_loss   cls_loss   dfl_loss  Instances       Size\n"
     ]
    },
    {
     "name": "stderr",
     "output_type": "stream",
     "text": [
      "     72/100      3.16G     0.9329     0.4188     0.8774        846        640: 100%|██████████| 9/9 [00:01<00:00,  4.50it/s]\n",
      "                 Class     Images  Instances      Box(P          R      mAP50  mAP50-95): 100%|██████████| 2/2 [00:00<00:00,  4.47it/s]"
     ]
    },
    {
     "name": "stdout",
     "output_type": "stream",
     "text": [
      "                   all         40       2118      0.993      0.998      0.995      0.743\n"
     ]
    },
    {
     "name": "stderr",
     "output_type": "stream",
     "text": [
      "\n"
     ]
    },
    {
     "name": "stdout",
     "output_type": "stream",
     "text": [
      "\n",
      "      Epoch    GPU_mem   box_loss   cls_loss   dfl_loss  Instances       Size\n"
     ]
    },
    {
     "name": "stderr",
     "output_type": "stream",
     "text": [
      "     73/100      2.82G     0.9281      0.414     0.8732        988        640: 100%|██████████| 9/9 [00:01<00:00,  4.60it/s]\n",
      "                 Class     Images  Instances      Box(P          R      mAP50  mAP50-95): 100%|██████████| 2/2 [00:00<00:00,  4.77it/s]"
     ]
    },
    {
     "name": "stdout",
     "output_type": "stream",
     "text": [
      "                   all         40       2118      0.994      0.998      0.995      0.741\n"
     ]
    },
    {
     "name": "stderr",
     "output_type": "stream",
     "text": [
      "\n"
     ]
    },
    {
     "name": "stdout",
     "output_type": "stream",
     "text": [
      "\n",
      "      Epoch    GPU_mem   box_loss   cls_loss   dfl_loss  Instances       Size\n"
     ]
    },
    {
     "name": "stderr",
     "output_type": "stream",
     "text": [
      "     74/100      2.83G      0.929     0.4188     0.8831        717        640: 100%|██████████| 9/9 [00:01<00:00,  4.89it/s]\n",
      "                 Class     Images  Instances      Box(P          R      mAP50  mAP50-95): 100%|██████████| 2/2 [00:00<00:00,  4.96it/s]"
     ]
    },
    {
     "name": "stdout",
     "output_type": "stream",
     "text": [
      "                   all         40       2118      0.994      0.998      0.995      0.748\n"
     ]
    },
    {
     "name": "stderr",
     "output_type": "stream",
     "text": [
      "\n"
     ]
    },
    {
     "name": "stdout",
     "output_type": "stream",
     "text": [
      "\n",
      "      Epoch    GPU_mem   box_loss   cls_loss   dfl_loss  Instances       Size\n"
     ]
    },
    {
     "name": "stderr",
     "output_type": "stream",
     "text": [
      "     75/100       3.7G      0.923     0.4125     0.8783        726        640: 100%|██████████| 9/9 [00:01<00:00,  4.66it/s]\n",
      "                 Class     Images  Instances      Box(P          R      mAP50  mAP50-95): 100%|██████████| 2/2 [00:00<00:00,  4.42it/s]"
     ]
    },
    {
     "name": "stdout",
     "output_type": "stream",
     "text": [
      "                   all         40       2118      0.994      0.999      0.995      0.745\n"
     ]
    },
    {
     "name": "stderr",
     "output_type": "stream",
     "text": [
      "\n"
     ]
    },
    {
     "name": "stdout",
     "output_type": "stream",
     "text": [
      "\n",
      "      Epoch    GPU_mem   box_loss   cls_loss   dfl_loss  Instances       Size\n"
     ]
    },
    {
     "name": "stderr",
     "output_type": "stream",
     "text": [
      "     76/100      3.29G     0.9094     0.4067     0.8709        817        640: 100%|██████████| 9/9 [00:01<00:00,  4.54it/s]\n",
      "                 Class     Images  Instances      Box(P          R      mAP50  mAP50-95): 100%|██████████| 2/2 [00:00<00:00,  5.38it/s]"
     ]
    },
    {
     "name": "stdout",
     "output_type": "stream",
     "text": [
      "                   all         40       2118      0.994      0.999      0.995      0.743\n"
     ]
    },
    {
     "name": "stderr",
     "output_type": "stream",
     "text": [
      "\n"
     ]
    },
    {
     "name": "stdout",
     "output_type": "stream",
     "text": [
      "\n",
      "      Epoch    GPU_mem   box_loss   cls_loss   dfl_loss  Instances       Size\n"
     ]
    },
    {
     "name": "stderr",
     "output_type": "stream",
     "text": [
      "     77/100      3.62G     0.9246     0.4142     0.8778        708        640: 100%|██████████| 9/9 [00:01<00:00,  4.62it/s]\n",
      "                 Class     Images  Instances      Box(P          R      mAP50  mAP50-95): 100%|██████████| 2/2 [00:00<00:00,  4.58it/s]"
     ]
    },
    {
     "name": "stdout",
     "output_type": "stream",
     "text": [
      "                   all         40       2118      0.994      0.999      0.995      0.747\n"
     ]
    },
    {
     "name": "stderr",
     "output_type": "stream",
     "text": [
      "\n"
     ]
    },
    {
     "name": "stdout",
     "output_type": "stream",
     "text": [
      "\n",
      "      Epoch    GPU_mem   box_loss   cls_loss   dfl_loss  Instances       Size\n"
     ]
    },
    {
     "name": "stderr",
     "output_type": "stream",
     "text": [
      "     78/100      3.48G     0.9276     0.4126     0.8681        988        640: 100%|██████████| 9/9 [00:02<00:00,  4.45it/s]\n",
      "                 Class     Images  Instances      Box(P          R      mAP50  mAP50-95): 100%|██████████| 2/2 [00:00<00:00,  4.58it/s]"
     ]
    },
    {
     "name": "stdout",
     "output_type": "stream",
     "text": [
      "                   all         40       2118      0.994      0.999      0.995       0.75\n"
     ]
    },
    {
     "name": "stderr",
     "output_type": "stream",
     "text": [
      "\n"
     ]
    },
    {
     "name": "stdout",
     "output_type": "stream",
     "text": [
      "\n",
      "      Epoch    GPU_mem   box_loss   cls_loss   dfl_loss  Instances       Size\n"
     ]
    },
    {
     "name": "stderr",
     "output_type": "stream",
     "text": [
      "     79/100      2.82G     0.9194     0.4074     0.8761        723        640: 100%|██████████| 9/9 [00:01<00:00,  4.64it/s]\n",
      "                 Class     Images  Instances      Box(P          R      mAP50  mAP50-95): 100%|██████████| 2/2 [00:00<00:00,  4.28it/s]"
     ]
    },
    {
     "name": "stdout",
     "output_type": "stream",
     "text": [
      "                   all         40       2118      0.994      0.999      0.995      0.752\n"
     ]
    },
    {
     "name": "stderr",
     "output_type": "stream",
     "text": [
      "\n"
     ]
    },
    {
     "name": "stdout",
     "output_type": "stream",
     "text": [
      "\n",
      "      Epoch    GPU_mem   box_loss   cls_loss   dfl_loss  Instances       Size\n"
     ]
    },
    {
     "name": "stderr",
     "output_type": "stream",
     "text": [
      "     80/100      4.04G     0.9187     0.4101      0.873        740        640: 100%|██████████| 9/9 [00:01<00:00,  4.63it/s]\n",
      "                 Class     Images  Instances      Box(P          R      mAP50  mAP50-95): 100%|██████████| 2/2 [00:00<00:00,  4.64it/s]"
     ]
    },
    {
     "name": "stdout",
     "output_type": "stream",
     "text": [
      "                   all         40       2118      0.993      0.998      0.995      0.753\n"
     ]
    },
    {
     "name": "stderr",
     "output_type": "stream",
     "text": [
      "\n"
     ]
    },
    {
     "name": "stdout",
     "output_type": "stream",
     "text": [
      "\n",
      "      Epoch    GPU_mem   box_loss   cls_loss   dfl_loss  Instances       Size\n"
     ]
    },
    {
     "name": "stderr",
     "output_type": "stream",
     "text": [
      "     81/100      3.73G     0.9211     0.4062     0.8779        963        640: 100%|██████████| 9/9 [00:01<00:00,  4.65it/s]\n",
      "                 Class     Images  Instances      Box(P          R      mAP50  mAP50-95): 100%|██████████| 2/2 [00:00<00:00,  4.48it/s]"
     ]
    },
    {
     "name": "stdout",
     "output_type": "stream",
     "text": [
      "                   all         40       2118      0.993      0.999      0.995      0.742\n"
     ]
    },
    {
     "name": "stderr",
     "output_type": "stream",
     "text": [
      "\n"
     ]
    },
    {
     "name": "stdout",
     "output_type": "stream",
     "text": [
      "\n",
      "      Epoch    GPU_mem   box_loss   cls_loss   dfl_loss  Instances       Size\n"
     ]
    },
    {
     "name": "stderr",
     "output_type": "stream",
     "text": [
      "     82/100      3.29G     0.9077     0.4026     0.8781        717        640: 100%|██████████| 9/9 [00:01<00:00,  4.78it/s]\n",
      "                 Class     Images  Instances      Box(P          R      mAP50  mAP50-95): 100%|██████████| 2/2 [00:00<00:00,  4.95it/s]"
     ]
    },
    {
     "name": "stdout",
     "output_type": "stream",
     "text": [
      "                   all         40       2118      0.993      0.999      0.995      0.748\n"
     ]
    },
    {
     "name": "stderr",
     "output_type": "stream",
     "text": [
      "\n"
     ]
    },
    {
     "name": "stdout",
     "output_type": "stream",
     "text": [
      "\n",
      "      Epoch    GPU_mem   box_loss   cls_loss   dfl_loss  Instances       Size\n"
     ]
    },
    {
     "name": "stderr",
     "output_type": "stream",
     "text": [
      "     83/100      2.91G     0.9176     0.4055     0.8756        906        640: 100%|██████████| 9/9 [00:01<00:00,  4.64it/s]\n",
      "                 Class     Images  Instances      Box(P          R      mAP50  mAP50-95): 100%|██████████| 2/2 [00:00<00:00,  3.64it/s]"
     ]
    },
    {
     "name": "stdout",
     "output_type": "stream",
     "text": [
      "                   all         40       2118      0.993      0.999      0.995      0.747\n"
     ]
    },
    {
     "name": "stderr",
     "output_type": "stream",
     "text": [
      "\n"
     ]
    },
    {
     "name": "stdout",
     "output_type": "stream",
     "text": [
      "\n",
      "      Epoch    GPU_mem   box_loss   cls_loss   dfl_loss  Instances       Size\n"
     ]
    },
    {
     "name": "stderr",
     "output_type": "stream",
     "text": [
      "     84/100      2.92G     0.9099      0.406     0.8684        822        640: 100%|██████████| 9/9 [00:02<00:00,  4.16it/s]\n",
      "                 Class     Images  Instances      Box(P          R      mAP50  mAP50-95): 100%|██████████| 2/2 [00:00<00:00,  4.79it/s]"
     ]
    },
    {
     "name": "stdout",
     "output_type": "stream",
     "text": [
      "                   all         40       2118      0.993      0.999      0.995      0.748\n"
     ]
    },
    {
     "name": "stderr",
     "output_type": "stream",
     "text": [
      "\n"
     ]
    },
    {
     "name": "stdout",
     "output_type": "stream",
     "text": [
      "\n",
      "      Epoch    GPU_mem   box_loss   cls_loss   dfl_loss  Instances       Size\n"
     ]
    },
    {
     "name": "stderr",
     "output_type": "stream",
     "text": [
      "     85/100      2.92G     0.9045     0.3992     0.8701        962        640: 100%|██████████| 9/9 [00:01<00:00,  4.71it/s]\n",
      "                 Class     Images  Instances      Box(P          R      mAP50  mAP50-95): 100%|██████████| 2/2 [00:00<00:00,  4.53it/s]"
     ]
    },
    {
     "name": "stdout",
     "output_type": "stream",
     "text": [
      "                   all         40       2118      0.993      0.999      0.995      0.748\n"
     ]
    },
    {
     "name": "stderr",
     "output_type": "stream",
     "text": [
      "\n"
     ]
    },
    {
     "name": "stdout",
     "output_type": "stream",
     "text": [
      "\n",
      "      Epoch    GPU_mem   box_loss   cls_loss   dfl_loss  Instances       Size\n"
     ]
    },
    {
     "name": "stderr",
     "output_type": "stream",
     "text": [
      "     86/100      2.92G     0.9126     0.4062     0.8659       1091        640: 100%|██████████| 9/9 [00:01<00:00,  4.67it/s]\n",
      "                 Class     Images  Instances      Box(P          R      mAP50  mAP50-95): 100%|██████████| 2/2 [00:00<00:00,  4.01it/s]"
     ]
    },
    {
     "name": "stdout",
     "output_type": "stream",
     "text": [
      "                   all         40       2118      0.994      0.997      0.995       0.75\n"
     ]
    },
    {
     "name": "stderr",
     "output_type": "stream",
     "text": [
      "\n"
     ]
    },
    {
     "name": "stdout",
     "output_type": "stream",
     "text": [
      "\n",
      "      Epoch    GPU_mem   box_loss   cls_loss   dfl_loss  Instances       Size\n"
     ]
    },
    {
     "name": "stderr",
     "output_type": "stream",
     "text": [
      "     87/100      2.92G     0.9166     0.4123     0.8792        781        640: 100%|██████████| 9/9 [00:01<00:00,  4.98it/s]\n",
      "                 Class     Images  Instances      Box(P          R      mAP50  mAP50-95): 100%|██████████| 2/2 [00:00<00:00,  5.28it/s]"
     ]
    },
    {
     "name": "stdout",
     "output_type": "stream",
     "text": [
      "                   all         40       2118      0.993      0.997      0.995      0.746\n"
     ]
    },
    {
     "name": "stderr",
     "output_type": "stream",
     "text": [
      "\n"
     ]
    },
    {
     "name": "stdout",
     "output_type": "stream",
     "text": [
      "\n",
      "      Epoch    GPU_mem   box_loss   cls_loss   dfl_loss  Instances       Size\n"
     ]
    },
    {
     "name": "stderr",
     "output_type": "stream",
     "text": [
      "     88/100      2.92G     0.8981     0.3966     0.8696        775        640: 100%|██████████| 9/9 [00:01<00:00,  4.84it/s]\n",
      "                 Class     Images  Instances      Box(P          R      mAP50  mAP50-95): 100%|██████████| 2/2 [00:00<00:00,  5.20it/s]"
     ]
    },
    {
     "name": "stdout",
     "output_type": "stream",
     "text": [
      "                   all         40       2118      0.993      0.998      0.995      0.746\n"
     ]
    },
    {
     "name": "stderr",
     "output_type": "stream",
     "text": [
      "\n"
     ]
    },
    {
     "name": "stdout",
     "output_type": "stream",
     "text": [
      "\n",
      "      Epoch    GPU_mem   box_loss   cls_loss   dfl_loss  Instances       Size\n"
     ]
    },
    {
     "name": "stderr",
     "output_type": "stream",
     "text": [
      "     89/100      2.92G     0.8964     0.3944      0.868        889        640: 100%|██████████| 9/9 [00:01<00:00,  5.03it/s]\n",
      "                 Class     Images  Instances      Box(P          R      mAP50  mAP50-95): 100%|██████████| 2/2 [00:00<00:00,  5.20it/s]"
     ]
    },
    {
     "name": "stdout",
     "output_type": "stream",
     "text": [
      "                   all         40       2118      0.994      0.998      0.995      0.747\n"
     ]
    },
    {
     "name": "stderr",
     "output_type": "stream",
     "text": [
      "\n"
     ]
    },
    {
     "name": "stdout",
     "output_type": "stream",
     "text": [
      "\n",
      "      Epoch    GPU_mem   box_loss   cls_loss   dfl_loss  Instances       Size\n"
     ]
    },
    {
     "name": "stderr",
     "output_type": "stream",
     "text": [
      "     90/100      2.92G     0.9009     0.3967     0.8664        901        640: 100%|██████████| 9/9 [00:02<00:00,  4.39it/s]\n",
      "                 Class     Images  Instances      Box(P          R      mAP50  mAP50-95): 100%|██████████| 2/2 [00:00<00:00,  5.42it/s]"
     ]
    },
    {
     "name": "stdout",
     "output_type": "stream",
     "text": [
      "                   all         40       2118      0.993      0.999      0.995      0.748\n"
     ]
    },
    {
     "name": "stderr",
     "output_type": "stream",
     "text": [
      "\n"
     ]
    },
    {
     "name": "stdout",
     "output_type": "stream",
     "text": [
      "Closing dataloader mosaic\n",
      "\n",
      "      Epoch    GPU_mem   box_loss   cls_loss   dfl_loss  Instances       Size\n"
     ]
    },
    {
     "name": "stderr",
     "output_type": "stream",
     "text": [
      "     91/100      2.92G     0.9055     0.4181     0.8892        605        640: 100%|██████████| 9/9 [00:03<00:00,  2.59it/s]\n",
      "                 Class     Images  Instances      Box(P          R      mAP50  mAP50-95): 100%|██████████| 2/2 [00:00<00:00,  4.07it/s]"
     ]
    },
    {
     "name": "stdout",
     "output_type": "stream",
     "text": [
      "                   all         40       2118      0.993      0.999      0.995      0.742\n"
     ]
    },
    {
     "name": "stderr",
     "output_type": "stream",
     "text": [
      "\n"
     ]
    },
    {
     "name": "stdout",
     "output_type": "stream",
     "text": [
      "\n",
      "      Epoch    GPU_mem   box_loss   cls_loss   dfl_loss  Instances       Size\n"
     ]
    },
    {
     "name": "stderr",
     "output_type": "stream",
     "text": [
      "     92/100      2.92G     0.9046     0.4096     0.8857        614        640: 100%|██████████| 9/9 [00:02<00:00,  4.48it/s]\n",
      "                 Class     Images  Instances      Box(P          R      mAP50  mAP50-95): 100%|██████████| 2/2 [00:00<00:00,  4.16it/s]"
     ]
    },
    {
     "name": "stdout",
     "output_type": "stream",
     "text": [
      "                   all         40       2118      0.992      0.998      0.995      0.747\n"
     ]
    },
    {
     "name": "stderr",
     "output_type": "stream",
     "text": [
      "\n"
     ]
    },
    {
     "name": "stdout",
     "output_type": "stream",
     "text": [
      "\n",
      "      Epoch    GPU_mem   box_loss   cls_loss   dfl_loss  Instances       Size\n"
     ]
    },
    {
     "name": "stderr",
     "output_type": "stream",
     "text": [
      "     93/100      2.92G     0.8936     0.4081     0.8825        558        640: 100%|██████████| 9/9 [00:02<00:00,  4.49it/s]\n",
      "                 Class     Images  Instances      Box(P          R      mAP50  mAP50-95): 100%|██████████| 2/2 [00:00<00:00,  3.89it/s]"
     ]
    },
    {
     "name": "stdout",
     "output_type": "stream",
     "text": [
      "                   all         40       2118      0.992      0.998      0.995      0.748\n"
     ]
    },
    {
     "name": "stderr",
     "output_type": "stream",
     "text": [
      "\n"
     ]
    },
    {
     "name": "stdout",
     "output_type": "stream",
     "text": [
      "\n",
      "      Epoch    GPU_mem   box_loss   cls_loss   dfl_loss  Instances       Size\n"
     ]
    },
    {
     "name": "stderr",
     "output_type": "stream",
     "text": [
      "     94/100      2.92G     0.8889     0.3944     0.8877        588        640: 100%|██████████| 9/9 [00:01<00:00,  5.00it/s]\n",
      "                 Class     Images  Instances      Box(P          R      mAP50  mAP50-95): 100%|██████████| 2/2 [00:00<00:00,  4.30it/s]"
     ]
    },
    {
     "name": "stdout",
     "output_type": "stream",
     "text": [
      "                   all         40       2118      0.992      0.998      0.995      0.745\n"
     ]
    },
    {
     "name": "stderr",
     "output_type": "stream",
     "text": [
      "\n"
     ]
    },
    {
     "name": "stdout",
     "output_type": "stream",
     "text": [
      "\n",
      "      Epoch    GPU_mem   box_loss   cls_loss   dfl_loss  Instances       Size\n"
     ]
    },
    {
     "name": "stderr",
     "output_type": "stream",
     "text": [
      "     95/100      2.92G     0.8766      0.387     0.8826        586        640: 100%|██████████| 9/9 [00:01<00:00,  5.00it/s]\n",
      "                 Class     Images  Instances      Box(P          R      mAP50  mAP50-95): 100%|██████████| 2/2 [00:00<00:00,  5.28it/s]"
     ]
    },
    {
     "name": "stdout",
     "output_type": "stream",
     "text": [
      "                   all         40       2118      0.993      0.999      0.995      0.749\n"
     ]
    },
    {
     "name": "stderr",
     "output_type": "stream",
     "text": [
      "\n"
     ]
    },
    {
     "name": "stdout",
     "output_type": "stream",
     "text": [
      "\n",
      "      Epoch    GPU_mem   box_loss   cls_loss   dfl_loss  Instances       Size\n"
     ]
    },
    {
     "name": "stderr",
     "output_type": "stream",
     "text": [
      "     96/100      2.92G     0.8813     0.3825     0.8767        590        640: 100%|██████████| 9/9 [00:01<00:00,  5.35it/s]\n",
      "                 Class     Images  Instances      Box(P          R      mAP50  mAP50-95): 100%|██████████| 2/2 [00:00<00:00,  4.57it/s]"
     ]
    },
    {
     "name": "stdout",
     "output_type": "stream",
     "text": [
      "                   all         40       2118      0.993      0.998      0.995      0.746\n"
     ]
    },
    {
     "name": "stderr",
     "output_type": "stream",
     "text": [
      "\n"
     ]
    },
    {
     "name": "stdout",
     "output_type": "stream",
     "text": [
      "\n",
      "      Epoch    GPU_mem   box_loss   cls_loss   dfl_loss  Instances       Size\n"
     ]
    },
    {
     "name": "stderr",
     "output_type": "stream",
     "text": [
      "     97/100      2.92G     0.8775     0.3852     0.8753        629        640: 100%|██████████| 9/9 [00:01<00:00,  5.55it/s]\n",
      "                 Class     Images  Instances      Box(P          R      mAP50  mAP50-95): 100%|██████████| 2/2 [00:00<00:00,  4.94it/s]"
     ]
    },
    {
     "name": "stdout",
     "output_type": "stream",
     "text": [
      "                   all         40       2118      0.992      0.999      0.995      0.746\n"
     ]
    },
    {
     "name": "stderr",
     "output_type": "stream",
     "text": [
      "\n"
     ]
    },
    {
     "name": "stdout",
     "output_type": "stream",
     "text": [
      "\n",
      "      Epoch    GPU_mem   box_loss   cls_loss   dfl_loss  Instances       Size\n"
     ]
    },
    {
     "name": "stderr",
     "output_type": "stream",
     "text": [
      "     98/100      2.92G     0.8811     0.3887      0.875        633        640: 100%|██████████| 9/9 [00:01<00:00,  5.49it/s]\n",
      "                 Class     Images  Instances      Box(P          R      mAP50  mAP50-95): 100%|██████████| 2/2 [00:00<00:00,  4.31it/s]"
     ]
    },
    {
     "name": "stdout",
     "output_type": "stream",
     "text": [
      "                   all         40       2118      0.992      0.999      0.995      0.745\n"
     ]
    },
    {
     "name": "stderr",
     "output_type": "stream",
     "text": [
      "\n"
     ]
    },
    {
     "name": "stdout",
     "output_type": "stream",
     "text": [
      "\n",
      "      Epoch    GPU_mem   box_loss   cls_loss   dfl_loss  Instances       Size\n"
     ]
    },
    {
     "name": "stderr",
     "output_type": "stream",
     "text": [
      "     99/100      2.92G     0.8826     0.3892     0.8732        611        640: 100%|██████████| 9/9 [00:01<00:00,  5.45it/s]\n",
      "                 Class     Images  Instances      Box(P          R      mAP50  mAP50-95): 100%|██████████| 2/2 [00:00<00:00,  4.48it/s]"
     ]
    },
    {
     "name": "stdout",
     "output_type": "stream",
     "text": [
      "                   all         40       2118      0.992      0.999      0.995      0.748\n"
     ]
    },
    {
     "name": "stderr",
     "output_type": "stream",
     "text": [
      "\n"
     ]
    },
    {
     "name": "stdout",
     "output_type": "stream",
     "text": [
      "\n",
      "      Epoch    GPU_mem   box_loss   cls_loss   dfl_loss  Instances       Size\n"
     ]
    },
    {
     "name": "stderr",
     "output_type": "stream",
     "text": [
      "    100/100      2.92G     0.8714     0.3805     0.8744        611        640: 100%|██████████| 9/9 [00:01<00:00,  5.14it/s]\n",
      "                 Class     Images  Instances      Box(P          R      mAP50  mAP50-95): 100%|██████████| 2/2 [00:00<00:00,  4.32it/s]"
     ]
    },
    {
     "name": "stdout",
     "output_type": "stream",
     "text": [
      "                   all         40       2118      0.993      0.999      0.995       0.75\n"
     ]
    },
    {
     "name": "stderr",
     "output_type": "stream",
     "text": [
      "\n"
     ]
    },
    {
     "name": "stdout",
     "output_type": "stream",
     "text": [
      "\n",
      "100 epochs completed in 0.094 hours.\n",
      "Optimizer stripped from runs\\detect\\train3\\weights\\last.pt, 6.3MB\n",
      "Optimizer stripped from runs\\detect\\train3\\weights\\best.pt, 6.3MB\n",
      "\n",
      "Validating runs\\detect\\train3\\weights\\best.pt...\n",
      "Ultralytics 8.3.111  Python-3.11.11 torch-2.5.1+cu121 CUDA:0 (NVIDIA GeForce RTX 3060 Laptop GPU, 6144MiB)\n",
      "Model summary (fused): 72 layers, 3,005,843 parameters, 0 gradients, 8.1 GFLOPs\n"
     ]
    },
    {
     "name": "stderr",
     "output_type": "stream",
     "text": [
      "                 Class     Images  Instances      Box(P          R      mAP50  mAP50-95): 100%|██████████| 2/2 [00:02<00:00,  1.22s/it]\n"
     ]
    },
    {
     "name": "stdout",
     "output_type": "stream",
     "text": [
      "                   all         40       2118      0.993      0.998      0.995      0.753\n",
      "Speed: 0.3ms preprocess, 4.0ms inference, 0.0ms loss, 2.0ms postprocess per image\n",
      "Results saved to \u001b[1mruns\\detect\\train3\u001b[0m\n"
     ]
    }
   ],
   "source": [
    "data_path = '../data/processed/meatballs_yolo/data.yaml'\n",
    "\n",
    "results = model.train(\n",
    "    data=data_path, \n",
    "    epochs=100, \n",
    "    imgsz=640,\n",
    "    batch=16,\n",
    "    patience=50,\n",
    "    pretrained=True,\n",
    "    device=0  # GPU id (0, 1, 2, etc.) or 'cpu'\n",
    ")"
   ]
  },
  {
   "cell_type": "markdown",
   "id": "b1767690",
   "metadata": {},
   "source": [
    "# Let's do inference"
   ]
  },
  {
   "cell_type": "code",
   "execution_count": 25,
   "id": "0b0b0709",
   "metadata": {},
   "outputs": [
    {
     "name": "stdout",
     "output_type": "stream",
     "text": [
      "\n",
      "\n",
      "WARNING  inference results will accumulate in RAM unless `stream=True` is passed, causing potential out-of-memory\n",
      "errors for large sources or long-running streams and videos. See https://docs.ultralytics.com/modes/predict/ for help.\n",
      "\n",
      "Example:\n",
      "    results = model(source=..., stream=True)  # generator of Results objects\n",
      "    for r in results:\n",
      "        boxes = r.boxes  # Boxes object for bbox outputs\n",
      "        masks = r.masks  # Masks object for segment masks outputs\n",
      "        probs = r.probs  # Class probabilities for classification outputs\n",
      "\n",
      "video 1/1 (frame 1/960) c:\\Users\\gtoft\\OneDrive\\DTU\\4_Semester_AS\\Master_Thesis\\auto-annotation-sam\\notebooks\\..\\data\\raw\\NewMeatballs2.mp4: 640x640 1 class0, 10.1ms\n",
      "video 1/1 (frame 2/960) c:\\Users\\gtoft\\OneDrive\\DTU\\4_Semester_AS\\Master_Thesis\\auto-annotation-sam\\notebooks\\..\\data\\raw\\NewMeatballs2.mp4: 640x640 1 class0, 7.5ms\n",
      "video 1/1 (frame 3/960) c:\\Users\\gtoft\\OneDrive\\DTU\\4_Semester_AS\\Master_Thesis\\auto-annotation-sam\\notebooks\\..\\data\\raw\\NewMeatballs2.mp4: 640x640 (no detections), 7.5ms\n",
      "video 1/1 (frame 4/960) c:\\Users\\gtoft\\OneDrive\\DTU\\4_Semester_AS\\Master_Thesis\\auto-annotation-sam\\notebooks\\..\\data\\raw\\NewMeatballs2.mp4: 640x640 (no detections), 7.8ms\n",
      "video 1/1 (frame 5/960) c:\\Users\\gtoft\\OneDrive\\DTU\\4_Semester_AS\\Master_Thesis\\auto-annotation-sam\\notebooks\\..\\data\\raw\\NewMeatballs2.mp4: 640x640 (no detections), 36.3ms\n",
      "video 1/1 (frame 6/960) c:\\Users\\gtoft\\OneDrive\\DTU\\4_Semester_AS\\Master_Thesis\\auto-annotation-sam\\notebooks\\..\\data\\raw\\NewMeatballs2.mp4: 640x640 1 class0, 12.0ms\n",
      "video 1/1 (frame 7/960) c:\\Users\\gtoft\\OneDrive\\DTU\\4_Semester_AS\\Master_Thesis\\auto-annotation-sam\\notebooks\\..\\data\\raw\\NewMeatballs2.mp4: 640x640 (no detections), 7.4ms\n",
      "video 1/1 (frame 8/960) c:\\Users\\gtoft\\OneDrive\\DTU\\4_Semester_AS\\Master_Thesis\\auto-annotation-sam\\notebooks\\..\\data\\raw\\NewMeatballs2.mp4: 640x640 (no detections), 7.2ms\n",
      "video 1/1 (frame 9/960) c:\\Users\\gtoft\\OneDrive\\DTU\\4_Semester_AS\\Master_Thesis\\auto-annotation-sam\\notebooks\\..\\data\\raw\\NewMeatballs2.mp4: 640x640 (no detections), 8.4ms\n",
      "video 1/1 (frame 10/960) c:\\Users\\gtoft\\OneDrive\\DTU\\4_Semester_AS\\Master_Thesis\\auto-annotation-sam\\notebooks\\..\\data\\raw\\NewMeatballs2.mp4: 640x640 1 class0, 9.4ms\n",
      "video 1/1 (frame 11/960) c:\\Users\\gtoft\\OneDrive\\DTU\\4_Semester_AS\\Master_Thesis\\auto-annotation-sam\\notebooks\\..\\data\\raw\\NewMeatballs2.mp4: 640x640 (no detections), 16.3ms\n",
      "video 1/1 (frame 12/960) c:\\Users\\gtoft\\OneDrive\\DTU\\4_Semester_AS\\Master_Thesis\\auto-annotation-sam\\notebooks\\..\\data\\raw\\NewMeatballs2.mp4: 640x640 1 class0, 14.3ms\n",
      "video 1/1 (frame 13/960) c:\\Users\\gtoft\\OneDrive\\DTU\\4_Semester_AS\\Master_Thesis\\auto-annotation-sam\\notebooks\\..\\data\\raw\\NewMeatballs2.mp4: 640x640 1 class0, 10.8ms\n",
      "video 1/1 (frame 14/960) c:\\Users\\gtoft\\OneDrive\\DTU\\4_Semester_AS\\Master_Thesis\\auto-annotation-sam\\notebooks\\..\\data\\raw\\NewMeatballs2.mp4: 640x640 (no detections), 11.7ms\n",
      "video 1/1 (frame 15/960) c:\\Users\\gtoft\\OneDrive\\DTU\\4_Semester_AS\\Master_Thesis\\auto-annotation-sam\\notebooks\\..\\data\\raw\\NewMeatballs2.mp4: 640x640 1 class0, 7.3ms\n",
      "video 1/1 (frame 16/960) c:\\Users\\gtoft\\OneDrive\\DTU\\4_Semester_AS\\Master_Thesis\\auto-annotation-sam\\notebooks\\..\\data\\raw\\NewMeatballs2.mp4: 640x640 (no detections), 7.9ms\n",
      "video 1/1 (frame 17/960) c:\\Users\\gtoft\\OneDrive\\DTU\\4_Semester_AS\\Master_Thesis\\auto-annotation-sam\\notebooks\\..\\data\\raw\\NewMeatballs2.mp4: 640x640 (no detections), 9.2ms\n",
      "video 1/1 (frame 18/960) c:\\Users\\gtoft\\OneDrive\\DTU\\4_Semester_AS\\Master_Thesis\\auto-annotation-sam\\notebooks\\..\\data\\raw\\NewMeatballs2.mp4: 640x640 (no detections), 11.6ms\n",
      "video 1/1 (frame 19/960) c:\\Users\\gtoft\\OneDrive\\DTU\\4_Semester_AS\\Master_Thesis\\auto-annotation-sam\\notebooks\\..\\data\\raw\\NewMeatballs2.mp4: 640x640 (no detections), 7.2ms\n",
      "video 1/1 (frame 20/960) c:\\Users\\gtoft\\OneDrive\\DTU\\4_Semester_AS\\Master_Thesis\\auto-annotation-sam\\notebooks\\..\\data\\raw\\NewMeatballs2.mp4: 640x640 2 class0s, 8.2ms\n",
      "video 1/1 (frame 21/960) c:\\Users\\gtoft\\OneDrive\\DTU\\4_Semester_AS\\Master_Thesis\\auto-annotation-sam\\notebooks\\..\\data\\raw\\NewMeatballs2.mp4: 640x640 2 class0s, 7.4ms\n",
      "video 1/1 (frame 22/960) c:\\Users\\gtoft\\OneDrive\\DTU\\4_Semester_AS\\Master_Thesis\\auto-annotation-sam\\notebooks\\..\\data\\raw\\NewMeatballs2.mp4: 640x640 1 class0, 8.6ms\n",
      "video 1/1 (frame 23/960) c:\\Users\\gtoft\\OneDrive\\DTU\\4_Semester_AS\\Master_Thesis\\auto-annotation-sam\\notebooks\\..\\data\\raw\\NewMeatballs2.mp4: 640x640 1 class0, 10.3ms\n",
      "video 1/1 (frame 24/960) c:\\Users\\gtoft\\OneDrive\\DTU\\4_Semester_AS\\Master_Thesis\\auto-annotation-sam\\notebooks\\..\\data\\raw\\NewMeatballs2.mp4: 640x640 2 class0s, 7.2ms\n",
      "video 1/1 (frame 25/960) c:\\Users\\gtoft\\OneDrive\\DTU\\4_Semester_AS\\Master_Thesis\\auto-annotation-sam\\notebooks\\..\\data\\raw\\NewMeatballs2.mp4: 640x640 1 class0, 7.0ms\n",
      "video 1/1 (frame 26/960) c:\\Users\\gtoft\\OneDrive\\DTU\\4_Semester_AS\\Master_Thesis\\auto-annotation-sam\\notebooks\\..\\data\\raw\\NewMeatballs2.mp4: 640x640 1 class0, 8.7ms\n",
      "video 1/1 (frame 27/960) c:\\Users\\gtoft\\OneDrive\\DTU\\4_Semester_AS\\Master_Thesis\\auto-annotation-sam\\notebooks\\..\\data\\raw\\NewMeatballs2.mp4: 640x640 1 class0, 7.7ms\n",
      "video 1/1 (frame 28/960) c:\\Users\\gtoft\\OneDrive\\DTU\\4_Semester_AS\\Master_Thesis\\auto-annotation-sam\\notebooks\\..\\data\\raw\\NewMeatballs2.mp4: 640x640 1 class0, 10.1ms\n",
      "video 1/1 (frame 29/960) c:\\Users\\gtoft\\OneDrive\\DTU\\4_Semester_AS\\Master_Thesis\\auto-annotation-sam\\notebooks\\..\\data\\raw\\NewMeatballs2.mp4: 640x640 1 class0, 7.9ms\n",
      "video 1/1 (frame 30/960) c:\\Users\\gtoft\\OneDrive\\DTU\\4_Semester_AS\\Master_Thesis\\auto-annotation-sam\\notebooks\\..\\data\\raw\\NewMeatballs2.mp4: 640x640 1 class0, 12.9ms\n",
      "video 1/1 (frame 31/960) c:\\Users\\gtoft\\OneDrive\\DTU\\4_Semester_AS\\Master_Thesis\\auto-annotation-sam\\notebooks\\..\\data\\raw\\NewMeatballs2.mp4: 640x640 1 class0, 9.9ms\n",
      "video 1/1 (frame 32/960) c:\\Users\\gtoft\\OneDrive\\DTU\\4_Semester_AS\\Master_Thesis\\auto-annotation-sam\\notebooks\\..\\data\\raw\\NewMeatballs2.mp4: 640x640 1 class0, 8.2ms\n",
      "video 1/1 (frame 33/960) c:\\Users\\gtoft\\OneDrive\\DTU\\4_Semester_AS\\Master_Thesis\\auto-annotation-sam\\notebooks\\..\\data\\raw\\NewMeatballs2.mp4: 640x640 (no detections), 7.7ms\n",
      "video 1/1 (frame 34/960) c:\\Users\\gtoft\\OneDrive\\DTU\\4_Semester_AS\\Master_Thesis\\auto-annotation-sam\\notebooks\\..\\data\\raw\\NewMeatballs2.mp4: 640x640 1 class0, 7.7ms\n",
      "video 1/1 (frame 35/960) c:\\Users\\gtoft\\OneDrive\\DTU\\4_Semester_AS\\Master_Thesis\\auto-annotation-sam\\notebooks\\..\\data\\raw\\NewMeatballs2.mp4: 640x640 (no detections), 7.9ms\n",
      "video 1/1 (frame 36/960) c:\\Users\\gtoft\\OneDrive\\DTU\\4_Semester_AS\\Master_Thesis\\auto-annotation-sam\\notebooks\\..\\data\\raw\\NewMeatballs2.mp4: 640x640 1 class0, 15.2ms\n",
      "video 1/1 (frame 37/960) c:\\Users\\gtoft\\OneDrive\\DTU\\4_Semester_AS\\Master_Thesis\\auto-annotation-sam\\notebooks\\..\\data\\raw\\NewMeatballs2.mp4: 640x640 1 class0, 9.2ms\n",
      "video 1/1 (frame 38/960) c:\\Users\\gtoft\\OneDrive\\DTU\\4_Semester_AS\\Master_Thesis\\auto-annotation-sam\\notebooks\\..\\data\\raw\\NewMeatballs2.mp4: 640x640 1 class0, 19.1ms\n",
      "video 1/1 (frame 39/960) c:\\Users\\gtoft\\OneDrive\\DTU\\4_Semester_AS\\Master_Thesis\\auto-annotation-sam\\notebooks\\..\\data\\raw\\NewMeatballs2.mp4: 640x640 (no detections), 15.5ms\n",
      "video 1/1 (frame 40/960) c:\\Users\\gtoft\\OneDrive\\DTU\\4_Semester_AS\\Master_Thesis\\auto-annotation-sam\\notebooks\\..\\data\\raw\\NewMeatballs2.mp4: 640x640 (no detections), 8.8ms\n",
      "video 1/1 (frame 41/960) c:\\Users\\gtoft\\OneDrive\\DTU\\4_Semester_AS\\Master_Thesis\\auto-annotation-sam\\notebooks\\..\\data\\raw\\NewMeatballs2.mp4: 640x640 (no detections), 17.6ms\n",
      "video 1/1 (frame 42/960) c:\\Users\\gtoft\\OneDrive\\DTU\\4_Semester_AS\\Master_Thesis\\auto-annotation-sam\\notebooks\\..\\data\\raw\\NewMeatballs2.mp4: 640x640 (no detections), 10.6ms\n",
      "video 1/1 (frame 43/960) c:\\Users\\gtoft\\OneDrive\\DTU\\4_Semester_AS\\Master_Thesis\\auto-annotation-sam\\notebooks\\..\\data\\raw\\NewMeatballs2.mp4: 640x640 (no detections), 8.1ms\n",
      "video 1/1 (frame 44/960) c:\\Users\\gtoft\\OneDrive\\DTU\\4_Semester_AS\\Master_Thesis\\auto-annotation-sam\\notebooks\\..\\data\\raw\\NewMeatballs2.mp4: 640x640 (no detections), 7.0ms\n",
      "video 1/1 (frame 45/960) c:\\Users\\gtoft\\OneDrive\\DTU\\4_Semester_AS\\Master_Thesis\\auto-annotation-sam\\notebooks\\..\\data\\raw\\NewMeatballs2.mp4: 640x640 (no detections), 7.0ms\n",
      "video 1/1 (frame 46/960) c:\\Users\\gtoft\\OneDrive\\DTU\\4_Semester_AS\\Master_Thesis\\auto-annotation-sam\\notebooks\\..\\data\\raw\\NewMeatballs2.mp4: 640x640 1 class0, 15.2ms\n",
      "video 1/1 (frame 47/960) c:\\Users\\gtoft\\OneDrive\\DTU\\4_Semester_AS\\Master_Thesis\\auto-annotation-sam\\notebooks\\..\\data\\raw\\NewMeatballs2.mp4: 640x640 3 class0s, 8.0ms\n",
      "video 1/1 (frame 48/960) c:\\Users\\gtoft\\OneDrive\\DTU\\4_Semester_AS\\Master_Thesis\\auto-annotation-sam\\notebooks\\..\\data\\raw\\NewMeatballs2.mp4: 640x640 3 class0s, 8.1ms\n",
      "video 1/1 (frame 49/960) c:\\Users\\gtoft\\OneDrive\\DTU\\4_Semester_AS\\Master_Thesis\\auto-annotation-sam\\notebooks\\..\\data\\raw\\NewMeatballs2.mp4: 640x640 2 class0s, 7.8ms\n",
      "video 1/1 (frame 50/960) c:\\Users\\gtoft\\OneDrive\\DTU\\4_Semester_AS\\Master_Thesis\\auto-annotation-sam\\notebooks\\..\\data\\raw\\NewMeatballs2.mp4: 640x640 1 class0, 7.5ms\n",
      "video 1/1 (frame 51/960) c:\\Users\\gtoft\\OneDrive\\DTU\\4_Semester_AS\\Master_Thesis\\auto-annotation-sam\\notebooks\\..\\data\\raw\\NewMeatballs2.mp4: 640x640 1 class0, 9.5ms\n",
      "video 1/1 (frame 52/960) c:\\Users\\gtoft\\OneDrive\\DTU\\4_Semester_AS\\Master_Thesis\\auto-annotation-sam\\notebooks\\..\\data\\raw\\NewMeatballs2.mp4: 640x640 2 class0s, 13.0ms\n",
      "video 1/1 (frame 53/960) c:\\Users\\gtoft\\OneDrive\\DTU\\4_Semester_AS\\Master_Thesis\\auto-annotation-sam\\notebooks\\..\\data\\raw\\NewMeatballs2.mp4: 640x640 1 class0, 8.5ms\n",
      "video 1/1 (frame 54/960) c:\\Users\\gtoft\\OneDrive\\DTU\\4_Semester_AS\\Master_Thesis\\auto-annotation-sam\\notebooks\\..\\data\\raw\\NewMeatballs2.mp4: 640x640 3 class0s, 27.2ms\n",
      "video 1/1 (frame 55/960) c:\\Users\\gtoft\\OneDrive\\DTU\\4_Semester_AS\\Master_Thesis\\auto-annotation-sam\\notebooks\\..\\data\\raw\\NewMeatballs2.mp4: 640x640 3 class0s, 7.7ms\n",
      "video 1/1 (frame 56/960) c:\\Users\\gtoft\\OneDrive\\DTU\\4_Semester_AS\\Master_Thesis\\auto-annotation-sam\\notebooks\\..\\data\\raw\\NewMeatballs2.mp4: 640x640 2 class0s, 7.1ms\n",
      "video 1/1 (frame 57/960) c:\\Users\\gtoft\\OneDrive\\DTU\\4_Semester_AS\\Master_Thesis\\auto-annotation-sam\\notebooks\\..\\data\\raw\\NewMeatballs2.mp4: 640x640 2 class0s, 10.6ms\n",
      "video 1/1 (frame 58/960) c:\\Users\\gtoft\\OneDrive\\DTU\\4_Semester_AS\\Master_Thesis\\auto-annotation-sam\\notebooks\\..\\data\\raw\\NewMeatballs2.mp4: 640x640 2 class0s, 11.6ms\n",
      "video 1/1 (frame 59/960) c:\\Users\\gtoft\\OneDrive\\DTU\\4_Semester_AS\\Master_Thesis\\auto-annotation-sam\\notebooks\\..\\data\\raw\\NewMeatballs2.mp4: 640x640 2 class0s, 7.8ms\n",
      "video 1/1 (frame 60/960) c:\\Users\\gtoft\\OneDrive\\DTU\\4_Semester_AS\\Master_Thesis\\auto-annotation-sam\\notebooks\\..\\data\\raw\\NewMeatballs2.mp4: 640x640 1 class0, 7.9ms\n",
      "video 1/1 (frame 61/960) c:\\Users\\gtoft\\OneDrive\\DTU\\4_Semester_AS\\Master_Thesis\\auto-annotation-sam\\notebooks\\..\\data\\raw\\NewMeatballs2.mp4: 640x640 1 class0, 8.4ms\n",
      "video 1/1 (frame 62/960) c:\\Users\\gtoft\\OneDrive\\DTU\\4_Semester_AS\\Master_Thesis\\auto-annotation-sam\\notebooks\\..\\data\\raw\\NewMeatballs2.mp4: 640x640 (no detections), 13.3ms\n",
      "video 1/1 (frame 63/960) c:\\Users\\gtoft\\OneDrive\\DTU\\4_Semester_AS\\Master_Thesis\\auto-annotation-sam\\notebooks\\..\\data\\raw\\NewMeatballs2.mp4: 640x640 (no detections), 9.5ms\n",
      "video 1/1 (frame 64/960) c:\\Users\\gtoft\\OneDrive\\DTU\\4_Semester_AS\\Master_Thesis\\auto-annotation-sam\\notebooks\\..\\data\\raw\\NewMeatballs2.mp4: 640x640 (no detections), 13.7ms\n",
      "video 1/1 (frame 65/960) c:\\Users\\gtoft\\OneDrive\\DTU\\4_Semester_AS\\Master_Thesis\\auto-annotation-sam\\notebooks\\..\\data\\raw\\NewMeatballs2.mp4: 640x640 1 class0, 6.9ms\n",
      "video 1/1 (frame 66/960) c:\\Users\\gtoft\\OneDrive\\DTU\\4_Semester_AS\\Master_Thesis\\auto-annotation-sam\\notebooks\\..\\data\\raw\\NewMeatballs2.mp4: 640x640 (no detections), 13.5ms\n",
      "video 1/1 (frame 67/960) c:\\Users\\gtoft\\OneDrive\\DTU\\4_Semester_AS\\Master_Thesis\\auto-annotation-sam\\notebooks\\..\\data\\raw\\NewMeatballs2.mp4: 640x640 (no detections), 8.7ms\n",
      "video 1/1 (frame 68/960) c:\\Users\\gtoft\\OneDrive\\DTU\\4_Semester_AS\\Master_Thesis\\auto-annotation-sam\\notebooks\\..\\data\\raw\\NewMeatballs2.mp4: 640x640 (no detections), 9.3ms\n",
      "video 1/1 (frame 69/960) c:\\Users\\gtoft\\OneDrive\\DTU\\4_Semester_AS\\Master_Thesis\\auto-annotation-sam\\notebooks\\..\\data\\raw\\NewMeatballs2.mp4: 640x640 1 class0, 8.0ms\n",
      "video 1/1 (frame 70/960) c:\\Users\\gtoft\\OneDrive\\DTU\\4_Semester_AS\\Master_Thesis\\auto-annotation-sam\\notebooks\\..\\data\\raw\\NewMeatballs2.mp4: 640x640 (no detections), 8.9ms\n",
      "video 1/1 (frame 71/960) c:\\Users\\gtoft\\OneDrive\\DTU\\4_Semester_AS\\Master_Thesis\\auto-annotation-sam\\notebooks\\..\\data\\raw\\NewMeatballs2.mp4: 640x640 (no detections), 7.9ms\n",
      "video 1/1 (frame 72/960) c:\\Users\\gtoft\\OneDrive\\DTU\\4_Semester_AS\\Master_Thesis\\auto-annotation-sam\\notebooks\\..\\data\\raw\\NewMeatballs2.mp4: 640x640 (no detections), 16.1ms\n",
      "video 1/1 (frame 73/960) c:\\Users\\gtoft\\OneDrive\\DTU\\4_Semester_AS\\Master_Thesis\\auto-annotation-sam\\notebooks\\..\\data\\raw\\NewMeatballs2.mp4: 640x640 (no detections), 7.2ms\n",
      "video 1/1 (frame 74/960) c:\\Users\\gtoft\\OneDrive\\DTU\\4_Semester_AS\\Master_Thesis\\auto-annotation-sam\\notebooks\\..\\data\\raw\\NewMeatballs2.mp4: 640x640 (no detections), 6.9ms\n",
      "video 1/1 (frame 75/960) c:\\Users\\gtoft\\OneDrive\\DTU\\4_Semester_AS\\Master_Thesis\\auto-annotation-sam\\notebooks\\..\\data\\raw\\NewMeatballs2.mp4: 640x640 (no detections), 7.7ms\n",
      "video 1/1 (frame 76/960) c:\\Users\\gtoft\\OneDrive\\DTU\\4_Semester_AS\\Master_Thesis\\auto-annotation-sam\\notebooks\\..\\data\\raw\\NewMeatballs2.mp4: 640x640 1 class0, 6.9ms\n",
      "video 1/1 (frame 77/960) c:\\Users\\gtoft\\OneDrive\\DTU\\4_Semester_AS\\Master_Thesis\\auto-annotation-sam\\notebooks\\..\\data\\raw\\NewMeatballs2.mp4: 640x640 1 class0, 6.8ms\n",
      "video 1/1 (frame 78/960) c:\\Users\\gtoft\\OneDrive\\DTU\\4_Semester_AS\\Master_Thesis\\auto-annotation-sam\\notebooks\\..\\data\\raw\\NewMeatballs2.mp4: 640x640 1 class0, 13.7ms\n",
      "video 1/1 (frame 79/960) c:\\Users\\gtoft\\OneDrive\\DTU\\4_Semester_AS\\Master_Thesis\\auto-annotation-sam\\notebooks\\..\\data\\raw\\NewMeatballs2.mp4: 640x640 1 class0, 7.0ms\n",
      "video 1/1 (frame 80/960) c:\\Users\\gtoft\\OneDrive\\DTU\\4_Semester_AS\\Master_Thesis\\auto-annotation-sam\\notebooks\\..\\data\\raw\\NewMeatballs2.mp4: 640x640 1 class0, 7.0ms\n",
      "video 1/1 (frame 81/960) c:\\Users\\gtoft\\OneDrive\\DTU\\4_Semester_AS\\Master_Thesis\\auto-annotation-sam\\notebooks\\..\\data\\raw\\NewMeatballs2.mp4: 640x640 1 class0, 7.4ms\n",
      "video 1/1 (frame 82/960) c:\\Users\\gtoft\\OneDrive\\DTU\\4_Semester_AS\\Master_Thesis\\auto-annotation-sam\\notebooks\\..\\data\\raw\\NewMeatballs2.mp4: 640x640 2 class0s, 9.4ms\n",
      "video 1/1 (frame 83/960) c:\\Users\\gtoft\\OneDrive\\DTU\\4_Semester_AS\\Master_Thesis\\auto-annotation-sam\\notebooks\\..\\data\\raw\\NewMeatballs2.mp4: 640x640 (no detections), 7.7ms\n",
      "video 1/1 (frame 84/960) c:\\Users\\gtoft\\OneDrive\\DTU\\4_Semester_AS\\Master_Thesis\\auto-annotation-sam\\notebooks\\..\\data\\raw\\NewMeatballs2.mp4: 640x640 1 class0, 9.1ms\n",
      "video 1/1 (frame 85/960) c:\\Users\\gtoft\\OneDrive\\DTU\\4_Semester_AS\\Master_Thesis\\auto-annotation-sam\\notebooks\\..\\data\\raw\\NewMeatballs2.mp4: 640x640 1 class0, 10.3ms\n",
      "video 1/1 (frame 86/960) c:\\Users\\gtoft\\OneDrive\\DTU\\4_Semester_AS\\Master_Thesis\\auto-annotation-sam\\notebooks\\..\\data\\raw\\NewMeatballs2.mp4: 640x640 3 class0s, 6.9ms\n",
      "video 1/1 (frame 87/960) c:\\Users\\gtoft\\OneDrive\\DTU\\4_Semester_AS\\Master_Thesis\\auto-annotation-sam\\notebooks\\..\\data\\raw\\NewMeatballs2.mp4: 640x640 1 class0, 10.5ms\n",
      "video 1/1 (frame 88/960) c:\\Users\\gtoft\\OneDrive\\DTU\\4_Semester_AS\\Master_Thesis\\auto-annotation-sam\\notebooks\\..\\data\\raw\\NewMeatballs2.mp4: 640x640 (no detections), 7.8ms\n",
      "video 1/1 (frame 89/960) c:\\Users\\gtoft\\OneDrive\\DTU\\4_Semester_AS\\Master_Thesis\\auto-annotation-sam\\notebooks\\..\\data\\raw\\NewMeatballs2.mp4: 640x640 (no detections), 15.1ms\n",
      "video 1/1 (frame 90/960) c:\\Users\\gtoft\\OneDrive\\DTU\\4_Semester_AS\\Master_Thesis\\auto-annotation-sam\\notebooks\\..\\data\\raw\\NewMeatballs2.mp4: 640x640 1 class0, 6.8ms\n",
      "video 1/1 (frame 91/960) c:\\Users\\gtoft\\OneDrive\\DTU\\4_Semester_AS\\Master_Thesis\\auto-annotation-sam\\notebooks\\..\\data\\raw\\NewMeatballs2.mp4: 640x640 1 class0, 7.5ms\n",
      "video 1/1 (frame 92/960) c:\\Users\\gtoft\\OneDrive\\DTU\\4_Semester_AS\\Master_Thesis\\auto-annotation-sam\\notebooks\\..\\data\\raw\\NewMeatballs2.mp4: 640x640 2 class0s, 7.6ms\n",
      "video 1/1 (frame 93/960) c:\\Users\\gtoft\\OneDrive\\DTU\\4_Semester_AS\\Master_Thesis\\auto-annotation-sam\\notebooks\\..\\data\\raw\\NewMeatballs2.mp4: 640x640 1 class0, 6.8ms\n",
      "video 1/1 (frame 94/960) c:\\Users\\gtoft\\OneDrive\\DTU\\4_Semester_AS\\Master_Thesis\\auto-annotation-sam\\notebooks\\..\\data\\raw\\NewMeatballs2.mp4: 640x640 1 class0, 14.4ms\n",
      "video 1/1 (frame 95/960) c:\\Users\\gtoft\\OneDrive\\DTU\\4_Semester_AS\\Master_Thesis\\auto-annotation-sam\\notebooks\\..\\data\\raw\\NewMeatballs2.mp4: 640x640 3 class0s, 7.6ms\n",
      "video 1/1 (frame 96/960) c:\\Users\\gtoft\\OneDrive\\DTU\\4_Semester_AS\\Master_Thesis\\auto-annotation-sam\\notebooks\\..\\data\\raw\\NewMeatballs2.mp4: 640x640 1 class0, 6.9ms\n",
      "video 1/1 (frame 97/960) c:\\Users\\gtoft\\OneDrive\\DTU\\4_Semester_AS\\Master_Thesis\\auto-annotation-sam\\notebooks\\..\\data\\raw\\NewMeatballs2.mp4: 640x640 1 class0, 10.7ms\n",
      "video 1/1 (frame 98/960) c:\\Users\\gtoft\\OneDrive\\DTU\\4_Semester_AS\\Master_Thesis\\auto-annotation-sam\\notebooks\\..\\data\\raw\\NewMeatballs2.mp4: 640x640 (no detections), 7.5ms\n",
      "video 1/1 (frame 99/960) c:\\Users\\gtoft\\OneDrive\\DTU\\4_Semester_AS\\Master_Thesis\\auto-annotation-sam\\notebooks\\..\\data\\raw\\NewMeatballs2.mp4: 640x640 (no detections), 8.5ms\n",
      "video 1/1 (frame 100/960) c:\\Users\\gtoft\\OneDrive\\DTU\\4_Semester_AS\\Master_Thesis\\auto-annotation-sam\\notebooks\\..\\data\\raw\\NewMeatballs2.mp4: 640x640 (no detections), 6.7ms\n",
      "video 1/1 (frame 101/960) c:\\Users\\gtoft\\OneDrive\\DTU\\4_Semester_AS\\Master_Thesis\\auto-annotation-sam\\notebooks\\..\\data\\raw\\NewMeatballs2.mp4: 640x640 (no detections), 6.8ms\n",
      "video 1/1 (frame 102/960) c:\\Users\\gtoft\\OneDrive\\DTU\\4_Semester_AS\\Master_Thesis\\auto-annotation-sam\\notebooks\\..\\data\\raw\\NewMeatballs2.mp4: 640x640 (no detections), 15.3ms\n",
      "video 1/1 (frame 103/960) c:\\Users\\gtoft\\OneDrive\\DTU\\4_Semester_AS\\Master_Thesis\\auto-annotation-sam\\notebooks\\..\\data\\raw\\NewMeatballs2.mp4: 640x640 1 class0, 6.9ms\n",
      "video 1/1 (frame 104/960) c:\\Users\\gtoft\\OneDrive\\DTU\\4_Semester_AS\\Master_Thesis\\auto-annotation-sam\\notebooks\\..\\data\\raw\\NewMeatballs2.mp4: 640x640 (no detections), 8.0ms\n",
      "video 1/1 (frame 105/960) c:\\Users\\gtoft\\OneDrive\\DTU\\4_Semester_AS\\Master_Thesis\\auto-annotation-sam\\notebooks\\..\\data\\raw\\NewMeatballs2.mp4: 640x640 (no detections), 9.4ms\n",
      "video 1/1 (frame 106/960) c:\\Users\\gtoft\\OneDrive\\DTU\\4_Semester_AS\\Master_Thesis\\auto-annotation-sam\\notebooks\\..\\data\\raw\\NewMeatballs2.mp4: 640x640 (no detections), 7.2ms\n",
      "video 1/1 (frame 107/960) c:\\Users\\gtoft\\OneDrive\\DTU\\4_Semester_AS\\Master_Thesis\\auto-annotation-sam\\notebooks\\..\\data\\raw\\NewMeatballs2.mp4: 640x640 (no detections), 7.9ms\n",
      "video 1/1 (frame 108/960) c:\\Users\\gtoft\\OneDrive\\DTU\\4_Semester_AS\\Master_Thesis\\auto-annotation-sam\\notebooks\\..\\data\\raw\\NewMeatballs2.mp4: 640x640 (no detections), 12.6ms\n",
      "video 1/1 (frame 109/960) c:\\Users\\gtoft\\OneDrive\\DTU\\4_Semester_AS\\Master_Thesis\\auto-annotation-sam\\notebooks\\..\\data\\raw\\NewMeatballs2.mp4: 640x640 1 class0, 9.8ms\n",
      "video 1/1 (frame 110/960) c:\\Users\\gtoft\\OneDrive\\DTU\\4_Semester_AS\\Master_Thesis\\auto-annotation-sam\\notebooks\\..\\data\\raw\\NewMeatballs2.mp4: 640x640 (no detections), 7.6ms\n",
      "video 1/1 (frame 111/960) c:\\Users\\gtoft\\OneDrive\\DTU\\4_Semester_AS\\Master_Thesis\\auto-annotation-sam\\notebooks\\..\\data\\raw\\NewMeatballs2.mp4: 640x640 (no detections), 6.6ms\n",
      "video 1/1 (frame 112/960) c:\\Users\\gtoft\\OneDrive\\DTU\\4_Semester_AS\\Master_Thesis\\auto-annotation-sam\\notebooks\\..\\data\\raw\\NewMeatballs2.mp4: 640x640 3 class0s, 6.7ms\n",
      "video 1/1 (frame 113/960) c:\\Users\\gtoft\\OneDrive\\DTU\\4_Semester_AS\\Master_Thesis\\auto-annotation-sam\\notebooks\\..\\data\\raw\\NewMeatballs2.mp4: 640x640 4 class0s, 12.7ms\n",
      "video 1/1 (frame 114/960) c:\\Users\\gtoft\\OneDrive\\DTU\\4_Semester_AS\\Master_Thesis\\auto-annotation-sam\\notebooks\\..\\data\\raw\\NewMeatballs2.mp4: 640x640 3 class0s, 10.4ms\n",
      "video 1/1 (frame 115/960) c:\\Users\\gtoft\\OneDrive\\DTU\\4_Semester_AS\\Master_Thesis\\auto-annotation-sam\\notebooks\\..\\data\\raw\\NewMeatballs2.mp4: 640x640 2 class0s, 7.1ms\n",
      "video 1/1 (frame 116/960) c:\\Users\\gtoft\\OneDrive\\DTU\\4_Semester_AS\\Master_Thesis\\auto-annotation-sam\\notebooks\\..\\data\\raw\\NewMeatballs2.mp4: 640x640 2 class0s, 10.0ms\n",
      "video 1/1 (frame 117/960) c:\\Users\\gtoft\\OneDrive\\DTU\\4_Semester_AS\\Master_Thesis\\auto-annotation-sam\\notebooks\\..\\data\\raw\\NewMeatballs2.mp4: 640x640 3 class0s, 7.1ms\n",
      "video 1/1 (frame 118/960) c:\\Users\\gtoft\\OneDrive\\DTU\\4_Semester_AS\\Master_Thesis\\auto-annotation-sam\\notebooks\\..\\data\\raw\\NewMeatballs2.mp4: 640x640 3 class0s, 7.2ms\n",
      "video 1/1 (frame 119/960) c:\\Users\\gtoft\\OneDrive\\DTU\\4_Semester_AS\\Master_Thesis\\auto-annotation-sam\\notebooks\\..\\data\\raw\\NewMeatballs2.mp4: 640x640 2 class0s, 9.1ms\n",
      "video 1/1 (frame 120/960) c:\\Users\\gtoft\\OneDrive\\DTU\\4_Semester_AS\\Master_Thesis\\auto-annotation-sam\\notebooks\\..\\data\\raw\\NewMeatballs2.mp4: 640x640 2 class0s, 8.2ms\n",
      "video 1/1 (frame 121/960) c:\\Users\\gtoft\\OneDrive\\DTU\\4_Semester_AS\\Master_Thesis\\auto-annotation-sam\\notebooks\\..\\data\\raw\\NewMeatballs2.mp4: 640x640 3 class0s, 7.8ms\n",
      "video 1/1 (frame 122/960) c:\\Users\\gtoft\\OneDrive\\DTU\\4_Semester_AS\\Master_Thesis\\auto-annotation-sam\\notebooks\\..\\data\\raw\\NewMeatballs2.mp4: 640x640 2 class0s, 10.0ms\n",
      "video 1/1 (frame 123/960) c:\\Users\\gtoft\\OneDrive\\DTU\\4_Semester_AS\\Master_Thesis\\auto-annotation-sam\\notebooks\\..\\data\\raw\\NewMeatballs2.mp4: 640x640 1 class0, 6.4ms\n",
      "video 1/1 (frame 124/960) c:\\Users\\gtoft\\OneDrive\\DTU\\4_Semester_AS\\Master_Thesis\\auto-annotation-sam\\notebooks\\..\\data\\raw\\NewMeatballs2.mp4: 640x640 1 class0, 6.5ms\n",
      "video 1/1 (frame 125/960) c:\\Users\\gtoft\\OneDrive\\DTU\\4_Semester_AS\\Master_Thesis\\auto-annotation-sam\\notebooks\\..\\data\\raw\\NewMeatballs2.mp4: 640x640 2 class0s, 6.3ms\n",
      "video 1/1 (frame 126/960) c:\\Users\\gtoft\\OneDrive\\DTU\\4_Semester_AS\\Master_Thesis\\auto-annotation-sam\\notebooks\\..\\data\\raw\\NewMeatballs2.mp4: 640x640 1 class0, 8.1ms\n",
      "video 1/1 (frame 127/960) c:\\Users\\gtoft\\OneDrive\\DTU\\4_Semester_AS\\Master_Thesis\\auto-annotation-sam\\notebooks\\..\\data\\raw\\NewMeatballs2.mp4: 640x640 (no detections), 7.6ms\n",
      "video 1/1 (frame 128/960) c:\\Users\\gtoft\\OneDrive\\DTU\\4_Semester_AS\\Master_Thesis\\auto-annotation-sam\\notebooks\\..\\data\\raw\\NewMeatballs2.mp4: 640x640 1 class0, 6.9ms\n",
      "video 1/1 (frame 129/960) c:\\Users\\gtoft\\OneDrive\\DTU\\4_Semester_AS\\Master_Thesis\\auto-annotation-sam\\notebooks\\..\\data\\raw\\NewMeatballs2.mp4: 640x640 1 class0, 6.9ms\n",
      "video 1/1 (frame 130/960) c:\\Users\\gtoft\\OneDrive\\DTU\\4_Semester_AS\\Master_Thesis\\auto-annotation-sam\\notebooks\\..\\data\\raw\\NewMeatballs2.mp4: 640x640 1 class0, 7.1ms\n",
      "video 1/1 (frame 131/960) c:\\Users\\gtoft\\OneDrive\\DTU\\4_Semester_AS\\Master_Thesis\\auto-annotation-sam\\notebooks\\..\\data\\raw\\NewMeatballs2.mp4: 640x640 1 class0, 8.3ms\n",
      "video 1/1 (frame 132/960) c:\\Users\\gtoft\\OneDrive\\DTU\\4_Semester_AS\\Master_Thesis\\auto-annotation-sam\\notebooks\\..\\data\\raw\\NewMeatballs2.mp4: 640x640 1 class0, 13.2ms\n",
      "video 1/1 (frame 133/960) c:\\Users\\gtoft\\OneDrive\\DTU\\4_Semester_AS\\Master_Thesis\\auto-annotation-sam\\notebooks\\..\\data\\raw\\NewMeatballs2.mp4: 640x640 1 class0, 10.1ms\n",
      "video 1/1 (frame 134/960) c:\\Users\\gtoft\\OneDrive\\DTU\\4_Semester_AS\\Master_Thesis\\auto-annotation-sam\\notebooks\\..\\data\\raw\\NewMeatballs2.mp4: 640x640 1 class0, 7.2ms\n",
      "video 1/1 (frame 135/960) c:\\Users\\gtoft\\OneDrive\\DTU\\4_Semester_AS\\Master_Thesis\\auto-annotation-sam\\notebooks\\..\\data\\raw\\NewMeatballs2.mp4: 640x640 (no detections), 7.0ms\n",
      "video 1/1 (frame 136/960) c:\\Users\\gtoft\\OneDrive\\DTU\\4_Semester_AS\\Master_Thesis\\auto-annotation-sam\\notebooks\\..\\data\\raw\\NewMeatballs2.mp4: 640x640 1 class0, 7.0ms\n",
      "video 1/1 (frame 137/960) c:\\Users\\gtoft\\OneDrive\\DTU\\4_Semester_AS\\Master_Thesis\\auto-annotation-sam\\notebooks\\..\\data\\raw\\NewMeatballs2.mp4: 640x640 1 class0, 7.9ms\n",
      "video 1/1 (frame 138/960) c:\\Users\\gtoft\\OneDrive\\DTU\\4_Semester_AS\\Master_Thesis\\auto-annotation-sam\\notebooks\\..\\data\\raw\\NewMeatballs2.mp4: 640x640 1 class0, 6.4ms\n",
      "video 1/1 (frame 139/960) c:\\Users\\gtoft\\OneDrive\\DTU\\4_Semester_AS\\Master_Thesis\\auto-annotation-sam\\notebooks\\..\\data\\raw\\NewMeatballs2.mp4: 640x640 2 class0s, 6.2ms\n",
      "video 1/1 (frame 140/960) c:\\Users\\gtoft\\OneDrive\\DTU\\4_Semester_AS\\Master_Thesis\\auto-annotation-sam\\notebooks\\..\\data\\raw\\NewMeatballs2.mp4: 640x640 1 class0, 6.9ms\n",
      "video 1/1 (frame 141/960) c:\\Users\\gtoft\\OneDrive\\DTU\\4_Semester_AS\\Master_Thesis\\auto-annotation-sam\\notebooks\\..\\data\\raw\\NewMeatballs2.mp4: 640x640 1 class0, 7.7ms\n",
      "video 1/1 (frame 142/960) c:\\Users\\gtoft\\OneDrive\\DTU\\4_Semester_AS\\Master_Thesis\\auto-annotation-sam\\notebooks\\..\\data\\raw\\NewMeatballs2.mp4: 640x640 1 class0, 7.0ms\n",
      "video 1/1 (frame 143/960) c:\\Users\\gtoft\\OneDrive\\DTU\\4_Semester_AS\\Master_Thesis\\auto-annotation-sam\\notebooks\\..\\data\\raw\\NewMeatballs2.mp4: 640x640 1 class0, 14.0ms\n",
      "video 1/1 (frame 144/960) c:\\Users\\gtoft\\OneDrive\\DTU\\4_Semester_AS\\Master_Thesis\\auto-annotation-sam\\notebooks\\..\\data\\raw\\NewMeatballs2.mp4: 640x640 1 class0, 8.9ms\n",
      "video 1/1 (frame 145/960) c:\\Users\\gtoft\\OneDrive\\DTU\\4_Semester_AS\\Master_Thesis\\auto-annotation-sam\\notebooks\\..\\data\\raw\\NewMeatballs2.mp4: 640x640 1 class0, 11.5ms\n",
      "video 1/1 (frame 146/960) c:\\Users\\gtoft\\OneDrive\\DTU\\4_Semester_AS\\Master_Thesis\\auto-annotation-sam\\notebooks\\..\\data\\raw\\NewMeatballs2.mp4: 640x640 1 class0, 7.7ms\n",
      "video 1/1 (frame 147/960) c:\\Users\\gtoft\\OneDrive\\DTU\\4_Semester_AS\\Master_Thesis\\auto-annotation-sam\\notebooks\\..\\data\\raw\\NewMeatballs2.mp4: 640x640 2 class0s, 6.2ms\n",
      "video 1/1 (frame 148/960) c:\\Users\\gtoft\\OneDrive\\DTU\\4_Semester_AS\\Master_Thesis\\auto-annotation-sam\\notebooks\\..\\data\\raw\\NewMeatballs2.mp4: 640x640 3 class0s, 10.8ms\n",
      "video 1/1 (frame 149/960) c:\\Users\\gtoft\\OneDrive\\DTU\\4_Semester_AS\\Master_Thesis\\auto-annotation-sam\\notebooks\\..\\data\\raw\\NewMeatballs2.mp4: 640x640 3 class0s, 9.3ms\n",
      "video 1/1 (frame 150/960) c:\\Users\\gtoft\\OneDrive\\DTU\\4_Semester_AS\\Master_Thesis\\auto-annotation-sam\\notebooks\\..\\data\\raw\\NewMeatballs2.mp4: 640x640 4 class0s, 15.6ms\n",
      "video 1/1 (frame 151/960) c:\\Users\\gtoft\\OneDrive\\DTU\\4_Semester_AS\\Master_Thesis\\auto-annotation-sam\\notebooks\\..\\data\\raw\\NewMeatballs2.mp4: 640x640 3 class0s, 12.8ms\n",
      "video 1/1 (frame 152/960) c:\\Users\\gtoft\\OneDrive\\DTU\\4_Semester_AS\\Master_Thesis\\auto-annotation-sam\\notebooks\\..\\data\\raw\\NewMeatballs2.mp4: 640x640 2 class0s, 16.9ms\n",
      "video 1/1 (frame 153/960) c:\\Users\\gtoft\\OneDrive\\DTU\\4_Semester_AS\\Master_Thesis\\auto-annotation-sam\\notebooks\\..\\data\\raw\\NewMeatballs2.mp4: 640x640 2 class0s, 16.8ms\n",
      "video 1/1 (frame 154/960) c:\\Users\\gtoft\\OneDrive\\DTU\\4_Semester_AS\\Master_Thesis\\auto-annotation-sam\\notebooks\\..\\data\\raw\\NewMeatballs2.mp4: 640x640 1 class0, 17.5ms\n",
      "video 1/1 (frame 155/960) c:\\Users\\gtoft\\OneDrive\\DTU\\4_Semester_AS\\Master_Thesis\\auto-annotation-sam\\notebooks\\..\\data\\raw\\NewMeatballs2.mp4: 640x640 2 class0s, 21.4ms\n",
      "video 1/1 (frame 156/960) c:\\Users\\gtoft\\OneDrive\\DTU\\4_Semester_AS\\Master_Thesis\\auto-annotation-sam\\notebooks\\..\\data\\raw\\NewMeatballs2.mp4: 640x640 1 class0, 14.0ms\n",
      "video 1/1 (frame 157/960) c:\\Users\\gtoft\\OneDrive\\DTU\\4_Semester_AS\\Master_Thesis\\auto-annotation-sam\\notebooks\\..\\data\\raw\\NewMeatballs2.mp4: 640x640 2 class0s, 11.0ms\n",
      "video 1/1 (frame 158/960) c:\\Users\\gtoft\\OneDrive\\DTU\\4_Semester_AS\\Master_Thesis\\auto-annotation-sam\\notebooks\\..\\data\\raw\\NewMeatballs2.mp4: 640x640 1 class0, 13.9ms\n",
      "video 1/1 (frame 159/960) c:\\Users\\gtoft\\OneDrive\\DTU\\4_Semester_AS\\Master_Thesis\\auto-annotation-sam\\notebooks\\..\\data\\raw\\NewMeatballs2.mp4: 640x640 1 class0, 7.5ms\n",
      "video 1/1 (frame 160/960) c:\\Users\\gtoft\\OneDrive\\DTU\\4_Semester_AS\\Master_Thesis\\auto-annotation-sam\\notebooks\\..\\data\\raw\\NewMeatballs2.mp4: 640x640 (no detections), 7.0ms\n",
      "video 1/1 (frame 161/960) c:\\Users\\gtoft\\OneDrive\\DTU\\4_Semester_AS\\Master_Thesis\\auto-annotation-sam\\notebooks\\..\\data\\raw\\NewMeatballs2.mp4: 640x640 (no detections), 8.6ms\n",
      "video 1/1 (frame 162/960) c:\\Users\\gtoft\\OneDrive\\DTU\\4_Semester_AS\\Master_Thesis\\auto-annotation-sam\\notebooks\\..\\data\\raw\\NewMeatballs2.mp4: 640x640 1 class0, 7.5ms\n",
      "video 1/1 (frame 163/960) c:\\Users\\gtoft\\OneDrive\\DTU\\4_Semester_AS\\Master_Thesis\\auto-annotation-sam\\notebooks\\..\\data\\raw\\NewMeatballs2.mp4: 640x640 (no detections), 10.9ms\n",
      "video 1/1 (frame 164/960) c:\\Users\\gtoft\\OneDrive\\DTU\\4_Semester_AS\\Master_Thesis\\auto-annotation-sam\\notebooks\\..\\data\\raw\\NewMeatballs2.mp4: 640x640 1 class0, 9.3ms\n",
      "video 1/1 (frame 165/960) c:\\Users\\gtoft\\OneDrive\\DTU\\4_Semester_AS\\Master_Thesis\\auto-annotation-sam\\notebooks\\..\\data\\raw\\NewMeatballs2.mp4: 640x640 (no detections), 7.6ms\n",
      "video 1/1 (frame 166/960) c:\\Users\\gtoft\\OneDrive\\DTU\\4_Semester_AS\\Master_Thesis\\auto-annotation-sam\\notebooks\\..\\data\\raw\\NewMeatballs2.mp4: 640x640 1 class0, 11.0ms\n",
      "video 1/1 (frame 167/960) c:\\Users\\gtoft\\OneDrive\\DTU\\4_Semester_AS\\Master_Thesis\\auto-annotation-sam\\notebooks\\..\\data\\raw\\NewMeatballs2.mp4: 640x640 (no detections), 7.4ms\n",
      "video 1/1 (frame 168/960) c:\\Users\\gtoft\\OneDrive\\DTU\\4_Semester_AS\\Master_Thesis\\auto-annotation-sam\\notebooks\\..\\data\\raw\\NewMeatballs2.mp4: 640x640 1 class0, 8.2ms\n",
      "video 1/1 (frame 169/960) c:\\Users\\gtoft\\OneDrive\\DTU\\4_Semester_AS\\Master_Thesis\\auto-annotation-sam\\notebooks\\..\\data\\raw\\NewMeatballs2.mp4: 640x640 1 class0, 10.2ms\n",
      "video 1/1 (frame 170/960) c:\\Users\\gtoft\\OneDrive\\DTU\\4_Semester_AS\\Master_Thesis\\auto-annotation-sam\\notebooks\\..\\data\\raw\\NewMeatballs2.mp4: 640x640 (no detections), 7.2ms\n",
      "video 1/1 (frame 171/960) c:\\Users\\gtoft\\OneDrive\\DTU\\4_Semester_AS\\Master_Thesis\\auto-annotation-sam\\notebooks\\..\\data\\raw\\NewMeatballs2.mp4: 640x640 1 class0, 9.7ms\n",
      "video 1/1 (frame 172/960) c:\\Users\\gtoft\\OneDrive\\DTU\\4_Semester_AS\\Master_Thesis\\auto-annotation-sam\\notebooks\\..\\data\\raw\\NewMeatballs2.mp4: 640x640 1 class0, 7.6ms\n",
      "video 1/1 (frame 173/960) c:\\Users\\gtoft\\OneDrive\\DTU\\4_Semester_AS\\Master_Thesis\\auto-annotation-sam\\notebooks\\..\\data\\raw\\NewMeatballs2.mp4: 640x640 3 class0s, 10.0ms\n",
      "video 1/1 (frame 174/960) c:\\Users\\gtoft\\OneDrive\\DTU\\4_Semester_AS\\Master_Thesis\\auto-annotation-sam\\notebooks\\..\\data\\raw\\NewMeatballs2.mp4: 640x640 (no detections), 7.0ms\n",
      "video 1/1 (frame 175/960) c:\\Users\\gtoft\\OneDrive\\DTU\\4_Semester_AS\\Master_Thesis\\auto-annotation-sam\\notebooks\\..\\data\\raw\\NewMeatballs2.mp4: 640x640 2 class0s, 7.1ms\n",
      "video 1/1 (frame 176/960) c:\\Users\\gtoft\\OneDrive\\DTU\\4_Semester_AS\\Master_Thesis\\auto-annotation-sam\\notebooks\\..\\data\\raw\\NewMeatballs2.mp4: 640x640 2 class0s, 8.2ms\n",
      "video 1/1 (frame 177/960) c:\\Users\\gtoft\\OneDrive\\DTU\\4_Semester_AS\\Master_Thesis\\auto-annotation-sam\\notebooks\\..\\data\\raw\\NewMeatballs2.mp4: 640x640 1 class0, 20.4ms\n",
      "video 1/1 (frame 178/960) c:\\Users\\gtoft\\OneDrive\\DTU\\4_Semester_AS\\Master_Thesis\\auto-annotation-sam\\notebooks\\..\\data\\raw\\NewMeatballs2.mp4: 640x640 (no detections), 7.6ms\n",
      "video 1/1 (frame 179/960) c:\\Users\\gtoft\\OneDrive\\DTU\\4_Semester_AS\\Master_Thesis\\auto-annotation-sam\\notebooks\\..\\data\\raw\\NewMeatballs2.mp4: 640x640 (no detections), 8.1ms\n",
      "video 1/1 (frame 180/960) c:\\Users\\gtoft\\OneDrive\\DTU\\4_Semester_AS\\Master_Thesis\\auto-annotation-sam\\notebooks\\..\\data\\raw\\NewMeatballs2.mp4: 640x640 1 class0, 7.1ms\n",
      "video 1/1 (frame 181/960) c:\\Users\\gtoft\\OneDrive\\DTU\\4_Semester_AS\\Master_Thesis\\auto-annotation-sam\\notebooks\\..\\data\\raw\\NewMeatballs2.mp4: 640x640 1 class0, 7.3ms\n",
      "video 1/1 (frame 182/960) c:\\Users\\gtoft\\OneDrive\\DTU\\4_Semester_AS\\Master_Thesis\\auto-annotation-sam\\notebooks\\..\\data\\raw\\NewMeatballs2.mp4: 640x640 1 class0, 7.8ms\n",
      "video 1/1 (frame 183/960) c:\\Users\\gtoft\\OneDrive\\DTU\\4_Semester_AS\\Master_Thesis\\auto-annotation-sam\\notebooks\\..\\data\\raw\\NewMeatballs2.mp4: 640x640 1 class0, 9.4ms\n",
      "video 1/1 (frame 184/960) c:\\Users\\gtoft\\OneDrive\\DTU\\4_Semester_AS\\Master_Thesis\\auto-annotation-sam\\notebooks\\..\\data\\raw\\NewMeatballs2.mp4: 640x640 1 class0, 13.7ms\n",
      "video 1/1 (frame 185/960) c:\\Users\\gtoft\\OneDrive\\DTU\\4_Semester_AS\\Master_Thesis\\auto-annotation-sam\\notebooks\\..\\data\\raw\\NewMeatballs2.mp4: 640x640 3 class0s, 7.8ms\n",
      "video 1/1 (frame 186/960) c:\\Users\\gtoft\\OneDrive\\DTU\\4_Semester_AS\\Master_Thesis\\auto-annotation-sam\\notebooks\\..\\data\\raw\\NewMeatballs2.mp4: 640x640 2 class0s, 7.2ms\n",
      "video 1/1 (frame 187/960) c:\\Users\\gtoft\\OneDrive\\DTU\\4_Semester_AS\\Master_Thesis\\auto-annotation-sam\\notebooks\\..\\data\\raw\\NewMeatballs2.mp4: 640x640 2 class0s, 7.7ms\n",
      "video 1/1 (frame 188/960) c:\\Users\\gtoft\\OneDrive\\DTU\\4_Semester_AS\\Master_Thesis\\auto-annotation-sam\\notebooks\\..\\data\\raw\\NewMeatballs2.mp4: 640x640 1 class0, 7.4ms\n",
      "video 1/1 (frame 189/960) c:\\Users\\gtoft\\OneDrive\\DTU\\4_Semester_AS\\Master_Thesis\\auto-annotation-sam\\notebooks\\..\\data\\raw\\NewMeatballs2.mp4: 640x640 2 class0s, 7.7ms\n",
      "video 1/1 (frame 190/960) c:\\Users\\gtoft\\OneDrive\\DTU\\4_Semester_AS\\Master_Thesis\\auto-annotation-sam\\notebooks\\..\\data\\raw\\NewMeatballs2.mp4: 640x640 2 class0s, 8.4ms\n",
      "video 1/1 (frame 191/960) c:\\Users\\gtoft\\OneDrive\\DTU\\4_Semester_AS\\Master_Thesis\\auto-annotation-sam\\notebooks\\..\\data\\raw\\NewMeatballs2.mp4: 640x640 1 class0, 9.0ms\n",
      "video 1/1 (frame 192/960) c:\\Users\\gtoft\\OneDrive\\DTU\\4_Semester_AS\\Master_Thesis\\auto-annotation-sam\\notebooks\\..\\data\\raw\\NewMeatballs2.mp4: 640x640 1 class0, 18.7ms\n",
      "video 1/1 (frame 193/960) c:\\Users\\gtoft\\OneDrive\\DTU\\4_Semester_AS\\Master_Thesis\\auto-annotation-sam\\notebooks\\..\\data\\raw\\NewMeatballs2.mp4: 640x640 (no detections), 14.7ms\n",
      "video 1/1 (frame 194/960) c:\\Users\\gtoft\\OneDrive\\DTU\\4_Semester_AS\\Master_Thesis\\auto-annotation-sam\\notebooks\\..\\data\\raw\\NewMeatballs2.mp4: 640x640 (no detections), 8.3ms\n",
      "video 1/1 (frame 195/960) c:\\Users\\gtoft\\OneDrive\\DTU\\4_Semester_AS\\Master_Thesis\\auto-annotation-sam\\notebooks\\..\\data\\raw\\NewMeatballs2.mp4: 640x640 (no detections), 16.5ms\n",
      "video 1/1 (frame 196/960) c:\\Users\\gtoft\\OneDrive\\DTU\\4_Semester_AS\\Master_Thesis\\auto-annotation-sam\\notebooks\\..\\data\\raw\\NewMeatballs2.mp4: 640x640 1 class0, 7.6ms\n",
      "video 1/1 (frame 197/960) c:\\Users\\gtoft\\OneDrive\\DTU\\4_Semester_AS\\Master_Thesis\\auto-annotation-sam\\notebooks\\..\\data\\raw\\NewMeatballs2.mp4: 640x640 2 class0s, 7.0ms\n",
      "video 1/1 (frame 198/960) c:\\Users\\gtoft\\OneDrive\\DTU\\4_Semester_AS\\Master_Thesis\\auto-annotation-sam\\notebooks\\..\\data\\raw\\NewMeatballs2.mp4: 640x640 1 class0, 8.2ms\n",
      "video 1/1 (frame 199/960) c:\\Users\\gtoft\\OneDrive\\DTU\\4_Semester_AS\\Master_Thesis\\auto-annotation-sam\\notebooks\\..\\data\\raw\\NewMeatballs2.mp4: 640x640 (no detections), 7.6ms\n",
      "video 1/1 (frame 200/960) c:\\Users\\gtoft\\OneDrive\\DTU\\4_Semester_AS\\Master_Thesis\\auto-annotation-sam\\notebooks\\..\\data\\raw\\NewMeatballs2.mp4: 640x640 1 class0, 8.3ms\n",
      "video 1/1 (frame 201/960) c:\\Users\\gtoft\\OneDrive\\DTU\\4_Semester_AS\\Master_Thesis\\auto-annotation-sam\\notebooks\\..\\data\\raw\\NewMeatballs2.mp4: 640x640 (no detections), 11.1ms\n",
      "video 1/1 (frame 202/960) c:\\Users\\gtoft\\OneDrive\\DTU\\4_Semester_AS\\Master_Thesis\\auto-annotation-sam\\notebooks\\..\\data\\raw\\NewMeatballs2.mp4: 640x640 (no detections), 15.7ms\n",
      "video 1/1 (frame 203/960) c:\\Users\\gtoft\\OneDrive\\DTU\\4_Semester_AS\\Master_Thesis\\auto-annotation-sam\\notebooks\\..\\data\\raw\\NewMeatballs2.mp4: 640x640 1 class0, 9.6ms\n",
      "video 1/1 (frame 204/960) c:\\Users\\gtoft\\OneDrive\\DTU\\4_Semester_AS\\Master_Thesis\\auto-annotation-sam\\notebooks\\..\\data\\raw\\NewMeatballs2.mp4: 640x640 (no detections), 6.8ms\n",
      "video 1/1 (frame 205/960) c:\\Users\\gtoft\\OneDrive\\DTU\\4_Semester_AS\\Master_Thesis\\auto-annotation-sam\\notebooks\\..\\data\\raw\\NewMeatballs2.mp4: 640x640 (no detections), 14.7ms\n",
      "video 1/1 (frame 206/960) c:\\Users\\gtoft\\OneDrive\\DTU\\4_Semester_AS\\Master_Thesis\\auto-annotation-sam\\notebooks\\..\\data\\raw\\NewMeatballs2.mp4: 640x640 1 class0, 12.1ms\n",
      "video 1/1 (frame 207/960) c:\\Users\\gtoft\\OneDrive\\DTU\\4_Semester_AS\\Master_Thesis\\auto-annotation-sam\\notebooks\\..\\data\\raw\\NewMeatballs2.mp4: 640x640 1 class0, 8.8ms\n",
      "video 1/1 (frame 208/960) c:\\Users\\gtoft\\OneDrive\\DTU\\4_Semester_AS\\Master_Thesis\\auto-annotation-sam\\notebooks\\..\\data\\raw\\NewMeatballs2.mp4: 640x640 (no detections), 14.7ms\n",
      "video 1/1 (frame 209/960) c:\\Users\\gtoft\\OneDrive\\DTU\\4_Semester_AS\\Master_Thesis\\auto-annotation-sam\\notebooks\\..\\data\\raw\\NewMeatballs2.mp4: 640x640 1 class0, 14.5ms\n",
      "video 1/1 (frame 210/960) c:\\Users\\gtoft\\OneDrive\\DTU\\4_Semester_AS\\Master_Thesis\\auto-annotation-sam\\notebooks\\..\\data\\raw\\NewMeatballs2.mp4: 640x640 1 class0, 8.3ms\n",
      "video 1/1 (frame 211/960) c:\\Users\\gtoft\\OneDrive\\DTU\\4_Semester_AS\\Master_Thesis\\auto-annotation-sam\\notebooks\\..\\data\\raw\\NewMeatballs2.mp4: 640x640 1 class0, 11.7ms\n",
      "video 1/1 (frame 212/960) c:\\Users\\gtoft\\OneDrive\\DTU\\4_Semester_AS\\Master_Thesis\\auto-annotation-sam\\notebooks\\..\\data\\raw\\NewMeatballs2.mp4: 640x640 1 class0, 8.1ms\n",
      "video 1/1 (frame 213/960) c:\\Users\\gtoft\\OneDrive\\DTU\\4_Semester_AS\\Master_Thesis\\auto-annotation-sam\\notebooks\\..\\data\\raw\\NewMeatballs2.mp4: 640x640 1 class0, 7.3ms\n",
      "video 1/1 (frame 214/960) c:\\Users\\gtoft\\OneDrive\\DTU\\4_Semester_AS\\Master_Thesis\\auto-annotation-sam\\notebooks\\..\\data\\raw\\NewMeatballs2.mp4: 640x640 1 class0, 9.3ms\n",
      "video 1/1 (frame 215/960) c:\\Users\\gtoft\\OneDrive\\DTU\\4_Semester_AS\\Master_Thesis\\auto-annotation-sam\\notebooks\\..\\data\\raw\\NewMeatballs2.mp4: 640x640 2 class0s, 15.9ms\n",
      "video 1/1 (frame 216/960) c:\\Users\\gtoft\\OneDrive\\DTU\\4_Semester_AS\\Master_Thesis\\auto-annotation-sam\\notebooks\\..\\data\\raw\\NewMeatballs2.mp4: 640x640 1 class0, 10.7ms\n",
      "video 1/1 (frame 217/960) c:\\Users\\gtoft\\OneDrive\\DTU\\4_Semester_AS\\Master_Thesis\\auto-annotation-sam\\notebooks\\..\\data\\raw\\NewMeatballs2.mp4: 640x640 2 class0s, 8.6ms\n",
      "video 1/1 (frame 218/960) c:\\Users\\gtoft\\OneDrive\\DTU\\4_Semester_AS\\Master_Thesis\\auto-annotation-sam\\notebooks\\..\\data\\raw\\NewMeatballs2.mp4: 640x640 2 class0s, 9.0ms\n",
      "video 1/1 (frame 219/960) c:\\Users\\gtoft\\OneDrive\\DTU\\4_Semester_AS\\Master_Thesis\\auto-annotation-sam\\notebooks\\..\\data\\raw\\NewMeatballs2.mp4: 640x640 2 class0s, 8.0ms\n",
      "video 1/1 (frame 220/960) c:\\Users\\gtoft\\OneDrive\\DTU\\4_Semester_AS\\Master_Thesis\\auto-annotation-sam\\notebooks\\..\\data\\raw\\NewMeatballs2.mp4: 640x640 1 class0, 9.1ms\n",
      "video 1/1 (frame 221/960) c:\\Users\\gtoft\\OneDrive\\DTU\\4_Semester_AS\\Master_Thesis\\auto-annotation-sam\\notebooks\\..\\data\\raw\\NewMeatballs2.mp4: 640x640 1 class0, 7.4ms\n",
      "video 1/1 (frame 222/960) c:\\Users\\gtoft\\OneDrive\\DTU\\4_Semester_AS\\Master_Thesis\\auto-annotation-sam\\notebooks\\..\\data\\raw\\NewMeatballs2.mp4: 640x640 2 class0s, 8.0ms\n",
      "video 1/1 (frame 223/960) c:\\Users\\gtoft\\OneDrive\\DTU\\4_Semester_AS\\Master_Thesis\\auto-annotation-sam\\notebooks\\..\\data\\raw\\NewMeatballs2.mp4: 640x640 2 class0s, 6.8ms\n",
      "video 1/1 (frame 224/960) c:\\Users\\gtoft\\OneDrive\\DTU\\4_Semester_AS\\Master_Thesis\\auto-annotation-sam\\notebooks\\..\\data\\raw\\NewMeatballs2.mp4: 640x640 1 class0, 9.3ms\n",
      "video 1/1 (frame 225/960) c:\\Users\\gtoft\\OneDrive\\DTU\\4_Semester_AS\\Master_Thesis\\auto-annotation-sam\\notebooks\\..\\data\\raw\\NewMeatballs2.mp4: 640x640 1 class0, 7.5ms\n",
      "video 1/1 (frame 226/960) c:\\Users\\gtoft\\OneDrive\\DTU\\4_Semester_AS\\Master_Thesis\\auto-annotation-sam\\notebooks\\..\\data\\raw\\NewMeatballs2.mp4: 640x640 1 class0, 7.5ms\n",
      "video 1/1 (frame 227/960) c:\\Users\\gtoft\\OneDrive\\DTU\\4_Semester_AS\\Master_Thesis\\auto-annotation-sam\\notebooks\\..\\data\\raw\\NewMeatballs2.mp4: 640x640 1 class0, 7.7ms\n",
      "video 1/1 (frame 228/960) c:\\Users\\gtoft\\OneDrive\\DTU\\4_Semester_AS\\Master_Thesis\\auto-annotation-sam\\notebooks\\..\\data\\raw\\NewMeatballs2.mp4: 640x640 (no detections), 13.1ms\n",
      "video 1/1 (frame 229/960) c:\\Users\\gtoft\\OneDrive\\DTU\\4_Semester_AS\\Master_Thesis\\auto-annotation-sam\\notebooks\\..\\data\\raw\\NewMeatballs2.mp4: 640x640 (no detections), 9.3ms\n",
      "video 1/1 (frame 230/960) c:\\Users\\gtoft\\OneDrive\\DTU\\4_Semester_AS\\Master_Thesis\\auto-annotation-sam\\notebooks\\..\\data\\raw\\NewMeatballs2.mp4: 640x640 (no detections), 15.3ms\n",
      "video 1/1 (frame 231/960) c:\\Users\\gtoft\\OneDrive\\DTU\\4_Semester_AS\\Master_Thesis\\auto-annotation-sam\\notebooks\\..\\data\\raw\\NewMeatballs2.mp4: 640x640 (no detections), 9.2ms\n",
      "video 1/1 (frame 232/960) c:\\Users\\gtoft\\OneDrive\\DTU\\4_Semester_AS\\Master_Thesis\\auto-annotation-sam\\notebooks\\..\\data\\raw\\NewMeatballs2.mp4: 640x640 (no detections), 7.8ms\n",
      "video 1/1 (frame 233/960) c:\\Users\\gtoft\\OneDrive\\DTU\\4_Semester_AS\\Master_Thesis\\auto-annotation-sam\\notebooks\\..\\data\\raw\\NewMeatballs2.mp4: 640x640 (no detections), 13.7ms\n",
      "video 1/1 (frame 234/960) c:\\Users\\gtoft\\OneDrive\\DTU\\4_Semester_AS\\Master_Thesis\\auto-annotation-sam\\notebooks\\..\\data\\raw\\NewMeatballs2.mp4: 640x640 (no detections), 6.9ms\n",
      "video 1/1 (frame 235/960) c:\\Users\\gtoft\\OneDrive\\DTU\\4_Semester_AS\\Master_Thesis\\auto-annotation-sam\\notebooks\\..\\data\\raw\\NewMeatballs2.mp4: 640x640 1 class0, 7.4ms\n",
      "video 1/1 (frame 236/960) c:\\Users\\gtoft\\OneDrive\\DTU\\4_Semester_AS\\Master_Thesis\\auto-annotation-sam\\notebooks\\..\\data\\raw\\NewMeatballs2.mp4: 640x640 (no detections), 7.6ms\n",
      "video 1/1 (frame 237/960) c:\\Users\\gtoft\\OneDrive\\DTU\\4_Semester_AS\\Master_Thesis\\auto-annotation-sam\\notebooks\\..\\data\\raw\\NewMeatballs2.mp4: 640x640 1 class0, 7.3ms\n",
      "video 1/1 (frame 238/960) c:\\Users\\gtoft\\OneDrive\\DTU\\4_Semester_AS\\Master_Thesis\\auto-annotation-sam\\notebooks\\..\\data\\raw\\NewMeatballs2.mp4: 640x640 1 class0, 6.7ms\n",
      "video 1/1 (frame 239/960) c:\\Users\\gtoft\\OneDrive\\DTU\\4_Semester_AS\\Master_Thesis\\auto-annotation-sam\\notebooks\\..\\data\\raw\\NewMeatballs2.mp4: 640x640 1 class0, 14.4ms\n",
      "video 1/1 (frame 240/960) c:\\Users\\gtoft\\OneDrive\\DTU\\4_Semester_AS\\Master_Thesis\\auto-annotation-sam\\notebooks\\..\\data\\raw\\NewMeatballs2.mp4: 640x640 2 class0s, 7.5ms\n",
      "video 1/1 (frame 241/960) c:\\Users\\gtoft\\OneDrive\\DTU\\4_Semester_AS\\Master_Thesis\\auto-annotation-sam\\notebooks\\..\\data\\raw\\NewMeatballs2.mp4: 640x640 (no detections), 9.5ms\n",
      "video 1/1 (frame 242/960) c:\\Users\\gtoft\\OneDrive\\DTU\\4_Semester_AS\\Master_Thesis\\auto-annotation-sam\\notebooks\\..\\data\\raw\\NewMeatballs2.mp4: 640x640 (no detections), 7.5ms\n",
      "video 1/1 (frame 243/960) c:\\Users\\gtoft\\OneDrive\\DTU\\4_Semester_AS\\Master_Thesis\\auto-annotation-sam\\notebooks\\..\\data\\raw\\NewMeatballs2.mp4: 640x640 1 class0, 7.9ms\n",
      "video 1/1 (frame 244/960) c:\\Users\\gtoft\\OneDrive\\DTU\\4_Semester_AS\\Master_Thesis\\auto-annotation-sam\\notebooks\\..\\data\\raw\\NewMeatballs2.mp4: 640x640 1 class0, 7.9ms\n",
      "video 1/1 (frame 245/960) c:\\Users\\gtoft\\OneDrive\\DTU\\4_Semester_AS\\Master_Thesis\\auto-annotation-sam\\notebooks\\..\\data\\raw\\NewMeatballs2.mp4: 640x640 1 class0, 7.2ms\n",
      "video 1/1 (frame 246/960) c:\\Users\\gtoft\\OneDrive\\DTU\\4_Semester_AS\\Master_Thesis\\auto-annotation-sam\\notebooks\\..\\data\\raw\\NewMeatballs2.mp4: 640x640 2 class0s, 27.9ms\n",
      "video 1/1 (frame 247/960) c:\\Users\\gtoft\\OneDrive\\DTU\\4_Semester_AS\\Master_Thesis\\auto-annotation-sam\\notebooks\\..\\data\\raw\\NewMeatballs2.mp4: 640x640 1 class0, 6.8ms\n",
      "video 1/1 (frame 248/960) c:\\Users\\gtoft\\OneDrive\\DTU\\4_Semester_AS\\Master_Thesis\\auto-annotation-sam\\notebooks\\..\\data\\raw\\NewMeatballs2.mp4: 640x640 1 class0, 8.1ms\n",
      "video 1/1 (frame 249/960) c:\\Users\\gtoft\\OneDrive\\DTU\\4_Semester_AS\\Master_Thesis\\auto-annotation-sam\\notebooks\\..\\data\\raw\\NewMeatballs2.mp4: 640x640 2 class0s, 8.5ms\n",
      "video 1/1 (frame 250/960) c:\\Users\\gtoft\\OneDrive\\DTU\\4_Semester_AS\\Master_Thesis\\auto-annotation-sam\\notebooks\\..\\data\\raw\\NewMeatballs2.mp4: 640x640 2 class0s, 6.9ms\n",
      "video 1/1 (frame 251/960) c:\\Users\\gtoft\\OneDrive\\DTU\\4_Semester_AS\\Master_Thesis\\auto-annotation-sam\\notebooks\\..\\data\\raw\\NewMeatballs2.mp4: 640x640 1 class0, 6.7ms\n",
      "video 1/1 (frame 252/960) c:\\Users\\gtoft\\OneDrive\\DTU\\4_Semester_AS\\Master_Thesis\\auto-annotation-sam\\notebooks\\..\\data\\raw\\NewMeatballs2.mp4: 640x640 1 class0, 7.2ms\n",
      "video 1/1 (frame 253/960) c:\\Users\\gtoft\\OneDrive\\DTU\\4_Semester_AS\\Master_Thesis\\auto-annotation-sam\\notebooks\\..\\data\\raw\\NewMeatballs2.mp4: 640x640 1 class0, 14.3ms\n",
      "video 1/1 (frame 254/960) c:\\Users\\gtoft\\OneDrive\\DTU\\4_Semester_AS\\Master_Thesis\\auto-annotation-sam\\notebooks\\..\\data\\raw\\NewMeatballs2.mp4: 640x640 1 class0, 7.7ms\n",
      "video 1/1 (frame 255/960) c:\\Users\\gtoft\\OneDrive\\DTU\\4_Semester_AS\\Master_Thesis\\auto-annotation-sam\\notebooks\\..\\data\\raw\\NewMeatballs2.mp4: 640x640 1 class0, 12.8ms\n",
      "video 1/1 (frame 256/960) c:\\Users\\gtoft\\OneDrive\\DTU\\4_Semester_AS\\Master_Thesis\\auto-annotation-sam\\notebooks\\..\\data\\raw\\NewMeatballs2.mp4: 640x640 3 class0s, 10.1ms\n",
      "video 1/1 (frame 257/960) c:\\Users\\gtoft\\OneDrive\\DTU\\4_Semester_AS\\Master_Thesis\\auto-annotation-sam\\notebooks\\..\\data\\raw\\NewMeatballs2.mp4: 640x640 3 class0s, 12.3ms\n",
      "video 1/1 (frame 258/960) c:\\Users\\gtoft\\OneDrive\\DTU\\4_Semester_AS\\Master_Thesis\\auto-annotation-sam\\notebooks\\..\\data\\raw\\NewMeatballs2.mp4: 640x640 (no detections), 9.5ms\n",
      "video 1/1 (frame 259/960) c:\\Users\\gtoft\\OneDrive\\DTU\\4_Semester_AS\\Master_Thesis\\auto-annotation-sam\\notebooks\\..\\data\\raw\\NewMeatballs2.mp4: 640x640 (no detections), 13.1ms\n",
      "video 1/1 (frame 260/960) c:\\Users\\gtoft\\OneDrive\\DTU\\4_Semester_AS\\Master_Thesis\\auto-annotation-sam\\notebooks\\..\\data\\raw\\NewMeatballs2.mp4: 640x640 (no detections), 6.4ms\n",
      "video 1/1 (frame 261/960) c:\\Users\\gtoft\\OneDrive\\DTU\\4_Semester_AS\\Master_Thesis\\auto-annotation-sam\\notebooks\\..\\data\\raw\\NewMeatballs2.mp4: 640x640 (no detections), 7.7ms\n",
      "video 1/1 (frame 262/960) c:\\Users\\gtoft\\OneDrive\\DTU\\4_Semester_AS\\Master_Thesis\\auto-annotation-sam\\notebooks\\..\\data\\raw\\NewMeatballs2.mp4: 640x640 (no detections), 8.0ms\n",
      "video 1/1 (frame 263/960) c:\\Users\\gtoft\\OneDrive\\DTU\\4_Semester_AS\\Master_Thesis\\auto-annotation-sam\\notebooks\\..\\data\\raw\\NewMeatballs2.mp4: 640x640 (no detections), 7.7ms\n",
      "video 1/1 (frame 264/960) c:\\Users\\gtoft\\OneDrive\\DTU\\4_Semester_AS\\Master_Thesis\\auto-annotation-sam\\notebooks\\..\\data\\raw\\NewMeatballs2.mp4: 640x640 1 class0, 7.9ms\n",
      "video 1/1 (frame 265/960) c:\\Users\\gtoft\\OneDrive\\DTU\\4_Semester_AS\\Master_Thesis\\auto-annotation-sam\\notebooks\\..\\data\\raw\\NewMeatballs2.mp4: 640x640 (no detections), 6.4ms\n",
      "video 1/1 (frame 266/960) c:\\Users\\gtoft\\OneDrive\\DTU\\4_Semester_AS\\Master_Thesis\\auto-annotation-sam\\notebooks\\..\\data\\raw\\NewMeatballs2.mp4: 640x640 1 class0, 11.6ms\n",
      "video 1/1 (frame 267/960) c:\\Users\\gtoft\\OneDrive\\DTU\\4_Semester_AS\\Master_Thesis\\auto-annotation-sam\\notebooks\\..\\data\\raw\\NewMeatballs2.mp4: 640x640 (no detections), 9.5ms\n",
      "video 1/1 (frame 268/960) c:\\Users\\gtoft\\OneDrive\\DTU\\4_Semester_AS\\Master_Thesis\\auto-annotation-sam\\notebooks\\..\\data\\raw\\NewMeatballs2.mp4: 640x640 (no detections), 7.7ms\n",
      "video 1/1 (frame 269/960) c:\\Users\\gtoft\\OneDrive\\DTU\\4_Semester_AS\\Master_Thesis\\auto-annotation-sam\\notebooks\\..\\data\\raw\\NewMeatballs2.mp4: 640x640 (no detections), 8.5ms\n",
      "video 1/1 (frame 270/960) c:\\Users\\gtoft\\OneDrive\\DTU\\4_Semester_AS\\Master_Thesis\\auto-annotation-sam\\notebooks\\..\\data\\raw\\NewMeatballs2.mp4: 640x640 (no detections), 8.2ms\n",
      "video 1/1 (frame 271/960) c:\\Users\\gtoft\\OneDrive\\DTU\\4_Semester_AS\\Master_Thesis\\auto-annotation-sam\\notebooks\\..\\data\\raw\\NewMeatballs2.mp4: 640x640 (no detections), 8.1ms\n",
      "video 1/1 (frame 272/960) c:\\Users\\gtoft\\OneDrive\\DTU\\4_Semester_AS\\Master_Thesis\\auto-annotation-sam\\notebooks\\..\\data\\raw\\NewMeatballs2.mp4: 640x640 (no detections), 6.6ms\n",
      "video 1/1 (frame 273/960) c:\\Users\\gtoft\\OneDrive\\DTU\\4_Semester_AS\\Master_Thesis\\auto-annotation-sam\\notebooks\\..\\data\\raw\\NewMeatballs2.mp4: 640x640 (no detections), 11.3ms\n",
      "video 1/1 (frame 274/960) c:\\Users\\gtoft\\OneDrive\\DTU\\4_Semester_AS\\Master_Thesis\\auto-annotation-sam\\notebooks\\..\\data\\raw\\NewMeatballs2.mp4: 640x640 1 class0, 10.9ms\n",
      "video 1/1 (frame 275/960) c:\\Users\\gtoft\\OneDrive\\DTU\\4_Semester_AS\\Master_Thesis\\auto-annotation-sam\\notebooks\\..\\data\\raw\\NewMeatballs2.mp4: 640x640 (no detections), 8.8ms\n",
      "video 1/1 (frame 276/960) c:\\Users\\gtoft\\OneDrive\\DTU\\4_Semester_AS\\Master_Thesis\\auto-annotation-sam\\notebooks\\..\\data\\raw\\NewMeatballs2.mp4: 640x640 (no detections), 7.9ms\n",
      "video 1/1 (frame 277/960) c:\\Users\\gtoft\\OneDrive\\DTU\\4_Semester_AS\\Master_Thesis\\auto-annotation-sam\\notebooks\\..\\data\\raw\\NewMeatballs2.mp4: 640x640 (no detections), 11.4ms\n",
      "video 1/1 (frame 278/960) c:\\Users\\gtoft\\OneDrive\\DTU\\4_Semester_AS\\Master_Thesis\\auto-annotation-sam\\notebooks\\..\\data\\raw\\NewMeatballs2.mp4: 640x640 1 class0, 15.1ms\n",
      "video 1/1 (frame 279/960) c:\\Users\\gtoft\\OneDrive\\DTU\\4_Semester_AS\\Master_Thesis\\auto-annotation-sam\\notebooks\\..\\data\\raw\\NewMeatballs2.mp4: 640x640 1 class0, 10.4ms\n",
      "video 1/1 (frame 280/960) c:\\Users\\gtoft\\OneDrive\\DTU\\4_Semester_AS\\Master_Thesis\\auto-annotation-sam\\notebooks\\..\\data\\raw\\NewMeatballs2.mp4: 640x640 (no detections), 8.1ms\n",
      "video 1/1 (frame 281/960) c:\\Users\\gtoft\\OneDrive\\DTU\\4_Semester_AS\\Master_Thesis\\auto-annotation-sam\\notebooks\\..\\data\\raw\\NewMeatballs2.mp4: 640x640 1 class0, 7.3ms\n",
      "video 1/1 (frame 282/960) c:\\Users\\gtoft\\OneDrive\\DTU\\4_Semester_AS\\Master_Thesis\\auto-annotation-sam\\notebooks\\..\\data\\raw\\NewMeatballs2.mp4: 640x640 1 class0, 7.9ms\n",
      "video 1/1 (frame 283/960) c:\\Users\\gtoft\\OneDrive\\DTU\\4_Semester_AS\\Master_Thesis\\auto-annotation-sam\\notebooks\\..\\data\\raw\\NewMeatballs2.mp4: 640x640 3 class0s, 7.9ms\n",
      "video 1/1 (frame 284/960) c:\\Users\\gtoft\\OneDrive\\DTU\\4_Semester_AS\\Master_Thesis\\auto-annotation-sam\\notebooks\\..\\data\\raw\\NewMeatballs2.mp4: 640x640 3 class0s, 8.1ms\n",
      "video 1/1 (frame 285/960) c:\\Users\\gtoft\\OneDrive\\DTU\\4_Semester_AS\\Master_Thesis\\auto-annotation-sam\\notebooks\\..\\data\\raw\\NewMeatballs2.mp4: 640x640 2 class0s, 8.5ms\n",
      "video 1/1 (frame 286/960) c:\\Users\\gtoft\\OneDrive\\DTU\\4_Semester_AS\\Master_Thesis\\auto-annotation-sam\\notebooks\\..\\data\\raw\\NewMeatballs2.mp4: 640x640 2 class0s, 8.6ms\n",
      "video 1/1 (frame 287/960) c:\\Users\\gtoft\\OneDrive\\DTU\\4_Semester_AS\\Master_Thesis\\auto-annotation-sam\\notebooks\\..\\data\\raw\\NewMeatballs2.mp4: 640x640 3 class0s, 10.3ms\n",
      "video 1/1 (frame 288/960) c:\\Users\\gtoft\\OneDrive\\DTU\\4_Semester_AS\\Master_Thesis\\auto-annotation-sam\\notebooks\\..\\data\\raw\\NewMeatballs2.mp4: 640x640 2 class0s, 6.2ms\n",
      "video 1/1 (frame 289/960) c:\\Users\\gtoft\\OneDrive\\DTU\\4_Semester_AS\\Master_Thesis\\auto-annotation-sam\\notebooks\\..\\data\\raw\\NewMeatballs2.mp4: 640x640 2 class0s, 6.6ms\n",
      "video 1/1 (frame 290/960) c:\\Users\\gtoft\\OneDrive\\DTU\\4_Semester_AS\\Master_Thesis\\auto-annotation-sam\\notebooks\\..\\data\\raw\\NewMeatballs2.mp4: 640x640 1 class0, 6.7ms\n",
      "video 1/1 (frame 291/960) c:\\Users\\gtoft\\OneDrive\\DTU\\4_Semester_AS\\Master_Thesis\\auto-annotation-sam\\notebooks\\..\\data\\raw\\NewMeatballs2.mp4: 640x640 1 class0, 8.4ms\n",
      "video 1/1 (frame 292/960) c:\\Users\\gtoft\\OneDrive\\DTU\\4_Semester_AS\\Master_Thesis\\auto-annotation-sam\\notebooks\\..\\data\\raw\\NewMeatballs2.mp4: 640x640 1 class0, 11.3ms\n",
      "video 1/1 (frame 293/960) c:\\Users\\gtoft\\OneDrive\\DTU\\4_Semester_AS\\Master_Thesis\\auto-annotation-sam\\notebooks\\..\\data\\raw\\NewMeatballs2.mp4: 640x640 1 class0, 7.0ms\n",
      "video 1/1 (frame 294/960) c:\\Users\\gtoft\\OneDrive\\DTU\\4_Semester_AS\\Master_Thesis\\auto-annotation-sam\\notebooks\\..\\data\\raw\\NewMeatballs2.mp4: 640x640 (no detections), 8.3ms\n",
      "video 1/1 (frame 295/960) c:\\Users\\gtoft\\OneDrive\\DTU\\4_Semester_AS\\Master_Thesis\\auto-annotation-sam\\notebooks\\..\\data\\raw\\NewMeatballs2.mp4: 640x640 1 class0, 9.5ms\n",
      "video 1/1 (frame 296/960) c:\\Users\\gtoft\\OneDrive\\DTU\\4_Semester_AS\\Master_Thesis\\auto-annotation-sam\\notebooks\\..\\data\\raw\\NewMeatballs2.mp4: 640x640 1 class0, 15.7ms\n",
      "video 1/1 (frame 297/960) c:\\Users\\gtoft\\OneDrive\\DTU\\4_Semester_AS\\Master_Thesis\\auto-annotation-sam\\notebooks\\..\\data\\raw\\NewMeatballs2.mp4: 640x640 3 class0s, 7.0ms\n",
      "video 1/1 (frame 298/960) c:\\Users\\gtoft\\OneDrive\\DTU\\4_Semester_AS\\Master_Thesis\\auto-annotation-sam\\notebooks\\..\\data\\raw\\NewMeatballs2.mp4: 640x640 (no detections), 7.1ms\n",
      "video 1/1 (frame 299/960) c:\\Users\\gtoft\\OneDrive\\DTU\\4_Semester_AS\\Master_Thesis\\auto-annotation-sam\\notebooks\\..\\data\\raw\\NewMeatballs2.mp4: 640x640 (no detections), 8.3ms\n",
      "video 1/1 (frame 300/960) c:\\Users\\gtoft\\OneDrive\\DTU\\4_Semester_AS\\Master_Thesis\\auto-annotation-sam\\notebooks\\..\\data\\raw\\NewMeatballs2.mp4: 640x640 (no detections), 6.3ms\n",
      "video 1/1 (frame 301/960) c:\\Users\\gtoft\\OneDrive\\DTU\\4_Semester_AS\\Master_Thesis\\auto-annotation-sam\\notebooks\\..\\data\\raw\\NewMeatballs2.mp4: 640x640 1 class0, 7.1ms\n",
      "video 1/1 (frame 302/960) c:\\Users\\gtoft\\OneDrive\\DTU\\4_Semester_AS\\Master_Thesis\\auto-annotation-sam\\notebooks\\..\\data\\raw\\NewMeatballs2.mp4: 640x640 (no detections), 10.4ms\n",
      "video 1/1 (frame 303/960) c:\\Users\\gtoft\\OneDrive\\DTU\\4_Semester_AS\\Master_Thesis\\auto-annotation-sam\\notebooks\\..\\data\\raw\\NewMeatballs2.mp4: 640x640 (no detections), 10.8ms\n",
      "video 1/1 (frame 304/960) c:\\Users\\gtoft\\OneDrive\\DTU\\4_Semester_AS\\Master_Thesis\\auto-annotation-sam\\notebooks\\..\\data\\raw\\NewMeatballs2.mp4: 640x640 (no detections), 9.1ms\n",
      "video 1/1 (frame 305/960) c:\\Users\\gtoft\\OneDrive\\DTU\\4_Semester_AS\\Master_Thesis\\auto-annotation-sam\\notebooks\\..\\data\\raw\\NewMeatballs2.mp4: 640x640 (no detections), 6.5ms\n",
      "video 1/1 (frame 306/960) c:\\Users\\gtoft\\OneDrive\\DTU\\4_Semester_AS\\Master_Thesis\\auto-annotation-sam\\notebooks\\..\\data\\raw\\NewMeatballs2.mp4: 640x640 (no detections), 6.3ms\n",
      "video 1/1 (frame 307/960) c:\\Users\\gtoft\\OneDrive\\DTU\\4_Semester_AS\\Master_Thesis\\auto-annotation-sam\\notebooks\\..\\data\\raw\\NewMeatballs2.mp4: 640x640 1 class0, 7.5ms\n",
      "video 1/1 (frame 308/960) c:\\Users\\gtoft\\OneDrive\\DTU\\4_Semester_AS\\Master_Thesis\\auto-annotation-sam\\notebooks\\..\\data\\raw\\NewMeatballs2.mp4: 640x640 (no detections), 7.4ms\n",
      "video 1/1 (frame 309/960) c:\\Users\\gtoft\\OneDrive\\DTU\\4_Semester_AS\\Master_Thesis\\auto-annotation-sam\\notebooks\\..\\data\\raw\\NewMeatballs2.mp4: 640x640 (no detections), 10.0ms\n",
      "video 1/1 (frame 310/960) c:\\Users\\gtoft\\OneDrive\\DTU\\4_Semester_AS\\Master_Thesis\\auto-annotation-sam\\notebooks\\..\\data\\raw\\NewMeatballs2.mp4: 640x640 1 class0, 8.0ms\n",
      "video 1/1 (frame 311/960) c:\\Users\\gtoft\\OneDrive\\DTU\\4_Semester_AS\\Master_Thesis\\auto-annotation-sam\\notebooks\\..\\data\\raw\\NewMeatballs2.mp4: 640x640 1 class0, 9.8ms\n",
      "video 1/1 (frame 312/960) c:\\Users\\gtoft\\OneDrive\\DTU\\4_Semester_AS\\Master_Thesis\\auto-annotation-sam\\notebooks\\..\\data\\raw\\NewMeatballs2.mp4: 640x640 1 class0, 7.3ms\n",
      "video 1/1 (frame 313/960) c:\\Users\\gtoft\\OneDrive\\DTU\\4_Semester_AS\\Master_Thesis\\auto-annotation-sam\\notebooks\\..\\data\\raw\\NewMeatballs2.mp4: 640x640 1 class0, 6.4ms\n",
      "video 1/1 (frame 314/960) c:\\Users\\gtoft\\OneDrive\\DTU\\4_Semester_AS\\Master_Thesis\\auto-annotation-sam\\notebooks\\..\\data\\raw\\NewMeatballs2.mp4: 640x640 2 class0s, 10.4ms\n",
      "video 1/1 (frame 315/960) c:\\Users\\gtoft\\OneDrive\\DTU\\4_Semester_AS\\Master_Thesis\\auto-annotation-sam\\notebooks\\..\\data\\raw\\NewMeatballs2.mp4: 640x640 2 class0s, 7.8ms\n",
      "video 1/1 (frame 316/960) c:\\Users\\gtoft\\OneDrive\\DTU\\4_Semester_AS\\Master_Thesis\\auto-annotation-sam\\notebooks\\..\\data\\raw\\NewMeatballs2.mp4: 640x640 1 class0, 7.1ms\n",
      "video 1/1 (frame 317/960) c:\\Users\\gtoft\\OneDrive\\DTU\\4_Semester_AS\\Master_Thesis\\auto-annotation-sam\\notebooks\\..\\data\\raw\\NewMeatballs2.mp4: 640x640 1 class0, 9.7ms\n",
      "video 1/1 (frame 318/960) c:\\Users\\gtoft\\OneDrive\\DTU\\4_Semester_AS\\Master_Thesis\\auto-annotation-sam\\notebooks\\..\\data\\raw\\NewMeatballs2.mp4: 640x640 2 class0s, 11.6ms\n",
      "video 1/1 (frame 319/960) c:\\Users\\gtoft\\OneDrive\\DTU\\4_Semester_AS\\Master_Thesis\\auto-annotation-sam\\notebooks\\..\\data\\raw\\NewMeatballs2.mp4: 640x640 1 class0, 6.9ms\n",
      "video 1/1 (frame 320/960) c:\\Users\\gtoft\\OneDrive\\DTU\\4_Semester_AS\\Master_Thesis\\auto-annotation-sam\\notebooks\\..\\data\\raw\\NewMeatballs2.mp4: 640x640 1 class0, 7.8ms\n",
      "video 1/1 (frame 321/960) c:\\Users\\gtoft\\OneDrive\\DTU\\4_Semester_AS\\Master_Thesis\\auto-annotation-sam\\notebooks\\..\\data\\raw\\NewMeatballs2.mp4: 640x640 2 class0s, 8.7ms\n",
      "video 1/1 (frame 322/960) c:\\Users\\gtoft\\OneDrive\\DTU\\4_Semester_AS\\Master_Thesis\\auto-annotation-sam\\notebooks\\..\\data\\raw\\NewMeatballs2.mp4: 640x640 2 class0s, 8.3ms\n",
      "video 1/1 (frame 323/960) c:\\Users\\gtoft\\OneDrive\\DTU\\4_Semester_AS\\Master_Thesis\\auto-annotation-sam\\notebooks\\..\\data\\raw\\NewMeatballs2.mp4: 640x640 1 class0, 6.9ms\n",
      "video 1/1 (frame 324/960) c:\\Users\\gtoft\\OneDrive\\DTU\\4_Semester_AS\\Master_Thesis\\auto-annotation-sam\\notebooks\\..\\data\\raw\\NewMeatballs2.mp4: 640x640 1 class0, 10.7ms\n",
      "video 1/1 (frame 325/960) c:\\Users\\gtoft\\OneDrive\\DTU\\4_Semester_AS\\Master_Thesis\\auto-annotation-sam\\notebooks\\..\\data\\raw\\NewMeatballs2.mp4: 640x640 (no detections), 8.4ms\n",
      "video 1/1 (frame 326/960) c:\\Users\\gtoft\\OneDrive\\DTU\\4_Semester_AS\\Master_Thesis\\auto-annotation-sam\\notebooks\\..\\data\\raw\\NewMeatballs2.mp4: 640x640 2 class0s, 8.9ms\n",
      "video 1/1 (frame 327/960) c:\\Users\\gtoft\\OneDrive\\DTU\\4_Semester_AS\\Master_Thesis\\auto-annotation-sam\\notebooks\\..\\data\\raw\\NewMeatballs2.mp4: 640x640 (no detections), 11.1ms\n",
      "video 1/1 (frame 328/960) c:\\Users\\gtoft\\OneDrive\\DTU\\4_Semester_AS\\Master_Thesis\\auto-annotation-sam\\notebooks\\..\\data\\raw\\NewMeatballs2.mp4: 640x640 1 class0, 6.7ms\n",
      "video 1/1 (frame 329/960) c:\\Users\\gtoft\\OneDrive\\DTU\\4_Semester_AS\\Master_Thesis\\auto-annotation-sam\\notebooks\\..\\data\\raw\\NewMeatballs2.mp4: 640x640 1 class0, 12.2ms\n",
      "video 1/1 (frame 330/960) c:\\Users\\gtoft\\OneDrive\\DTU\\4_Semester_AS\\Master_Thesis\\auto-annotation-sam\\notebooks\\..\\data\\raw\\NewMeatballs2.mp4: 640x640 (no detections), 11.6ms\n",
      "video 1/1 (frame 331/960) c:\\Users\\gtoft\\OneDrive\\DTU\\4_Semester_AS\\Master_Thesis\\auto-annotation-sam\\notebooks\\..\\data\\raw\\NewMeatballs2.mp4: 640x640 1 class0, 8.7ms\n",
      "video 1/1 (frame 332/960) c:\\Users\\gtoft\\OneDrive\\DTU\\4_Semester_AS\\Master_Thesis\\auto-annotation-sam\\notebooks\\..\\data\\raw\\NewMeatballs2.mp4: 640x640 1 class0, 14.5ms\n",
      "video 1/1 (frame 333/960) c:\\Users\\gtoft\\OneDrive\\DTU\\4_Semester_AS\\Master_Thesis\\auto-annotation-sam\\notebooks\\..\\data\\raw\\NewMeatballs2.mp4: 640x640 1 class0, 13.6ms\n",
      "video 1/1 (frame 334/960) c:\\Users\\gtoft\\OneDrive\\DTU\\4_Semester_AS\\Master_Thesis\\auto-annotation-sam\\notebooks\\..\\data\\raw\\NewMeatballs2.mp4: 640x640 1 class0, 22.7ms\n",
      "video 1/1 (frame 335/960) c:\\Users\\gtoft\\OneDrive\\DTU\\4_Semester_AS\\Master_Thesis\\auto-annotation-sam\\notebooks\\..\\data\\raw\\NewMeatballs2.mp4: 640x640 1 class0, 14.3ms\n",
      "video 1/1 (frame 336/960) c:\\Users\\gtoft\\OneDrive\\DTU\\4_Semester_AS\\Master_Thesis\\auto-annotation-sam\\notebooks\\..\\data\\raw\\NewMeatballs2.mp4: 640x640 1 class0, 15.6ms\n",
      "video 1/1 (frame 337/960) c:\\Users\\gtoft\\OneDrive\\DTU\\4_Semester_AS\\Master_Thesis\\auto-annotation-sam\\notebooks\\..\\data\\raw\\NewMeatballs2.mp4: 640x640 (no detections), 15.7ms\n",
      "video 1/1 (frame 338/960) c:\\Users\\gtoft\\OneDrive\\DTU\\4_Semester_AS\\Master_Thesis\\auto-annotation-sam\\notebooks\\..\\data\\raw\\NewMeatballs2.mp4: 640x640 1 class0, 25.8ms\n",
      "video 1/1 (frame 339/960) c:\\Users\\gtoft\\OneDrive\\DTU\\4_Semester_AS\\Master_Thesis\\auto-annotation-sam\\notebooks\\..\\data\\raw\\NewMeatballs2.mp4: 640x640 1 class0, 13.0ms\n",
      "video 1/1 (frame 340/960) c:\\Users\\gtoft\\OneDrive\\DTU\\4_Semester_AS\\Master_Thesis\\auto-annotation-sam\\notebooks\\..\\data\\raw\\NewMeatballs2.mp4: 640x640 2 class0s, 14.1ms\n",
      "video 1/1 (frame 341/960) c:\\Users\\gtoft\\OneDrive\\DTU\\4_Semester_AS\\Master_Thesis\\auto-annotation-sam\\notebooks\\..\\data\\raw\\NewMeatballs2.mp4: 640x640 (no detections), 11.3ms\n",
      "video 1/1 (frame 342/960) c:\\Users\\gtoft\\OneDrive\\DTU\\4_Semester_AS\\Master_Thesis\\auto-annotation-sam\\notebooks\\..\\data\\raw\\NewMeatballs2.mp4: 640x640 1 class0, 20.2ms\n",
      "video 1/1 (frame 343/960) c:\\Users\\gtoft\\OneDrive\\DTU\\4_Semester_AS\\Master_Thesis\\auto-annotation-sam\\notebooks\\..\\data\\raw\\NewMeatballs2.mp4: 640x640 (no detections), 7.6ms\n",
      "video 1/1 (frame 344/960) c:\\Users\\gtoft\\OneDrive\\DTU\\4_Semester_AS\\Master_Thesis\\auto-annotation-sam\\notebooks\\..\\data\\raw\\NewMeatballs2.mp4: 640x640 (no detections), 15.1ms\n",
      "video 1/1 (frame 345/960) c:\\Users\\gtoft\\OneDrive\\DTU\\4_Semester_AS\\Master_Thesis\\auto-annotation-sam\\notebooks\\..\\data\\raw\\NewMeatballs2.mp4: 640x640 (no detections), 8.8ms\n",
      "video 1/1 (frame 346/960) c:\\Users\\gtoft\\OneDrive\\DTU\\4_Semester_AS\\Master_Thesis\\auto-annotation-sam\\notebooks\\..\\data\\raw\\NewMeatballs2.mp4: 640x640 1 class0, 7.7ms\n",
      "video 1/1 (frame 347/960) c:\\Users\\gtoft\\OneDrive\\DTU\\4_Semester_AS\\Master_Thesis\\auto-annotation-sam\\notebooks\\..\\data\\raw\\NewMeatballs2.mp4: 640x640 1 class0, 7.0ms\n",
      "video 1/1 (frame 348/960) c:\\Users\\gtoft\\OneDrive\\DTU\\4_Semester_AS\\Master_Thesis\\auto-annotation-sam\\notebooks\\..\\data\\raw\\NewMeatballs2.mp4: 640x640 1 class0, 8.2ms\n",
      "video 1/1 (frame 349/960) c:\\Users\\gtoft\\OneDrive\\DTU\\4_Semester_AS\\Master_Thesis\\auto-annotation-sam\\notebooks\\..\\data\\raw\\NewMeatballs2.mp4: 640x640 2 class0s, 7.8ms\n",
      "video 1/1 (frame 350/960) c:\\Users\\gtoft\\OneDrive\\DTU\\4_Semester_AS\\Master_Thesis\\auto-annotation-sam\\notebooks\\..\\data\\raw\\NewMeatballs2.mp4: 640x640 2 class0s, 7.9ms\n",
      "video 1/1 (frame 351/960) c:\\Users\\gtoft\\OneDrive\\DTU\\4_Semester_AS\\Master_Thesis\\auto-annotation-sam\\notebooks\\..\\data\\raw\\NewMeatballs2.mp4: 640x640 1 class0, 7.8ms\n",
      "video 1/1 (frame 352/960) c:\\Users\\gtoft\\OneDrive\\DTU\\4_Semester_AS\\Master_Thesis\\auto-annotation-sam\\notebooks\\..\\data\\raw\\NewMeatballs2.mp4: 640x640 2 class0s, 7.0ms\n",
      "video 1/1 (frame 353/960) c:\\Users\\gtoft\\OneDrive\\DTU\\4_Semester_AS\\Master_Thesis\\auto-annotation-sam\\notebooks\\..\\data\\raw\\NewMeatballs2.mp4: 640x640 1 class0, 7.4ms\n",
      "video 1/1 (frame 354/960) c:\\Users\\gtoft\\OneDrive\\DTU\\4_Semester_AS\\Master_Thesis\\auto-annotation-sam\\notebooks\\..\\data\\raw\\NewMeatballs2.mp4: 640x640 1 class0, 7.6ms\n",
      "video 1/1 (frame 355/960) c:\\Users\\gtoft\\OneDrive\\DTU\\4_Semester_AS\\Master_Thesis\\auto-annotation-sam\\notebooks\\..\\data\\raw\\NewMeatballs2.mp4: 640x640 1 class0, 16.1ms\n",
      "video 1/1 (frame 356/960) c:\\Users\\gtoft\\OneDrive\\DTU\\4_Semester_AS\\Master_Thesis\\auto-annotation-sam\\notebooks\\..\\data\\raw\\NewMeatballs2.mp4: 640x640 1 class0, 7.5ms\n",
      "video 1/1 (frame 357/960) c:\\Users\\gtoft\\OneDrive\\DTU\\4_Semester_AS\\Master_Thesis\\auto-annotation-sam\\notebooks\\..\\data\\raw\\NewMeatballs2.mp4: 640x640 1 class0, 7.2ms\n",
      "video 1/1 (frame 358/960) c:\\Users\\gtoft\\OneDrive\\DTU\\4_Semester_AS\\Master_Thesis\\auto-annotation-sam\\notebooks\\..\\data\\raw\\NewMeatballs2.mp4: 640x640 1 class0, 7.4ms\n",
      "video 1/1 (frame 359/960) c:\\Users\\gtoft\\OneDrive\\DTU\\4_Semester_AS\\Master_Thesis\\auto-annotation-sam\\notebooks\\..\\data\\raw\\NewMeatballs2.mp4: 640x640 1 class0, 7.5ms\n",
      "video 1/1 (frame 360/960) c:\\Users\\gtoft\\OneDrive\\DTU\\4_Semester_AS\\Master_Thesis\\auto-annotation-sam\\notebooks\\..\\data\\raw\\NewMeatballs2.mp4: 640x640 1 class0, 9.3ms\n",
      "video 1/1 (frame 361/960) c:\\Users\\gtoft\\OneDrive\\DTU\\4_Semester_AS\\Master_Thesis\\auto-annotation-sam\\notebooks\\..\\data\\raw\\NewMeatballs2.mp4: 640x640 1 class0, 8.4ms\n",
      "video 1/1 (frame 362/960) c:\\Users\\gtoft\\OneDrive\\DTU\\4_Semester_AS\\Master_Thesis\\auto-annotation-sam\\notebooks\\..\\data\\raw\\NewMeatballs2.mp4: 640x640 2 class0s, 7.2ms\n",
      "video 1/1 (frame 363/960) c:\\Users\\gtoft\\OneDrive\\DTU\\4_Semester_AS\\Master_Thesis\\auto-annotation-sam\\notebooks\\..\\data\\raw\\NewMeatballs2.mp4: 640x640 1 class0, 7.4ms\n",
      "video 1/1 (frame 364/960) c:\\Users\\gtoft\\OneDrive\\DTU\\4_Semester_AS\\Master_Thesis\\auto-annotation-sam\\notebooks\\..\\data\\raw\\NewMeatballs2.mp4: 640x640 1 class0, 6.9ms\n",
      "video 1/1 (frame 365/960) c:\\Users\\gtoft\\OneDrive\\DTU\\4_Semester_AS\\Master_Thesis\\auto-annotation-sam\\notebooks\\..\\data\\raw\\NewMeatballs2.mp4: 640x640 1 class0, 9.0ms\n",
      "video 1/1 (frame 366/960) c:\\Users\\gtoft\\OneDrive\\DTU\\4_Semester_AS\\Master_Thesis\\auto-annotation-sam\\notebooks\\..\\data\\raw\\NewMeatballs2.mp4: 640x640 1 class0, 15.1ms\n",
      "video 1/1 (frame 367/960) c:\\Users\\gtoft\\OneDrive\\DTU\\4_Semester_AS\\Master_Thesis\\auto-annotation-sam\\notebooks\\..\\data\\raw\\NewMeatballs2.mp4: 640x640 (no detections), 8.8ms\n",
      "video 1/1 (frame 368/960) c:\\Users\\gtoft\\OneDrive\\DTU\\4_Semester_AS\\Master_Thesis\\auto-annotation-sam\\notebooks\\..\\data\\raw\\NewMeatballs2.mp4: 640x640 (no detections), 9.0ms\n",
      "video 1/1 (frame 369/960) c:\\Users\\gtoft\\OneDrive\\DTU\\4_Semester_AS\\Master_Thesis\\auto-annotation-sam\\notebooks\\..\\data\\raw\\NewMeatballs2.mp4: 640x640 (no detections), 7.7ms\n",
      "video 1/1 (frame 370/960) c:\\Users\\gtoft\\OneDrive\\DTU\\4_Semester_AS\\Master_Thesis\\auto-annotation-sam\\notebooks\\..\\data\\raw\\NewMeatballs2.mp4: 640x640 (no detections), 7.5ms\n",
      "video 1/1 (frame 371/960) c:\\Users\\gtoft\\OneDrive\\DTU\\4_Semester_AS\\Master_Thesis\\auto-annotation-sam\\notebooks\\..\\data\\raw\\NewMeatballs2.mp4: 640x640 1 class0, 13.3ms\n",
      "video 1/1 (frame 372/960) c:\\Users\\gtoft\\OneDrive\\DTU\\4_Semester_AS\\Master_Thesis\\auto-annotation-sam\\notebooks\\..\\data\\raw\\NewMeatballs2.mp4: 640x640 (no detections), 7.1ms\n",
      "video 1/1 (frame 373/960) c:\\Users\\gtoft\\OneDrive\\DTU\\4_Semester_AS\\Master_Thesis\\auto-annotation-sam\\notebooks\\..\\data\\raw\\NewMeatballs2.mp4: 640x640 1 class0, 7.6ms\n",
      "video 1/1 (frame 374/960) c:\\Users\\gtoft\\OneDrive\\DTU\\4_Semester_AS\\Master_Thesis\\auto-annotation-sam\\notebooks\\..\\data\\raw\\NewMeatballs2.mp4: 640x640 2 class0s, 6.8ms\n",
      "video 1/1 (frame 375/960) c:\\Users\\gtoft\\OneDrive\\DTU\\4_Semester_AS\\Master_Thesis\\auto-annotation-sam\\notebooks\\..\\data\\raw\\NewMeatballs2.mp4: 640x640 1 class0, 11.7ms\n",
      "video 1/1 (frame 376/960) c:\\Users\\gtoft\\OneDrive\\DTU\\4_Semester_AS\\Master_Thesis\\auto-annotation-sam\\notebooks\\..\\data\\raw\\NewMeatballs2.mp4: 640x640 1 class0, 13.8ms\n",
      "video 1/1 (frame 377/960) c:\\Users\\gtoft\\OneDrive\\DTU\\4_Semester_AS\\Master_Thesis\\auto-annotation-sam\\notebooks\\..\\data\\raw\\NewMeatballs2.mp4: 640x640 1 class0, 6.9ms\n",
      "video 1/1 (frame 378/960) c:\\Users\\gtoft\\OneDrive\\DTU\\4_Semester_AS\\Master_Thesis\\auto-annotation-sam\\notebooks\\..\\data\\raw\\NewMeatballs2.mp4: 640x640 2 class0s, 12.6ms\n",
      "video 1/1 (frame 379/960) c:\\Users\\gtoft\\OneDrive\\DTU\\4_Semester_AS\\Master_Thesis\\auto-annotation-sam\\notebooks\\..\\data\\raw\\NewMeatballs2.mp4: 640x640 2 class0s, 13.0ms\n",
      "video 1/1 (frame 380/960) c:\\Users\\gtoft\\OneDrive\\DTU\\4_Semester_AS\\Master_Thesis\\auto-annotation-sam\\notebooks\\..\\data\\raw\\NewMeatballs2.mp4: 640x640 3 class0s, 7.4ms\n",
      "video 1/1 (frame 381/960) c:\\Users\\gtoft\\OneDrive\\DTU\\4_Semester_AS\\Master_Thesis\\auto-annotation-sam\\notebooks\\..\\data\\raw\\NewMeatballs2.mp4: 640x640 1 class0, 14.1ms\n",
      "video 1/1 (frame 382/960) c:\\Users\\gtoft\\OneDrive\\DTU\\4_Semester_AS\\Master_Thesis\\auto-annotation-sam\\notebooks\\..\\data\\raw\\NewMeatballs2.mp4: 640x640 1 class0, 8.9ms\n",
      "video 1/1 (frame 383/960) c:\\Users\\gtoft\\OneDrive\\DTU\\4_Semester_AS\\Master_Thesis\\auto-annotation-sam\\notebooks\\..\\data\\raw\\NewMeatballs2.mp4: 640x640 2 class0s, 9.9ms\n",
      "video 1/1 (frame 384/960) c:\\Users\\gtoft\\OneDrive\\DTU\\4_Semester_AS\\Master_Thesis\\auto-annotation-sam\\notebooks\\..\\data\\raw\\NewMeatballs2.mp4: 640x640 3 class0s, 8.4ms\n",
      "video 1/1 (frame 385/960) c:\\Users\\gtoft\\OneDrive\\DTU\\4_Semester_AS\\Master_Thesis\\auto-annotation-sam\\notebooks\\..\\data\\raw\\NewMeatballs2.mp4: 640x640 5 class0s, 13.4ms\n",
      "video 1/1 (frame 386/960) c:\\Users\\gtoft\\OneDrive\\DTU\\4_Semester_AS\\Master_Thesis\\auto-annotation-sam\\notebooks\\..\\data\\raw\\NewMeatballs2.mp4: 640x640 2 class0s, 9.5ms\n",
      "video 1/1 (frame 387/960) c:\\Users\\gtoft\\OneDrive\\DTU\\4_Semester_AS\\Master_Thesis\\auto-annotation-sam\\notebooks\\..\\data\\raw\\NewMeatballs2.mp4: 640x640 2 class0s, 8.2ms\n",
      "video 1/1 (frame 388/960) c:\\Users\\gtoft\\OneDrive\\DTU\\4_Semester_AS\\Master_Thesis\\auto-annotation-sam\\notebooks\\..\\data\\raw\\NewMeatballs2.mp4: 640x640 2 class0s, 13.4ms\n",
      "video 1/1 (frame 389/960) c:\\Users\\gtoft\\OneDrive\\DTU\\4_Semester_AS\\Master_Thesis\\auto-annotation-sam\\notebooks\\..\\data\\raw\\NewMeatballs2.mp4: 640x640 2 class0s, 7.6ms\n",
      "video 1/1 (frame 390/960) c:\\Users\\gtoft\\OneDrive\\DTU\\4_Semester_AS\\Master_Thesis\\auto-annotation-sam\\notebooks\\..\\data\\raw\\NewMeatballs2.mp4: 640x640 2 class0s, 7.4ms\n",
      "video 1/1 (frame 391/960) c:\\Users\\gtoft\\OneDrive\\DTU\\4_Semester_AS\\Master_Thesis\\auto-annotation-sam\\notebooks\\..\\data\\raw\\NewMeatballs2.mp4: 640x640 2 class0s, 7.4ms\n",
      "video 1/1 (frame 392/960) c:\\Users\\gtoft\\OneDrive\\DTU\\4_Semester_AS\\Master_Thesis\\auto-annotation-sam\\notebooks\\..\\data\\raw\\NewMeatballs2.mp4: 640x640 2 class0s, 20.5ms\n",
      "video 1/1 (frame 393/960) c:\\Users\\gtoft\\OneDrive\\DTU\\4_Semester_AS\\Master_Thesis\\auto-annotation-sam\\notebooks\\..\\data\\raw\\NewMeatballs2.mp4: 640x640 2 class0s, 7.2ms\n",
      "video 1/1 (frame 394/960) c:\\Users\\gtoft\\OneDrive\\DTU\\4_Semester_AS\\Master_Thesis\\auto-annotation-sam\\notebooks\\..\\data\\raw\\NewMeatballs2.mp4: 640x640 2 class0s, 7.6ms\n",
      "video 1/1 (frame 395/960) c:\\Users\\gtoft\\OneDrive\\DTU\\4_Semester_AS\\Master_Thesis\\auto-annotation-sam\\notebooks\\..\\data\\raw\\NewMeatballs2.mp4: 640x640 2 class0s, 7.6ms\n",
      "video 1/1 (frame 396/960) c:\\Users\\gtoft\\OneDrive\\DTU\\4_Semester_AS\\Master_Thesis\\auto-annotation-sam\\notebooks\\..\\data\\raw\\NewMeatballs2.mp4: 640x640 1 class0, 12.7ms\n",
      "video 1/1 (frame 397/960) c:\\Users\\gtoft\\OneDrive\\DTU\\4_Semester_AS\\Master_Thesis\\auto-annotation-sam\\notebooks\\..\\data\\raw\\NewMeatballs2.mp4: 640x640 1 class0, 25.6ms\n",
      "video 1/1 (frame 398/960) c:\\Users\\gtoft\\OneDrive\\DTU\\4_Semester_AS\\Master_Thesis\\auto-annotation-sam\\notebooks\\..\\data\\raw\\NewMeatballs2.mp4: 640x640 1 class0, 10.2ms\n",
      "video 1/1 (frame 399/960) c:\\Users\\gtoft\\OneDrive\\DTU\\4_Semester_AS\\Master_Thesis\\auto-annotation-sam\\notebooks\\..\\data\\raw\\NewMeatballs2.mp4: 640x640 (no detections), 6.5ms\n",
      "video 1/1 (frame 400/960) c:\\Users\\gtoft\\OneDrive\\DTU\\4_Semester_AS\\Master_Thesis\\auto-annotation-sam\\notebooks\\..\\data\\raw\\NewMeatballs2.mp4: 640x640 (no detections), 16.2ms\n",
      "video 1/1 (frame 401/960) c:\\Users\\gtoft\\OneDrive\\DTU\\4_Semester_AS\\Master_Thesis\\auto-annotation-sam\\notebooks\\..\\data\\raw\\NewMeatballs2.mp4: 640x640 (no detections), 7.5ms\n",
      "video 1/1 (frame 402/960) c:\\Users\\gtoft\\OneDrive\\DTU\\4_Semester_AS\\Master_Thesis\\auto-annotation-sam\\notebooks\\..\\data\\raw\\NewMeatballs2.mp4: 640x640 (no detections), 8.0ms\n",
      "video 1/1 (frame 403/960) c:\\Users\\gtoft\\OneDrive\\DTU\\4_Semester_AS\\Master_Thesis\\auto-annotation-sam\\notebooks\\..\\data\\raw\\NewMeatballs2.mp4: 640x640 (no detections), 7.1ms\n",
      "video 1/1 (frame 404/960) c:\\Users\\gtoft\\OneDrive\\DTU\\4_Semester_AS\\Master_Thesis\\auto-annotation-sam\\notebooks\\..\\data\\raw\\NewMeatballs2.mp4: 640x640 (no detections), 6.3ms\n",
      "video 1/1 (frame 405/960) c:\\Users\\gtoft\\OneDrive\\DTU\\4_Semester_AS\\Master_Thesis\\auto-annotation-sam\\notebooks\\..\\data\\raw\\NewMeatballs2.mp4: 640x640 (no detections), 7.2ms\n",
      "video 1/1 (frame 406/960) c:\\Users\\gtoft\\OneDrive\\DTU\\4_Semester_AS\\Master_Thesis\\auto-annotation-sam\\notebooks\\..\\data\\raw\\NewMeatballs2.mp4: 640x640 (no detections), 7.0ms\n",
      "video 1/1 (frame 407/960) c:\\Users\\gtoft\\OneDrive\\DTU\\4_Semester_AS\\Master_Thesis\\auto-annotation-sam\\notebooks\\..\\data\\raw\\NewMeatballs2.mp4: 640x640 1 class0, 7.2ms\n",
      "video 1/1 (frame 408/960) c:\\Users\\gtoft\\OneDrive\\DTU\\4_Semester_AS\\Master_Thesis\\auto-annotation-sam\\notebooks\\..\\data\\raw\\NewMeatballs2.mp4: 640x640 1 class0, 6.5ms\n",
      "video 1/1 (frame 409/960) c:\\Users\\gtoft\\OneDrive\\DTU\\4_Semester_AS\\Master_Thesis\\auto-annotation-sam\\notebooks\\..\\data\\raw\\NewMeatballs2.mp4: 640x640 1 class0, 6.7ms\n",
      "video 1/1 (frame 410/960) c:\\Users\\gtoft\\OneDrive\\DTU\\4_Semester_AS\\Master_Thesis\\auto-annotation-sam\\notebooks\\..\\data\\raw\\NewMeatballs2.mp4: 640x640 1 class0, 6.4ms\n",
      "video 1/1 (frame 411/960) c:\\Users\\gtoft\\OneDrive\\DTU\\4_Semester_AS\\Master_Thesis\\auto-annotation-sam\\notebooks\\..\\data\\raw\\NewMeatballs2.mp4: 640x640 (no detections), 7.1ms\n",
      "video 1/1 (frame 412/960) c:\\Users\\gtoft\\OneDrive\\DTU\\4_Semester_AS\\Master_Thesis\\auto-annotation-sam\\notebooks\\..\\data\\raw\\NewMeatballs2.mp4: 640x640 1 class0, 8.6ms\n",
      "video 1/1 (frame 413/960) c:\\Users\\gtoft\\OneDrive\\DTU\\4_Semester_AS\\Master_Thesis\\auto-annotation-sam\\notebooks\\..\\data\\raw\\NewMeatballs2.mp4: 640x640 1 class0, 10.7ms\n",
      "video 1/1 (frame 414/960) c:\\Users\\gtoft\\OneDrive\\DTU\\4_Semester_AS\\Master_Thesis\\auto-annotation-sam\\notebooks\\..\\data\\raw\\NewMeatballs2.mp4: 640x640 1 class0, 8.0ms\n",
      "video 1/1 (frame 415/960) c:\\Users\\gtoft\\OneDrive\\DTU\\4_Semester_AS\\Master_Thesis\\auto-annotation-sam\\notebooks\\..\\data\\raw\\NewMeatballs2.mp4: 640x640 3 class0s, 7.5ms\n",
      "video 1/1 (frame 416/960) c:\\Users\\gtoft\\OneDrive\\DTU\\4_Semester_AS\\Master_Thesis\\auto-annotation-sam\\notebooks\\..\\data\\raw\\NewMeatballs2.mp4: 640x640 2 class0s, 9.0ms\n",
      "video 1/1 (frame 417/960) c:\\Users\\gtoft\\OneDrive\\DTU\\4_Semester_AS\\Master_Thesis\\auto-annotation-sam\\notebooks\\..\\data\\raw\\NewMeatballs2.mp4: 640x640 1 class0, 7.2ms\n",
      "video 1/1 (frame 418/960) c:\\Users\\gtoft\\OneDrive\\DTU\\4_Semester_AS\\Master_Thesis\\auto-annotation-sam\\notebooks\\..\\data\\raw\\NewMeatballs2.mp4: 640x640 3 class0s, 12.2ms\n",
      "video 1/1 (frame 419/960) c:\\Users\\gtoft\\OneDrive\\DTU\\4_Semester_AS\\Master_Thesis\\auto-annotation-sam\\notebooks\\..\\data\\raw\\NewMeatballs2.mp4: 640x640 1 class0, 8.3ms\n",
      "video 1/1 (frame 420/960) c:\\Users\\gtoft\\OneDrive\\DTU\\4_Semester_AS\\Master_Thesis\\auto-annotation-sam\\notebooks\\..\\data\\raw\\NewMeatballs2.mp4: 640x640 1 class0, 7.4ms\n",
      "video 1/1 (frame 421/960) c:\\Users\\gtoft\\OneDrive\\DTU\\4_Semester_AS\\Master_Thesis\\auto-annotation-sam\\notebooks\\..\\data\\raw\\NewMeatballs2.mp4: 640x640 1 class0, 11.5ms\n",
      "video 1/1 (frame 422/960) c:\\Users\\gtoft\\OneDrive\\DTU\\4_Semester_AS\\Master_Thesis\\auto-annotation-sam\\notebooks\\..\\data\\raw\\NewMeatballs2.mp4: 640x640 (no detections), 6.6ms\n",
      "video 1/1 (frame 423/960) c:\\Users\\gtoft\\OneDrive\\DTU\\4_Semester_AS\\Master_Thesis\\auto-annotation-sam\\notebooks\\..\\data\\raw\\NewMeatballs2.mp4: 640x640 1 class0, 14.2ms\n",
      "video 1/1 (frame 424/960) c:\\Users\\gtoft\\OneDrive\\DTU\\4_Semester_AS\\Master_Thesis\\auto-annotation-sam\\notebooks\\..\\data\\raw\\NewMeatballs2.mp4: 640x640 1 class0, 7.6ms\n",
      "video 1/1 (frame 425/960) c:\\Users\\gtoft\\OneDrive\\DTU\\4_Semester_AS\\Master_Thesis\\auto-annotation-sam\\notebooks\\..\\data\\raw\\NewMeatballs2.mp4: 640x640 1 class0, 7.2ms\n",
      "video 1/1 (frame 426/960) c:\\Users\\gtoft\\OneDrive\\DTU\\4_Semester_AS\\Master_Thesis\\auto-annotation-sam\\notebooks\\..\\data\\raw\\NewMeatballs2.mp4: 640x640 1 class0, 9.2ms\n",
      "video 1/1 (frame 427/960) c:\\Users\\gtoft\\OneDrive\\DTU\\4_Semester_AS\\Master_Thesis\\auto-annotation-sam\\notebooks\\..\\data\\raw\\NewMeatballs2.mp4: 640x640 1 class0, 7.8ms\n",
      "video 1/1 (frame 428/960) c:\\Users\\gtoft\\OneDrive\\DTU\\4_Semester_AS\\Master_Thesis\\auto-annotation-sam\\notebooks\\..\\data\\raw\\NewMeatballs2.mp4: 640x640 1 class0, 9.5ms\n",
      "video 1/1 (frame 429/960) c:\\Users\\gtoft\\OneDrive\\DTU\\4_Semester_AS\\Master_Thesis\\auto-annotation-sam\\notebooks\\..\\data\\raw\\NewMeatballs2.mp4: 640x640 1 class0, 8.5ms\n",
      "video 1/1 (frame 430/960) c:\\Users\\gtoft\\OneDrive\\DTU\\4_Semester_AS\\Master_Thesis\\auto-annotation-sam\\notebooks\\..\\data\\raw\\NewMeatballs2.mp4: 640x640 (no detections), 6.2ms\n",
      "video 1/1 (frame 431/960) c:\\Users\\gtoft\\OneDrive\\DTU\\4_Semester_AS\\Master_Thesis\\auto-annotation-sam\\notebooks\\..\\data\\raw\\NewMeatballs2.mp4: 640x640 (no detections), 13.4ms\n",
      "video 1/1 (frame 432/960) c:\\Users\\gtoft\\OneDrive\\DTU\\4_Semester_AS\\Master_Thesis\\auto-annotation-sam\\notebooks\\..\\data\\raw\\NewMeatballs2.mp4: 640x640 (no detections), 7.2ms\n",
      "video 1/1 (frame 433/960) c:\\Users\\gtoft\\OneDrive\\DTU\\4_Semester_AS\\Master_Thesis\\auto-annotation-sam\\notebooks\\..\\data\\raw\\NewMeatballs2.mp4: 640x640 (no detections), 7.7ms\n",
      "video 1/1 (frame 434/960) c:\\Users\\gtoft\\OneDrive\\DTU\\4_Semester_AS\\Master_Thesis\\auto-annotation-sam\\notebooks\\..\\data\\raw\\NewMeatballs2.mp4: 640x640 1 class0, 8.0ms\n",
      "video 1/1 (frame 435/960) c:\\Users\\gtoft\\OneDrive\\DTU\\4_Semester_AS\\Master_Thesis\\auto-annotation-sam\\notebooks\\..\\data\\raw\\NewMeatballs2.mp4: 640x640 (no detections), 7.5ms\n",
      "video 1/1 (frame 436/960) c:\\Users\\gtoft\\OneDrive\\DTU\\4_Semester_AS\\Master_Thesis\\auto-annotation-sam\\notebooks\\..\\data\\raw\\NewMeatballs2.mp4: 640x640 (no detections), 9.6ms\n",
      "video 1/1 (frame 437/960) c:\\Users\\gtoft\\OneDrive\\DTU\\4_Semester_AS\\Master_Thesis\\auto-annotation-sam\\notebooks\\..\\data\\raw\\NewMeatballs2.mp4: 640x640 (no detections), 7.4ms\n",
      "video 1/1 (frame 438/960) c:\\Users\\gtoft\\OneDrive\\DTU\\4_Semester_AS\\Master_Thesis\\auto-annotation-sam\\notebooks\\..\\data\\raw\\NewMeatballs2.mp4: 640x640 1 class0, 7.8ms\n",
      "video 1/1 (frame 439/960) c:\\Users\\gtoft\\OneDrive\\DTU\\4_Semester_AS\\Master_Thesis\\auto-annotation-sam\\notebooks\\..\\data\\raw\\NewMeatballs2.mp4: 640x640 (no detections), 6.9ms\n",
      "video 1/1 (frame 440/960) c:\\Users\\gtoft\\OneDrive\\DTU\\4_Semester_AS\\Master_Thesis\\auto-annotation-sam\\notebooks\\..\\data\\raw\\NewMeatballs2.mp4: 640x640 (no detections), 7.0ms\n",
      "video 1/1 (frame 441/960) c:\\Users\\gtoft\\OneDrive\\DTU\\4_Semester_AS\\Master_Thesis\\auto-annotation-sam\\notebooks\\..\\data\\raw\\NewMeatballs2.mp4: 640x640 (no detections), 15.1ms\n",
      "video 1/1 (frame 442/960) c:\\Users\\gtoft\\OneDrive\\DTU\\4_Semester_AS\\Master_Thesis\\auto-annotation-sam\\notebooks\\..\\data\\raw\\NewMeatballs2.mp4: 640x640 (no detections), 9.1ms\n",
      "video 1/1 (frame 443/960) c:\\Users\\gtoft\\OneDrive\\DTU\\4_Semester_AS\\Master_Thesis\\auto-annotation-sam\\notebooks\\..\\data\\raw\\NewMeatballs2.mp4: 640x640 (no detections), 7.3ms\n",
      "video 1/1 (frame 444/960) c:\\Users\\gtoft\\OneDrive\\DTU\\4_Semester_AS\\Master_Thesis\\auto-annotation-sam\\notebooks\\..\\data\\raw\\NewMeatballs2.mp4: 640x640 2 class0s, 8.5ms\n",
      "video 1/1 (frame 445/960) c:\\Users\\gtoft\\OneDrive\\DTU\\4_Semester_AS\\Master_Thesis\\auto-annotation-sam\\notebooks\\..\\data\\raw\\NewMeatballs2.mp4: 640x640 1 class0, 6.8ms\n",
      "video 1/1 (frame 446/960) c:\\Users\\gtoft\\OneDrive\\DTU\\4_Semester_AS\\Master_Thesis\\auto-annotation-sam\\notebooks\\..\\data\\raw\\NewMeatballs2.mp4: 640x640 1 class0, 7.5ms\n",
      "video 1/1 (frame 447/960) c:\\Users\\gtoft\\OneDrive\\DTU\\4_Semester_AS\\Master_Thesis\\auto-annotation-sam\\notebooks\\..\\data\\raw\\NewMeatballs2.mp4: 640x640 1 class0, 8.6ms\n",
      "video 1/1 (frame 448/960) c:\\Users\\gtoft\\OneDrive\\DTU\\4_Semester_AS\\Master_Thesis\\auto-annotation-sam\\notebooks\\..\\data\\raw\\NewMeatballs2.mp4: 640x640 1 class0, 8.0ms\n",
      "video 1/1 (frame 449/960) c:\\Users\\gtoft\\OneDrive\\DTU\\4_Semester_AS\\Master_Thesis\\auto-annotation-sam\\notebooks\\..\\data\\raw\\NewMeatballs2.mp4: 640x640 1 class0, 11.6ms\n",
      "video 1/1 (frame 450/960) c:\\Users\\gtoft\\OneDrive\\DTU\\4_Semester_AS\\Master_Thesis\\auto-annotation-sam\\notebooks\\..\\data\\raw\\NewMeatballs2.mp4: 640x640 2 class0s, 9.8ms\n",
      "video 1/1 (frame 451/960) c:\\Users\\gtoft\\OneDrive\\DTU\\4_Semester_AS\\Master_Thesis\\auto-annotation-sam\\notebooks\\..\\data\\raw\\NewMeatballs2.mp4: 640x640 2 class0s, 8.0ms\n",
      "video 1/1 (frame 452/960) c:\\Users\\gtoft\\OneDrive\\DTU\\4_Semester_AS\\Master_Thesis\\auto-annotation-sam\\notebooks\\..\\data\\raw\\NewMeatballs2.mp4: 640x640 1 class0, 14.0ms\n",
      "video 1/1 (frame 453/960) c:\\Users\\gtoft\\OneDrive\\DTU\\4_Semester_AS\\Master_Thesis\\auto-annotation-sam\\notebooks\\..\\data\\raw\\NewMeatballs2.mp4: 640x640 1 class0, 7.7ms\n",
      "video 1/1 (frame 454/960) c:\\Users\\gtoft\\OneDrive\\DTU\\4_Semester_AS\\Master_Thesis\\auto-annotation-sam\\notebooks\\..\\data\\raw\\NewMeatballs2.mp4: 640x640 1 class0, 6.9ms\n",
      "video 1/1 (frame 455/960) c:\\Users\\gtoft\\OneDrive\\DTU\\4_Semester_AS\\Master_Thesis\\auto-annotation-sam\\notebooks\\..\\data\\raw\\NewMeatballs2.mp4: 640x640 1 class0, 12.3ms\n",
      "video 1/1 (frame 456/960) c:\\Users\\gtoft\\OneDrive\\DTU\\4_Semester_AS\\Master_Thesis\\auto-annotation-sam\\notebooks\\..\\data\\raw\\NewMeatballs2.mp4: 640x640 2 class0s, 8.8ms\n",
      "video 1/1 (frame 457/960) c:\\Users\\gtoft\\OneDrive\\DTU\\4_Semester_AS\\Master_Thesis\\auto-annotation-sam\\notebooks\\..\\data\\raw\\NewMeatballs2.mp4: 640x640 2 class0s, 8.1ms\n",
      "video 1/1 (frame 458/960) c:\\Users\\gtoft\\OneDrive\\DTU\\4_Semester_AS\\Master_Thesis\\auto-annotation-sam\\notebooks\\..\\data\\raw\\NewMeatballs2.mp4: 640x640 1 class0, 8.2ms\n",
      "video 1/1 (frame 459/960) c:\\Users\\gtoft\\OneDrive\\DTU\\4_Semester_AS\\Master_Thesis\\auto-annotation-sam\\notebooks\\..\\data\\raw\\NewMeatballs2.mp4: 640x640 1 class0, 12.8ms\n",
      "video 1/1 (frame 460/960) c:\\Users\\gtoft\\OneDrive\\DTU\\4_Semester_AS\\Master_Thesis\\auto-annotation-sam\\notebooks\\..\\data\\raw\\NewMeatballs2.mp4: 640x640 1 class0, 8.2ms\n",
      "video 1/1 (frame 461/960) c:\\Users\\gtoft\\OneDrive\\DTU\\4_Semester_AS\\Master_Thesis\\auto-annotation-sam\\notebooks\\..\\data\\raw\\NewMeatballs2.mp4: 640x640 1 class0, 8.6ms\n",
      "video 1/1 (frame 462/960) c:\\Users\\gtoft\\OneDrive\\DTU\\4_Semester_AS\\Master_Thesis\\auto-annotation-sam\\notebooks\\..\\data\\raw\\NewMeatballs2.mp4: 640x640 (no detections), 8.5ms\n",
      "video 1/1 (frame 463/960) c:\\Users\\gtoft\\OneDrive\\DTU\\4_Semester_AS\\Master_Thesis\\auto-annotation-sam\\notebooks\\..\\data\\raw\\NewMeatballs2.mp4: 640x640 (no detections), 9.9ms\n",
      "video 1/1 (frame 464/960) c:\\Users\\gtoft\\OneDrive\\DTU\\4_Semester_AS\\Master_Thesis\\auto-annotation-sam\\notebooks\\..\\data\\raw\\NewMeatballs2.mp4: 640x640 (no detections), 14.6ms\n",
      "video 1/1 (frame 465/960) c:\\Users\\gtoft\\OneDrive\\DTU\\4_Semester_AS\\Master_Thesis\\auto-annotation-sam\\notebooks\\..\\data\\raw\\NewMeatballs2.mp4: 640x640 1 class0, 10.6ms\n",
      "video 1/1 (frame 466/960) c:\\Users\\gtoft\\OneDrive\\DTU\\4_Semester_AS\\Master_Thesis\\auto-annotation-sam\\notebooks\\..\\data\\raw\\NewMeatballs2.mp4: 640x640 (no detections), 13.1ms\n",
      "video 1/1 (frame 467/960) c:\\Users\\gtoft\\OneDrive\\DTU\\4_Semester_AS\\Master_Thesis\\auto-annotation-sam\\notebooks\\..\\data\\raw\\NewMeatballs2.mp4: 640x640 (no detections), 6.8ms\n",
      "video 1/1 (frame 468/960) c:\\Users\\gtoft\\OneDrive\\DTU\\4_Semester_AS\\Master_Thesis\\auto-annotation-sam\\notebooks\\..\\data\\raw\\NewMeatballs2.mp4: 640x640 1 class0, 6.6ms\n",
      "video 1/1 (frame 469/960) c:\\Users\\gtoft\\OneDrive\\DTU\\4_Semester_AS\\Master_Thesis\\auto-annotation-sam\\notebooks\\..\\data\\raw\\NewMeatballs2.mp4: 640x640 (no detections), 7.7ms\n",
      "video 1/1 (frame 470/960) c:\\Users\\gtoft\\OneDrive\\DTU\\4_Semester_AS\\Master_Thesis\\auto-annotation-sam\\notebooks\\..\\data\\raw\\NewMeatballs2.mp4: 640x640 (no detections), 7.8ms\n",
      "video 1/1 (frame 471/960) c:\\Users\\gtoft\\OneDrive\\DTU\\4_Semester_AS\\Master_Thesis\\auto-annotation-sam\\notebooks\\..\\data\\raw\\NewMeatballs2.mp4: 640x640 (no detections), 10.3ms\n",
      "video 1/1 (frame 472/960) c:\\Users\\gtoft\\OneDrive\\DTU\\4_Semester_AS\\Master_Thesis\\auto-annotation-sam\\notebooks\\..\\data\\raw\\NewMeatballs2.mp4: 640x640 (no detections), 7.9ms\n",
      "video 1/1 (frame 473/960) c:\\Users\\gtoft\\OneDrive\\DTU\\4_Semester_AS\\Master_Thesis\\auto-annotation-sam\\notebooks\\..\\data\\raw\\NewMeatballs2.mp4: 640x640 1 class0, 10.2ms\n",
      "video 1/1 (frame 474/960) c:\\Users\\gtoft\\OneDrive\\DTU\\4_Semester_AS\\Master_Thesis\\auto-annotation-sam\\notebooks\\..\\data\\raw\\NewMeatballs2.mp4: 640x640 (no detections), 7.4ms\n",
      "video 1/1 (frame 475/960) c:\\Users\\gtoft\\OneDrive\\DTU\\4_Semester_AS\\Master_Thesis\\auto-annotation-sam\\notebooks\\..\\data\\raw\\NewMeatballs2.mp4: 640x640 (no detections), 14.0ms\n",
      "video 1/1 (frame 476/960) c:\\Users\\gtoft\\OneDrive\\DTU\\4_Semester_AS\\Master_Thesis\\auto-annotation-sam\\notebooks\\..\\data\\raw\\NewMeatballs2.mp4: 640x640 (no detections), 12.2ms\n",
      "video 1/1 (frame 477/960) c:\\Users\\gtoft\\OneDrive\\DTU\\4_Semester_AS\\Master_Thesis\\auto-annotation-sam\\notebooks\\..\\data\\raw\\NewMeatballs2.mp4: 640x640 (no detections), 7.2ms\n",
      "video 1/1 (frame 478/960) c:\\Users\\gtoft\\OneDrive\\DTU\\4_Semester_AS\\Master_Thesis\\auto-annotation-sam\\notebooks\\..\\data\\raw\\NewMeatballs2.mp4: 640x640 (no detections), 6.9ms\n",
      "video 1/1 (frame 479/960) c:\\Users\\gtoft\\OneDrive\\DTU\\4_Semester_AS\\Master_Thesis\\auto-annotation-sam\\notebooks\\..\\data\\raw\\NewMeatballs2.mp4: 640x640 1 class0, 13.7ms\n",
      "video 1/1 (frame 480/960) c:\\Users\\gtoft\\OneDrive\\DTU\\4_Semester_AS\\Master_Thesis\\auto-annotation-sam\\notebooks\\..\\data\\raw\\NewMeatballs2.mp4: 640x640 (no detections), 11.1ms\n",
      "video 1/1 (frame 481/960) c:\\Users\\gtoft\\OneDrive\\DTU\\4_Semester_AS\\Master_Thesis\\auto-annotation-sam\\notebooks\\..\\data\\raw\\NewMeatballs2.mp4: 640x640 (no detections), 8.3ms\n",
      "video 1/1 (frame 482/960) c:\\Users\\gtoft\\OneDrive\\DTU\\4_Semester_AS\\Master_Thesis\\auto-annotation-sam\\notebooks\\..\\data\\raw\\NewMeatballs2.mp4: 640x640 (no detections), 9.4ms\n",
      "video 1/1 (frame 483/960) c:\\Users\\gtoft\\OneDrive\\DTU\\4_Semester_AS\\Master_Thesis\\auto-annotation-sam\\notebooks\\..\\data\\raw\\NewMeatballs2.mp4: 640x640 (no detections), 12.6ms\n",
      "video 1/1 (frame 484/960) c:\\Users\\gtoft\\OneDrive\\DTU\\4_Semester_AS\\Master_Thesis\\auto-annotation-sam\\notebooks\\..\\data\\raw\\NewMeatballs2.mp4: 640x640 2 class0s, 7.5ms\n",
      "video 1/1 (frame 485/960) c:\\Users\\gtoft\\OneDrive\\DTU\\4_Semester_AS\\Master_Thesis\\auto-annotation-sam\\notebooks\\..\\data\\raw\\NewMeatballs2.mp4: 640x640 2 class0s, 8.6ms\n",
      "video 1/1 (frame 486/960) c:\\Users\\gtoft\\OneDrive\\DTU\\4_Semester_AS\\Master_Thesis\\auto-annotation-sam\\notebooks\\..\\data\\raw\\NewMeatballs2.mp4: 640x640 2 class0s, 10.5ms\n",
      "video 1/1 (frame 487/960) c:\\Users\\gtoft\\OneDrive\\DTU\\4_Semester_AS\\Master_Thesis\\auto-annotation-sam\\notebooks\\..\\data\\raw\\NewMeatballs2.mp4: 640x640 2 class0s, 6.8ms\n",
      "video 1/1 (frame 488/960) c:\\Users\\gtoft\\OneDrive\\DTU\\4_Semester_AS\\Master_Thesis\\auto-annotation-sam\\notebooks\\..\\data\\raw\\NewMeatballs2.mp4: 640x640 2 class0s, 6.8ms\n",
      "video 1/1 (frame 489/960) c:\\Users\\gtoft\\OneDrive\\DTU\\4_Semester_AS\\Master_Thesis\\auto-annotation-sam\\notebooks\\..\\data\\raw\\NewMeatballs2.mp4: 640x640 2 class0s, 13.2ms\n",
      "video 1/1 (frame 490/960) c:\\Users\\gtoft\\OneDrive\\DTU\\4_Semester_AS\\Master_Thesis\\auto-annotation-sam\\notebooks\\..\\data\\raw\\NewMeatballs2.mp4: 640x640 2 class0s, 11.2ms\n",
      "video 1/1 (frame 491/960) c:\\Users\\gtoft\\OneDrive\\DTU\\4_Semester_AS\\Master_Thesis\\auto-annotation-sam\\notebooks\\..\\data\\raw\\NewMeatballs2.mp4: 640x640 1 class0, 14.2ms\n",
      "video 1/1 (frame 492/960) c:\\Users\\gtoft\\OneDrive\\DTU\\4_Semester_AS\\Master_Thesis\\auto-annotation-sam\\notebooks\\..\\data\\raw\\NewMeatballs2.mp4: 640x640 2 class0s, 9.0ms\n",
      "video 1/1 (frame 493/960) c:\\Users\\gtoft\\OneDrive\\DTU\\4_Semester_AS\\Master_Thesis\\auto-annotation-sam\\notebooks\\..\\data\\raw\\NewMeatballs2.mp4: 640x640 2 class0s, 10.6ms\n",
      "video 1/1 (frame 494/960) c:\\Users\\gtoft\\OneDrive\\DTU\\4_Semester_AS\\Master_Thesis\\auto-annotation-sam\\notebooks\\..\\data\\raw\\NewMeatballs2.mp4: 640x640 1 class0, 13.4ms\n",
      "video 1/1 (frame 495/960) c:\\Users\\gtoft\\OneDrive\\DTU\\4_Semester_AS\\Master_Thesis\\auto-annotation-sam\\notebooks\\..\\data\\raw\\NewMeatballs2.mp4: 640x640 1 class0, 7.3ms\n",
      "video 1/1 (frame 496/960) c:\\Users\\gtoft\\OneDrive\\DTU\\4_Semester_AS\\Master_Thesis\\auto-annotation-sam\\notebooks\\..\\data\\raw\\NewMeatballs2.mp4: 640x640 1 class0, 9.3ms\n",
      "video 1/1 (frame 497/960) c:\\Users\\gtoft\\OneDrive\\DTU\\4_Semester_AS\\Master_Thesis\\auto-annotation-sam\\notebooks\\..\\data\\raw\\NewMeatballs2.mp4: 640x640 1 class0, 7.1ms\n",
      "video 1/1 (frame 498/960) c:\\Users\\gtoft\\OneDrive\\DTU\\4_Semester_AS\\Master_Thesis\\auto-annotation-sam\\notebooks\\..\\data\\raw\\NewMeatballs2.mp4: 640x640 1 class0, 8.4ms\n",
      "video 1/1 (frame 499/960) c:\\Users\\gtoft\\OneDrive\\DTU\\4_Semester_AS\\Master_Thesis\\auto-annotation-sam\\notebooks\\..\\data\\raw\\NewMeatballs2.mp4: 640x640 (no detections), 9.0ms\n",
      "video 1/1 (frame 500/960) c:\\Users\\gtoft\\OneDrive\\DTU\\4_Semester_AS\\Master_Thesis\\auto-annotation-sam\\notebooks\\..\\data\\raw\\NewMeatballs2.mp4: 640x640 (no detections), 7.2ms\n",
      "video 1/1 (frame 501/960) c:\\Users\\gtoft\\OneDrive\\DTU\\4_Semester_AS\\Master_Thesis\\auto-annotation-sam\\notebooks\\..\\data\\raw\\NewMeatballs2.mp4: 640x640 (no detections), 13.9ms\n",
      "video 1/1 (frame 502/960) c:\\Users\\gtoft\\OneDrive\\DTU\\4_Semester_AS\\Master_Thesis\\auto-annotation-sam\\notebooks\\..\\data\\raw\\NewMeatballs2.mp4: 640x640 (no detections), 7.2ms\n",
      "video 1/1 (frame 503/960) c:\\Users\\gtoft\\OneDrive\\DTU\\4_Semester_AS\\Master_Thesis\\auto-annotation-sam\\notebooks\\..\\data\\raw\\NewMeatballs2.mp4: 640x640 (no detections), 11.0ms\n",
      "video 1/1 (frame 504/960) c:\\Users\\gtoft\\OneDrive\\DTU\\4_Semester_AS\\Master_Thesis\\auto-annotation-sam\\notebooks\\..\\data\\raw\\NewMeatballs2.mp4: 640x640 (no detections), 7.2ms\n",
      "video 1/1 (frame 505/960) c:\\Users\\gtoft\\OneDrive\\DTU\\4_Semester_AS\\Master_Thesis\\auto-annotation-sam\\notebooks\\..\\data\\raw\\NewMeatballs2.mp4: 640x640 (no detections), 7.7ms\n",
      "video 1/1 (frame 506/960) c:\\Users\\gtoft\\OneDrive\\DTU\\4_Semester_AS\\Master_Thesis\\auto-annotation-sam\\notebooks\\..\\data\\raw\\NewMeatballs2.mp4: 640x640 (no detections), 8.4ms\n",
      "video 1/1 (frame 507/960) c:\\Users\\gtoft\\OneDrive\\DTU\\4_Semester_AS\\Master_Thesis\\auto-annotation-sam\\notebooks\\..\\data\\raw\\NewMeatballs2.mp4: 640x640 (no detections), 13.8ms\n",
      "video 1/1 (frame 508/960) c:\\Users\\gtoft\\OneDrive\\DTU\\4_Semester_AS\\Master_Thesis\\auto-annotation-sam\\notebooks\\..\\data\\raw\\NewMeatballs2.mp4: 640x640 (no detections), 7.0ms\n",
      "video 1/1 (frame 509/960) c:\\Users\\gtoft\\OneDrive\\DTU\\4_Semester_AS\\Master_Thesis\\auto-annotation-sam\\notebooks\\..\\data\\raw\\NewMeatballs2.mp4: 640x640 1 class0, 8.0ms\n",
      "video 1/1 (frame 510/960) c:\\Users\\gtoft\\OneDrive\\DTU\\4_Semester_AS\\Master_Thesis\\auto-annotation-sam\\notebooks\\..\\data\\raw\\NewMeatballs2.mp4: 640x640 2 class0s, 12.8ms\n",
      "video 1/1 (frame 511/960) c:\\Users\\gtoft\\OneDrive\\DTU\\4_Semester_AS\\Master_Thesis\\auto-annotation-sam\\notebooks\\..\\data\\raw\\NewMeatballs2.mp4: 640x640 2 class0s, 6.7ms\n",
      "video 1/1 (frame 512/960) c:\\Users\\gtoft\\OneDrive\\DTU\\4_Semester_AS\\Master_Thesis\\auto-annotation-sam\\notebooks\\..\\data\\raw\\NewMeatballs2.mp4: 640x640 2 class0s, 13.3ms\n",
      "video 1/1 (frame 513/960) c:\\Users\\gtoft\\OneDrive\\DTU\\4_Semester_AS\\Master_Thesis\\auto-annotation-sam\\notebooks\\..\\data\\raw\\NewMeatballs2.mp4: 640x640 1 class0, 6.8ms\n",
      "video 1/1 (frame 514/960) c:\\Users\\gtoft\\OneDrive\\DTU\\4_Semester_AS\\Master_Thesis\\auto-annotation-sam\\notebooks\\..\\data\\raw\\NewMeatballs2.mp4: 640x640 2 class0s, 10.2ms\n",
      "video 1/1 (frame 515/960) c:\\Users\\gtoft\\OneDrive\\DTU\\4_Semester_AS\\Master_Thesis\\auto-annotation-sam\\notebooks\\..\\data\\raw\\NewMeatballs2.mp4: 640x640 2 class0s, 8.7ms\n",
      "video 1/1 (frame 516/960) c:\\Users\\gtoft\\OneDrive\\DTU\\4_Semester_AS\\Master_Thesis\\auto-annotation-sam\\notebooks\\..\\data\\raw\\NewMeatballs2.mp4: 640x640 4 class0s, 6.8ms\n",
      "video 1/1 (frame 517/960) c:\\Users\\gtoft\\OneDrive\\DTU\\4_Semester_AS\\Master_Thesis\\auto-annotation-sam\\notebooks\\..\\data\\raw\\NewMeatballs2.mp4: 640x640 3 class0s, 7.3ms\n",
      "video 1/1 (frame 518/960) c:\\Users\\gtoft\\OneDrive\\DTU\\4_Semester_AS\\Master_Thesis\\auto-annotation-sam\\notebooks\\..\\data\\raw\\NewMeatballs2.mp4: 640x640 2 class0s, 6.6ms\n",
      "video 1/1 (frame 519/960) c:\\Users\\gtoft\\OneDrive\\DTU\\4_Semester_AS\\Master_Thesis\\auto-annotation-sam\\notebooks\\..\\data\\raw\\NewMeatballs2.mp4: 640x640 2 class0s, 7.3ms\n",
      "video 1/1 (frame 520/960) c:\\Users\\gtoft\\OneDrive\\DTU\\4_Semester_AS\\Master_Thesis\\auto-annotation-sam\\notebooks\\..\\data\\raw\\NewMeatballs2.mp4: 640x640 4 class0s, 6.9ms\n",
      "video 1/1 (frame 521/960) c:\\Users\\gtoft\\OneDrive\\DTU\\4_Semester_AS\\Master_Thesis\\auto-annotation-sam\\notebooks\\..\\data\\raw\\NewMeatballs2.mp4: 640x640 3 class0s, 13.0ms\n",
      "video 1/1 (frame 522/960) c:\\Users\\gtoft\\OneDrive\\DTU\\4_Semester_AS\\Master_Thesis\\auto-annotation-sam\\notebooks\\..\\data\\raw\\NewMeatballs2.mp4: 640x640 3 class0s, 9.4ms\n",
      "video 1/1 (frame 523/960) c:\\Users\\gtoft\\OneDrive\\DTU\\4_Semester_AS\\Master_Thesis\\auto-annotation-sam\\notebooks\\..\\data\\raw\\NewMeatballs2.mp4: 640x640 3 class0s, 7.8ms\n",
      "video 1/1 (frame 524/960) c:\\Users\\gtoft\\OneDrive\\DTU\\4_Semester_AS\\Master_Thesis\\auto-annotation-sam\\notebooks\\..\\data\\raw\\NewMeatballs2.mp4: 640x640 3 class0s, 7.4ms\n",
      "video 1/1 (frame 525/960) c:\\Users\\gtoft\\OneDrive\\DTU\\4_Semester_AS\\Master_Thesis\\auto-annotation-sam\\notebooks\\..\\data\\raw\\NewMeatballs2.mp4: 640x640 2 class0s, 18.5ms\n",
      "video 1/1 (frame 526/960) c:\\Users\\gtoft\\OneDrive\\DTU\\4_Semester_AS\\Master_Thesis\\auto-annotation-sam\\notebooks\\..\\data\\raw\\NewMeatballs2.mp4: 640x640 (no detections), 17.6ms\n",
      "video 1/1 (frame 527/960) c:\\Users\\gtoft\\OneDrive\\DTU\\4_Semester_AS\\Master_Thesis\\auto-annotation-sam\\notebooks\\..\\data\\raw\\NewMeatballs2.mp4: 640x640 (no detections), 17.4ms\n",
      "video 1/1 (frame 528/960) c:\\Users\\gtoft\\OneDrive\\DTU\\4_Semester_AS\\Master_Thesis\\auto-annotation-sam\\notebooks\\..\\data\\raw\\NewMeatballs2.mp4: 640x640 (no detections), 10.6ms\n",
      "video 1/1 (frame 529/960) c:\\Users\\gtoft\\OneDrive\\DTU\\4_Semester_AS\\Master_Thesis\\auto-annotation-sam\\notebooks\\..\\data\\raw\\NewMeatballs2.mp4: 640x640 (no detections), 8.8ms\n",
      "video 1/1 (frame 530/960) c:\\Users\\gtoft\\OneDrive\\DTU\\4_Semester_AS\\Master_Thesis\\auto-annotation-sam\\notebooks\\..\\data\\raw\\NewMeatballs2.mp4: 640x640 (no detections), 7.7ms\n",
      "video 1/1 (frame 531/960) c:\\Users\\gtoft\\OneDrive\\DTU\\4_Semester_AS\\Master_Thesis\\auto-annotation-sam\\notebooks\\..\\data\\raw\\NewMeatballs2.mp4: 640x640 (no detections), 8.1ms\n",
      "video 1/1 (frame 532/960) c:\\Users\\gtoft\\OneDrive\\DTU\\4_Semester_AS\\Master_Thesis\\auto-annotation-sam\\notebooks\\..\\data\\raw\\NewMeatballs2.mp4: 640x640 (no detections), 7.3ms\n",
      "video 1/1 (frame 533/960) c:\\Users\\gtoft\\OneDrive\\DTU\\4_Semester_AS\\Master_Thesis\\auto-annotation-sam\\notebooks\\..\\data\\raw\\NewMeatballs2.mp4: 640x640 (no detections), 15.6ms\n",
      "video 1/1 (frame 534/960) c:\\Users\\gtoft\\OneDrive\\DTU\\4_Semester_AS\\Master_Thesis\\auto-annotation-sam\\notebooks\\..\\data\\raw\\NewMeatballs2.mp4: 640x640 (no detections), 14.4ms\n",
      "video 1/1 (frame 535/960) c:\\Users\\gtoft\\OneDrive\\DTU\\4_Semester_AS\\Master_Thesis\\auto-annotation-sam\\notebooks\\..\\data\\raw\\NewMeatballs2.mp4: 640x640 1 class0, 9.3ms\n",
      "video 1/1 (frame 536/960) c:\\Users\\gtoft\\OneDrive\\DTU\\4_Semester_AS\\Master_Thesis\\auto-annotation-sam\\notebooks\\..\\data\\raw\\NewMeatballs2.mp4: 640x640 (no detections), 8.3ms\n",
      "video 1/1 (frame 537/960) c:\\Users\\gtoft\\OneDrive\\DTU\\4_Semester_AS\\Master_Thesis\\auto-annotation-sam\\notebooks\\..\\data\\raw\\NewMeatballs2.mp4: 640x640 (no detections), 7.0ms\n",
      "video 1/1 (frame 538/960) c:\\Users\\gtoft\\OneDrive\\DTU\\4_Semester_AS\\Master_Thesis\\auto-annotation-sam\\notebooks\\..\\data\\raw\\NewMeatballs2.mp4: 640x640 (no detections), 9.3ms\n",
      "video 1/1 (frame 539/960) c:\\Users\\gtoft\\OneDrive\\DTU\\4_Semester_AS\\Master_Thesis\\auto-annotation-sam\\notebooks\\..\\data\\raw\\NewMeatballs2.mp4: 640x640 (no detections), 23.6ms\n",
      "video 1/1 (frame 540/960) c:\\Users\\gtoft\\OneDrive\\DTU\\4_Semester_AS\\Master_Thesis\\auto-annotation-sam\\notebooks\\..\\data\\raw\\NewMeatballs2.mp4: 640x640 (no detections), 9.2ms\n",
      "video 1/1 (frame 541/960) c:\\Users\\gtoft\\OneDrive\\DTU\\4_Semester_AS\\Master_Thesis\\auto-annotation-sam\\notebooks\\..\\data\\raw\\NewMeatballs2.mp4: 640x640 (no detections), 7.7ms\n",
      "video 1/1 (frame 542/960) c:\\Users\\gtoft\\OneDrive\\DTU\\4_Semester_AS\\Master_Thesis\\auto-annotation-sam\\notebooks\\..\\data\\raw\\NewMeatballs2.mp4: 640x640 (no detections), 7.2ms\n",
      "video 1/1 (frame 543/960) c:\\Users\\gtoft\\OneDrive\\DTU\\4_Semester_AS\\Master_Thesis\\auto-annotation-sam\\notebooks\\..\\data\\raw\\NewMeatballs2.mp4: 640x640 (no detections), 14.3ms\n",
      "video 1/1 (frame 544/960) c:\\Users\\gtoft\\OneDrive\\DTU\\4_Semester_AS\\Master_Thesis\\auto-annotation-sam\\notebooks\\..\\data\\raw\\NewMeatballs2.mp4: 640x640 1 class0, 13.3ms\n",
      "video 1/1 (frame 545/960) c:\\Users\\gtoft\\OneDrive\\DTU\\4_Semester_AS\\Master_Thesis\\auto-annotation-sam\\notebooks\\..\\data\\raw\\NewMeatballs2.mp4: 640x640 (no detections), 13.1ms\n",
      "video 1/1 (frame 546/960) c:\\Users\\gtoft\\OneDrive\\DTU\\4_Semester_AS\\Master_Thesis\\auto-annotation-sam\\notebooks\\..\\data\\raw\\NewMeatballs2.mp4: 640x640 1 class0, 9.3ms\n",
      "video 1/1 (frame 547/960) c:\\Users\\gtoft\\OneDrive\\DTU\\4_Semester_AS\\Master_Thesis\\auto-annotation-sam\\notebooks\\..\\data\\raw\\NewMeatballs2.mp4: 640x640 (no detections), 6.4ms\n",
      "video 1/1 (frame 548/960) c:\\Users\\gtoft\\OneDrive\\DTU\\4_Semester_AS\\Master_Thesis\\auto-annotation-sam\\notebooks\\..\\data\\raw\\NewMeatballs2.mp4: 640x640 2 class0s, 13.5ms\n",
      "video 1/1 (frame 549/960) c:\\Users\\gtoft\\OneDrive\\DTU\\4_Semester_AS\\Master_Thesis\\auto-annotation-sam\\notebooks\\..\\data\\raw\\NewMeatballs2.mp4: 640x640 (no detections), 11.4ms\n",
      "video 1/1 (frame 550/960) c:\\Users\\gtoft\\OneDrive\\DTU\\4_Semester_AS\\Master_Thesis\\auto-annotation-sam\\notebooks\\..\\data\\raw\\NewMeatballs2.mp4: 640x640 1 class0, 8.2ms\n",
      "video 1/1 (frame 551/960) c:\\Users\\gtoft\\OneDrive\\DTU\\4_Semester_AS\\Master_Thesis\\auto-annotation-sam\\notebooks\\..\\data\\raw\\NewMeatballs2.mp4: 640x640 2 class0s, 7.4ms\n",
      "video 1/1 (frame 552/960) c:\\Users\\gtoft\\OneDrive\\DTU\\4_Semester_AS\\Master_Thesis\\auto-annotation-sam\\notebooks\\..\\data\\raw\\NewMeatballs2.mp4: 640x640 2 class0s, 15.6ms\n",
      "video 1/1 (frame 553/960) c:\\Users\\gtoft\\OneDrive\\DTU\\4_Semester_AS\\Master_Thesis\\auto-annotation-sam\\notebooks\\..\\data\\raw\\NewMeatballs2.mp4: 640x640 2 class0s, 7.5ms\n",
      "video 1/1 (frame 554/960) c:\\Users\\gtoft\\OneDrive\\DTU\\4_Semester_AS\\Master_Thesis\\auto-annotation-sam\\notebooks\\..\\data\\raw\\NewMeatballs2.mp4: 640x640 2 class0s, 9.6ms\n",
      "video 1/1 (frame 555/960) c:\\Users\\gtoft\\OneDrive\\DTU\\4_Semester_AS\\Master_Thesis\\auto-annotation-sam\\notebooks\\..\\data\\raw\\NewMeatballs2.mp4: 640x640 (no detections), 8.7ms\n",
      "video 1/1 (frame 556/960) c:\\Users\\gtoft\\OneDrive\\DTU\\4_Semester_AS\\Master_Thesis\\auto-annotation-sam\\notebooks\\..\\data\\raw\\NewMeatballs2.mp4: 640x640 1 class0, 11.6ms\n",
      "video 1/1 (frame 557/960) c:\\Users\\gtoft\\OneDrive\\DTU\\4_Semester_AS\\Master_Thesis\\auto-annotation-sam\\notebooks\\..\\data\\raw\\NewMeatballs2.mp4: 640x640 1 class0, 6.6ms\n",
      "video 1/1 (frame 558/960) c:\\Users\\gtoft\\OneDrive\\DTU\\4_Semester_AS\\Master_Thesis\\auto-annotation-sam\\notebooks\\..\\data\\raw\\NewMeatballs2.mp4: 640x640 (no detections), 7.7ms\n",
      "video 1/1 (frame 559/960) c:\\Users\\gtoft\\OneDrive\\DTU\\4_Semester_AS\\Master_Thesis\\auto-annotation-sam\\notebooks\\..\\data\\raw\\NewMeatballs2.mp4: 640x640 (no detections), 16.2ms\n",
      "video 1/1 (frame 560/960) c:\\Users\\gtoft\\OneDrive\\DTU\\4_Semester_AS\\Master_Thesis\\auto-annotation-sam\\notebooks\\..\\data\\raw\\NewMeatballs2.mp4: 640x640 1 class0, 7.7ms\n",
      "video 1/1 (frame 561/960) c:\\Users\\gtoft\\OneDrive\\DTU\\4_Semester_AS\\Master_Thesis\\auto-annotation-sam\\notebooks\\..\\data\\raw\\NewMeatballs2.mp4: 640x640 1 class0, 7.4ms\n",
      "video 1/1 (frame 562/960) c:\\Users\\gtoft\\OneDrive\\DTU\\4_Semester_AS\\Master_Thesis\\auto-annotation-sam\\notebooks\\..\\data\\raw\\NewMeatballs2.mp4: 640x640 1 class0, 10.0ms\n",
      "video 1/1 (frame 563/960) c:\\Users\\gtoft\\OneDrive\\DTU\\4_Semester_AS\\Master_Thesis\\auto-annotation-sam\\notebooks\\..\\data\\raw\\NewMeatballs2.mp4: 640x640 1 class0, 8.8ms\n",
      "video 1/1 (frame 564/960) c:\\Users\\gtoft\\OneDrive\\DTU\\4_Semester_AS\\Master_Thesis\\auto-annotation-sam\\notebooks\\..\\data\\raw\\NewMeatballs2.mp4: 640x640 1 class0, 6.3ms\n",
      "video 1/1 (frame 565/960) c:\\Users\\gtoft\\OneDrive\\DTU\\4_Semester_AS\\Master_Thesis\\auto-annotation-sam\\notebooks\\..\\data\\raw\\NewMeatballs2.mp4: 640x640 1 class0, 14.2ms\n",
      "video 1/1 (frame 566/960) c:\\Users\\gtoft\\OneDrive\\DTU\\4_Semester_AS\\Master_Thesis\\auto-annotation-sam\\notebooks\\..\\data\\raw\\NewMeatballs2.mp4: 640x640 1 class0, 7.6ms\n",
      "video 1/1 (frame 567/960) c:\\Users\\gtoft\\OneDrive\\DTU\\4_Semester_AS\\Master_Thesis\\auto-annotation-sam\\notebooks\\..\\data\\raw\\NewMeatballs2.mp4: 640x640 1 class0, 7.5ms\n",
      "video 1/1 (frame 568/960) c:\\Users\\gtoft\\OneDrive\\DTU\\4_Semester_AS\\Master_Thesis\\auto-annotation-sam\\notebooks\\..\\data\\raw\\NewMeatballs2.mp4: 640x640 1 class0, 7.4ms\n",
      "video 1/1 (frame 569/960) c:\\Users\\gtoft\\OneDrive\\DTU\\4_Semester_AS\\Master_Thesis\\auto-annotation-sam\\notebooks\\..\\data\\raw\\NewMeatballs2.mp4: 640x640 1 class0, 10.2ms\n",
      "video 1/1 (frame 570/960) c:\\Users\\gtoft\\OneDrive\\DTU\\4_Semester_AS\\Master_Thesis\\auto-annotation-sam\\notebooks\\..\\data\\raw\\NewMeatballs2.mp4: 640x640 1 class0, 14.9ms\n",
      "video 1/1 (frame 571/960) c:\\Users\\gtoft\\OneDrive\\DTU\\4_Semester_AS\\Master_Thesis\\auto-annotation-sam\\notebooks\\..\\data\\raw\\NewMeatballs2.mp4: 640x640 1 class0, 10.7ms\n",
      "video 1/1 (frame 572/960) c:\\Users\\gtoft\\OneDrive\\DTU\\4_Semester_AS\\Master_Thesis\\auto-annotation-sam\\notebooks\\..\\data\\raw\\NewMeatballs2.mp4: 640x640 1 class0, 8.9ms\n",
      "video 1/1 (frame 573/960) c:\\Users\\gtoft\\OneDrive\\DTU\\4_Semester_AS\\Master_Thesis\\auto-annotation-sam\\notebooks\\..\\data\\raw\\NewMeatballs2.mp4: 640x640 1 class0, 7.3ms\n",
      "video 1/1 (frame 574/960) c:\\Users\\gtoft\\OneDrive\\DTU\\4_Semester_AS\\Master_Thesis\\auto-annotation-sam\\notebooks\\..\\data\\raw\\NewMeatballs2.mp4: 640x640 (no detections), 8.7ms\n",
      "video 1/1 (frame 575/960) c:\\Users\\gtoft\\OneDrive\\DTU\\4_Semester_AS\\Master_Thesis\\auto-annotation-sam\\notebooks\\..\\data\\raw\\NewMeatballs2.mp4: 640x640 (no detections), 6.8ms\n",
      "video 1/1 (frame 576/960) c:\\Users\\gtoft\\OneDrive\\DTU\\4_Semester_AS\\Master_Thesis\\auto-annotation-sam\\notebooks\\..\\data\\raw\\NewMeatballs2.mp4: 640x640 1 class0, 8.8ms\n",
      "video 1/1 (frame 577/960) c:\\Users\\gtoft\\OneDrive\\DTU\\4_Semester_AS\\Master_Thesis\\auto-annotation-sam\\notebooks\\..\\data\\raw\\NewMeatballs2.mp4: 640x640 (no detections), 7.9ms\n",
      "video 1/1 (frame 578/960) c:\\Users\\gtoft\\OneDrive\\DTU\\4_Semester_AS\\Master_Thesis\\auto-annotation-sam\\notebooks\\..\\data\\raw\\NewMeatballs2.mp4: 640x640 1 class0, 9.5ms\n",
      "video 1/1 (frame 579/960) c:\\Users\\gtoft\\OneDrive\\DTU\\4_Semester_AS\\Master_Thesis\\auto-annotation-sam\\notebooks\\..\\data\\raw\\NewMeatballs2.mp4: 640x640 (no detections), 6.8ms\n",
      "video 1/1 (frame 580/960) c:\\Users\\gtoft\\OneDrive\\DTU\\4_Semester_AS\\Master_Thesis\\auto-annotation-sam\\notebooks\\..\\data\\raw\\NewMeatballs2.mp4: 640x640 1 class0, 6.6ms\n",
      "video 1/1 (frame 581/960) c:\\Users\\gtoft\\OneDrive\\DTU\\4_Semester_AS\\Master_Thesis\\auto-annotation-sam\\notebooks\\..\\data\\raw\\NewMeatballs2.mp4: 640x640 1 class0, 10.2ms\n",
      "video 1/1 (frame 582/960) c:\\Users\\gtoft\\OneDrive\\DTU\\4_Semester_AS\\Master_Thesis\\auto-annotation-sam\\notebooks\\..\\data\\raw\\NewMeatballs2.mp4: 640x640 1 class0, 11.5ms\n",
      "video 1/1 (frame 583/960) c:\\Users\\gtoft\\OneDrive\\DTU\\4_Semester_AS\\Master_Thesis\\auto-annotation-sam\\notebooks\\..\\data\\raw\\NewMeatballs2.mp4: 640x640 1 class0, 6.6ms\n",
      "video 1/1 (frame 584/960) c:\\Users\\gtoft\\OneDrive\\DTU\\4_Semester_AS\\Master_Thesis\\auto-annotation-sam\\notebooks\\..\\data\\raw\\NewMeatballs2.mp4: 640x640 1 class0, 7.0ms\n",
      "video 1/1 (frame 585/960) c:\\Users\\gtoft\\OneDrive\\DTU\\4_Semester_AS\\Master_Thesis\\auto-annotation-sam\\notebooks\\..\\data\\raw\\NewMeatballs2.mp4: 640x640 2 class0s, 6.8ms\n",
      "video 1/1 (frame 586/960) c:\\Users\\gtoft\\OneDrive\\DTU\\4_Semester_AS\\Master_Thesis\\auto-annotation-sam\\notebooks\\..\\data\\raw\\NewMeatballs2.mp4: 640x640 1 class0, 20.0ms\n",
      "video 1/1 (frame 587/960) c:\\Users\\gtoft\\OneDrive\\DTU\\4_Semester_AS\\Master_Thesis\\auto-annotation-sam\\notebooks\\..\\data\\raw\\NewMeatballs2.mp4: 640x640 2 class0s, 6.9ms\n",
      "video 1/1 (frame 588/960) c:\\Users\\gtoft\\OneDrive\\DTU\\4_Semester_AS\\Master_Thesis\\auto-annotation-sam\\notebooks\\..\\data\\raw\\NewMeatballs2.mp4: 640x640 1 class0, 6.9ms\n",
      "video 1/1 (frame 589/960) c:\\Users\\gtoft\\OneDrive\\DTU\\4_Semester_AS\\Master_Thesis\\auto-annotation-sam\\notebooks\\..\\data\\raw\\NewMeatballs2.mp4: 640x640 1 class0, 9.8ms\n",
      "video 1/1 (frame 590/960) c:\\Users\\gtoft\\OneDrive\\DTU\\4_Semester_AS\\Master_Thesis\\auto-annotation-sam\\notebooks\\..\\data\\raw\\NewMeatballs2.mp4: 640x640 (no detections), 15.1ms\n",
      "video 1/1 (frame 591/960) c:\\Users\\gtoft\\OneDrive\\DTU\\4_Semester_AS\\Master_Thesis\\auto-annotation-sam\\notebooks\\..\\data\\raw\\NewMeatballs2.mp4: 640x640 1 class0, 7.4ms\n",
      "video 1/1 (frame 592/960) c:\\Users\\gtoft\\OneDrive\\DTU\\4_Semester_AS\\Master_Thesis\\auto-annotation-sam\\notebooks\\..\\data\\raw\\NewMeatballs2.mp4: 640x640 2 class0s, 8.0ms\n",
      "video 1/1 (frame 593/960) c:\\Users\\gtoft\\OneDrive\\DTU\\4_Semester_AS\\Master_Thesis\\auto-annotation-sam\\notebooks\\..\\data\\raw\\NewMeatballs2.mp4: 640x640 1 class0, 7.3ms\n",
      "video 1/1 (frame 594/960) c:\\Users\\gtoft\\OneDrive\\DTU\\4_Semester_AS\\Master_Thesis\\auto-annotation-sam\\notebooks\\..\\data\\raw\\NewMeatballs2.mp4: 640x640 (no detections), 11.5ms\n",
      "video 1/1 (frame 595/960) c:\\Users\\gtoft\\OneDrive\\DTU\\4_Semester_AS\\Master_Thesis\\auto-annotation-sam\\notebooks\\..\\data\\raw\\NewMeatballs2.mp4: 640x640 1 class0, 17.9ms\n",
      "video 1/1 (frame 596/960) c:\\Users\\gtoft\\OneDrive\\DTU\\4_Semester_AS\\Master_Thesis\\auto-annotation-sam\\notebooks\\..\\data\\raw\\NewMeatballs2.mp4: 640x640 (no detections), 8.9ms\n",
      "video 1/1 (frame 597/960) c:\\Users\\gtoft\\OneDrive\\DTU\\4_Semester_AS\\Master_Thesis\\auto-annotation-sam\\notebooks\\..\\data\\raw\\NewMeatballs2.mp4: 640x640 2 class0s, 10.3ms\n",
      "video 1/1 (frame 598/960) c:\\Users\\gtoft\\OneDrive\\DTU\\4_Semester_AS\\Master_Thesis\\auto-annotation-sam\\notebooks\\..\\data\\raw\\NewMeatballs2.mp4: 640x640 1 class0, 13.5ms\n",
      "video 1/1 (frame 599/960) c:\\Users\\gtoft\\OneDrive\\DTU\\4_Semester_AS\\Master_Thesis\\auto-annotation-sam\\notebooks\\..\\data\\raw\\NewMeatballs2.mp4: 640x640 1 class0, 14.8ms\n",
      "video 1/1 (frame 600/960) c:\\Users\\gtoft\\OneDrive\\DTU\\4_Semester_AS\\Master_Thesis\\auto-annotation-sam\\notebooks\\..\\data\\raw\\NewMeatballs2.mp4: 640x640 1 class0, 13.1ms\n",
      "video 1/1 (frame 601/960) c:\\Users\\gtoft\\OneDrive\\DTU\\4_Semester_AS\\Master_Thesis\\auto-annotation-sam\\notebooks\\..\\data\\raw\\NewMeatballs2.mp4: 640x640 (no detections), 25.3ms\n",
      "video 1/1 (frame 602/960) c:\\Users\\gtoft\\OneDrive\\DTU\\4_Semester_AS\\Master_Thesis\\auto-annotation-sam\\notebooks\\..\\data\\raw\\NewMeatballs2.mp4: 640x640 2 class0s, 14.3ms\n",
      "video 1/1 (frame 603/960) c:\\Users\\gtoft\\OneDrive\\DTU\\4_Semester_AS\\Master_Thesis\\auto-annotation-sam\\notebooks\\..\\data\\raw\\NewMeatballs2.mp4: 640x640 2 class0s, 23.4ms\n",
      "video 1/1 (frame 604/960) c:\\Users\\gtoft\\OneDrive\\DTU\\4_Semester_AS\\Master_Thesis\\auto-annotation-sam\\notebooks\\..\\data\\raw\\NewMeatballs2.mp4: 640x640 1 class0, 20.3ms\n",
      "video 1/1 (frame 605/960) c:\\Users\\gtoft\\OneDrive\\DTU\\4_Semester_AS\\Master_Thesis\\auto-annotation-sam\\notebooks\\..\\data\\raw\\NewMeatballs2.mp4: 640x640 1 class0, 15.0ms\n",
      "video 1/1 (frame 606/960) c:\\Users\\gtoft\\OneDrive\\DTU\\4_Semester_AS\\Master_Thesis\\auto-annotation-sam\\notebooks\\..\\data\\raw\\NewMeatballs2.mp4: 640x640 (no detections), 20.6ms\n",
      "video 1/1 (frame 607/960) c:\\Users\\gtoft\\OneDrive\\DTU\\4_Semester_AS\\Master_Thesis\\auto-annotation-sam\\notebooks\\..\\data\\raw\\NewMeatballs2.mp4: 640x640 2 class0s, 7.8ms\n",
      "video 1/1 (frame 608/960) c:\\Users\\gtoft\\OneDrive\\DTU\\4_Semester_AS\\Master_Thesis\\auto-annotation-sam\\notebooks\\..\\data\\raw\\NewMeatballs2.mp4: 640x640 1 class0, 7.9ms\n",
      "video 1/1 (frame 609/960) c:\\Users\\gtoft\\OneDrive\\DTU\\4_Semester_AS\\Master_Thesis\\auto-annotation-sam\\notebooks\\..\\data\\raw\\NewMeatballs2.mp4: 640x640 1 class0, 7.0ms\n",
      "video 1/1 (frame 610/960) c:\\Users\\gtoft\\OneDrive\\DTU\\4_Semester_AS\\Master_Thesis\\auto-annotation-sam\\notebooks\\..\\data\\raw\\NewMeatballs2.mp4: 640x640 1 class0, 15.1ms\n",
      "video 1/1 (frame 611/960) c:\\Users\\gtoft\\OneDrive\\DTU\\4_Semester_AS\\Master_Thesis\\auto-annotation-sam\\notebooks\\..\\data\\raw\\NewMeatballs2.mp4: 640x640 2 class0s, 10.2ms\n",
      "video 1/1 (frame 612/960) c:\\Users\\gtoft\\OneDrive\\DTU\\4_Semester_AS\\Master_Thesis\\auto-annotation-sam\\notebooks\\..\\data\\raw\\NewMeatballs2.mp4: 640x640 2 class0s, 11.4ms\n",
      "video 1/1 (frame 613/960) c:\\Users\\gtoft\\OneDrive\\DTU\\4_Semester_AS\\Master_Thesis\\auto-annotation-sam\\notebooks\\..\\data\\raw\\NewMeatballs2.mp4: 640x640 2 class0s, 7.4ms\n",
      "video 1/1 (frame 614/960) c:\\Users\\gtoft\\OneDrive\\DTU\\4_Semester_AS\\Master_Thesis\\auto-annotation-sam\\notebooks\\..\\data\\raw\\NewMeatballs2.mp4: 640x640 2 class0s, 15.2ms\n",
      "video 1/1 (frame 615/960) c:\\Users\\gtoft\\OneDrive\\DTU\\4_Semester_AS\\Master_Thesis\\auto-annotation-sam\\notebooks\\..\\data\\raw\\NewMeatballs2.mp4: 640x640 3 class0s, 14.5ms\n",
      "video 1/1 (frame 616/960) c:\\Users\\gtoft\\OneDrive\\DTU\\4_Semester_AS\\Master_Thesis\\auto-annotation-sam\\notebooks\\..\\data\\raw\\NewMeatballs2.mp4: 640x640 3 class0s, 7.2ms\n",
      "video 1/1 (frame 617/960) c:\\Users\\gtoft\\OneDrive\\DTU\\4_Semester_AS\\Master_Thesis\\auto-annotation-sam\\notebooks\\..\\data\\raw\\NewMeatballs2.mp4: 640x640 2 class0s, 8.7ms\n",
      "video 1/1 (frame 618/960) c:\\Users\\gtoft\\OneDrive\\DTU\\4_Semester_AS\\Master_Thesis\\auto-annotation-sam\\notebooks\\..\\data\\raw\\NewMeatballs2.mp4: 640x640 1 class0, 7.9ms\n",
      "video 1/1 (frame 619/960) c:\\Users\\gtoft\\OneDrive\\DTU\\4_Semester_AS\\Master_Thesis\\auto-annotation-sam\\notebooks\\..\\data\\raw\\NewMeatballs2.mp4: 640x640 1 class0, 8.0ms\n",
      "video 1/1 (frame 620/960) c:\\Users\\gtoft\\OneDrive\\DTU\\4_Semester_AS\\Master_Thesis\\auto-annotation-sam\\notebooks\\..\\data\\raw\\NewMeatballs2.mp4: 640x640 3 class0s, 9.1ms\n",
      "video 1/1 (frame 621/960) c:\\Users\\gtoft\\OneDrive\\DTU\\4_Semester_AS\\Master_Thesis\\auto-annotation-sam\\notebooks\\..\\data\\raw\\NewMeatballs2.mp4: 640x640 1 class0, 10.9ms\n",
      "video 1/1 (frame 622/960) c:\\Users\\gtoft\\OneDrive\\DTU\\4_Semester_AS\\Master_Thesis\\auto-annotation-sam\\notebooks\\..\\data\\raw\\NewMeatballs2.mp4: 640x640 1 class0, 7.2ms\n",
      "video 1/1 (frame 623/960) c:\\Users\\gtoft\\OneDrive\\DTU\\4_Semester_AS\\Master_Thesis\\auto-annotation-sam\\notebooks\\..\\data\\raw\\NewMeatballs2.mp4: 640x640 1 class0, 6.8ms\n",
      "video 1/1 (frame 624/960) c:\\Users\\gtoft\\OneDrive\\DTU\\4_Semester_AS\\Master_Thesis\\auto-annotation-sam\\notebooks\\..\\data\\raw\\NewMeatballs2.mp4: 640x640 1 class0, 9.0ms\n",
      "video 1/1 (frame 625/960) c:\\Users\\gtoft\\OneDrive\\DTU\\4_Semester_AS\\Master_Thesis\\auto-annotation-sam\\notebooks\\..\\data\\raw\\NewMeatballs2.mp4: 640x640 1 class0, 8.0ms\n",
      "video 1/1 (frame 626/960) c:\\Users\\gtoft\\OneDrive\\DTU\\4_Semester_AS\\Master_Thesis\\auto-annotation-sam\\notebooks\\..\\data\\raw\\NewMeatballs2.mp4: 640x640 (no detections), 7.1ms\n",
      "video 1/1 (frame 627/960) c:\\Users\\gtoft\\OneDrive\\DTU\\4_Semester_AS\\Master_Thesis\\auto-annotation-sam\\notebooks\\..\\data\\raw\\NewMeatballs2.mp4: 640x640 (no detections), 7.2ms\n",
      "video 1/1 (frame 628/960) c:\\Users\\gtoft\\OneDrive\\DTU\\4_Semester_AS\\Master_Thesis\\auto-annotation-sam\\notebooks\\..\\data\\raw\\NewMeatballs2.mp4: 640x640 (no detections), 7.9ms\n",
      "video 1/1 (frame 629/960) c:\\Users\\gtoft\\OneDrive\\DTU\\4_Semester_AS\\Master_Thesis\\auto-annotation-sam\\notebooks\\..\\data\\raw\\NewMeatballs2.mp4: 640x640 (no detections), 11.8ms\n",
      "video 1/1 (frame 630/960) c:\\Users\\gtoft\\OneDrive\\DTU\\4_Semester_AS\\Master_Thesis\\auto-annotation-sam\\notebooks\\..\\data\\raw\\NewMeatballs2.mp4: 640x640 1 class0, 7.2ms\n",
      "video 1/1 (frame 631/960) c:\\Users\\gtoft\\OneDrive\\DTU\\4_Semester_AS\\Master_Thesis\\auto-annotation-sam\\notebooks\\..\\data\\raw\\NewMeatballs2.mp4: 640x640 1 class0, 7.0ms\n",
      "video 1/1 (frame 632/960) c:\\Users\\gtoft\\OneDrive\\DTU\\4_Semester_AS\\Master_Thesis\\auto-annotation-sam\\notebooks\\..\\data\\raw\\NewMeatballs2.mp4: 640x640 (no detections), 7.2ms\n",
      "video 1/1 (frame 633/960) c:\\Users\\gtoft\\OneDrive\\DTU\\4_Semester_AS\\Master_Thesis\\auto-annotation-sam\\notebooks\\..\\data\\raw\\NewMeatballs2.mp4: 640x640 (no detections), 7.9ms\n",
      "video 1/1 (frame 634/960) c:\\Users\\gtoft\\OneDrive\\DTU\\4_Semester_AS\\Master_Thesis\\auto-annotation-sam\\notebooks\\..\\data\\raw\\NewMeatballs2.mp4: 640x640 (no detections), 9.6ms\n",
      "video 1/1 (frame 635/960) c:\\Users\\gtoft\\OneDrive\\DTU\\4_Semester_AS\\Master_Thesis\\auto-annotation-sam\\notebooks\\..\\data\\raw\\NewMeatballs2.mp4: 640x640 (no detections), 9.3ms\n",
      "video 1/1 (frame 636/960) c:\\Users\\gtoft\\OneDrive\\DTU\\4_Semester_AS\\Master_Thesis\\auto-annotation-sam\\notebooks\\..\\data\\raw\\NewMeatballs2.mp4: 640x640 (no detections), 14.8ms\n",
      "video 1/1 (frame 637/960) c:\\Users\\gtoft\\OneDrive\\DTU\\4_Semester_AS\\Master_Thesis\\auto-annotation-sam\\notebooks\\..\\data\\raw\\NewMeatballs2.mp4: 640x640 (no detections), 7.4ms\n",
      "video 1/1 (frame 638/960) c:\\Users\\gtoft\\OneDrive\\DTU\\4_Semester_AS\\Master_Thesis\\auto-annotation-sam\\notebooks\\..\\data\\raw\\NewMeatballs2.mp4: 640x640 (no detections), 8.3ms\n",
      "video 1/1 (frame 639/960) c:\\Users\\gtoft\\OneDrive\\DTU\\4_Semester_AS\\Master_Thesis\\auto-annotation-sam\\notebooks\\..\\data\\raw\\NewMeatballs2.mp4: 640x640 1 class0, 7.0ms\n",
      "video 1/1 (frame 640/960) c:\\Users\\gtoft\\OneDrive\\DTU\\4_Semester_AS\\Master_Thesis\\auto-annotation-sam\\notebooks\\..\\data\\raw\\NewMeatballs2.mp4: 640x640 (no detections), 7.4ms\n",
      "video 1/1 (frame 641/960) c:\\Users\\gtoft\\OneDrive\\DTU\\4_Semester_AS\\Master_Thesis\\auto-annotation-sam\\notebooks\\..\\data\\raw\\NewMeatballs2.mp4: 640x640 (no detections), 7.1ms\n",
      "video 1/1 (frame 642/960) c:\\Users\\gtoft\\OneDrive\\DTU\\4_Semester_AS\\Master_Thesis\\auto-annotation-sam\\notebooks\\..\\data\\raw\\NewMeatballs2.mp4: 640x640 (no detections), 9.0ms\n",
      "video 1/1 (frame 643/960) c:\\Users\\gtoft\\OneDrive\\DTU\\4_Semester_AS\\Master_Thesis\\auto-annotation-sam\\notebooks\\..\\data\\raw\\NewMeatballs2.mp4: 640x640 (no detections), 7.4ms\n",
      "video 1/1 (frame 644/960) c:\\Users\\gtoft\\OneDrive\\DTU\\4_Semester_AS\\Master_Thesis\\auto-annotation-sam\\notebooks\\..\\data\\raw\\NewMeatballs2.mp4: 640x640 1 class0, 8.1ms\n",
      "video 1/1 (frame 645/960) c:\\Users\\gtoft\\OneDrive\\DTU\\4_Semester_AS\\Master_Thesis\\auto-annotation-sam\\notebooks\\..\\data\\raw\\NewMeatballs2.mp4: 640x640 (no detections), 7.6ms\n",
      "video 1/1 (frame 646/960) c:\\Users\\gtoft\\OneDrive\\DTU\\4_Semester_AS\\Master_Thesis\\auto-annotation-sam\\notebooks\\..\\data\\raw\\NewMeatballs2.mp4: 640x640 2 class0s, 9.8ms\n",
      "video 1/1 (frame 647/960) c:\\Users\\gtoft\\OneDrive\\DTU\\4_Semester_AS\\Master_Thesis\\auto-annotation-sam\\notebooks\\..\\data\\raw\\NewMeatballs2.mp4: 640x640 2 class0s, 11.4ms\n",
      "video 1/1 (frame 648/960) c:\\Users\\gtoft\\OneDrive\\DTU\\4_Semester_AS\\Master_Thesis\\auto-annotation-sam\\notebooks\\..\\data\\raw\\NewMeatballs2.mp4: 640x640 1 class0, 16.3ms\n",
      "video 1/1 (frame 649/960) c:\\Users\\gtoft\\OneDrive\\DTU\\4_Semester_AS\\Master_Thesis\\auto-annotation-sam\\notebooks\\..\\data\\raw\\NewMeatballs2.mp4: 640x640 1 class0, 8.3ms\n",
      "video 1/1 (frame 650/960) c:\\Users\\gtoft\\OneDrive\\DTU\\4_Semester_AS\\Master_Thesis\\auto-annotation-sam\\notebooks\\..\\data\\raw\\NewMeatballs2.mp4: 640x640 1 class0, 7.0ms\n",
      "video 1/1 (frame 651/960) c:\\Users\\gtoft\\OneDrive\\DTU\\4_Semester_AS\\Master_Thesis\\auto-annotation-sam\\notebooks\\..\\data\\raw\\NewMeatballs2.mp4: 640x640 (no detections), 7.0ms\n",
      "video 1/1 (frame 652/960) c:\\Users\\gtoft\\OneDrive\\DTU\\4_Semester_AS\\Master_Thesis\\auto-annotation-sam\\notebooks\\..\\data\\raw\\NewMeatballs2.mp4: 640x640 (no detections), 11.7ms\n",
      "video 1/1 (frame 653/960) c:\\Users\\gtoft\\OneDrive\\DTU\\4_Semester_AS\\Master_Thesis\\auto-annotation-sam\\notebooks\\..\\data\\raw\\NewMeatballs2.mp4: 640x640 1 class0, 8.2ms\n",
      "video 1/1 (frame 654/960) c:\\Users\\gtoft\\OneDrive\\DTU\\4_Semester_AS\\Master_Thesis\\auto-annotation-sam\\notebooks\\..\\data\\raw\\NewMeatballs2.mp4: 640x640 (no detections), 7.1ms\n",
      "video 1/1 (frame 655/960) c:\\Users\\gtoft\\OneDrive\\DTU\\4_Semester_AS\\Master_Thesis\\auto-annotation-sam\\notebooks\\..\\data\\raw\\NewMeatballs2.mp4: 640x640 1 class0, 7.3ms\n",
      "video 1/1 (frame 656/960) c:\\Users\\gtoft\\OneDrive\\DTU\\4_Semester_AS\\Master_Thesis\\auto-annotation-sam\\notebooks\\..\\data\\raw\\NewMeatballs2.mp4: 640x640 (no detections), 11.0ms\n",
      "video 1/1 (frame 657/960) c:\\Users\\gtoft\\OneDrive\\DTU\\4_Semester_AS\\Master_Thesis\\auto-annotation-sam\\notebooks\\..\\data\\raw\\NewMeatballs2.mp4: 640x640 1 class0, 8.4ms\n",
      "video 1/1 (frame 658/960) c:\\Users\\gtoft\\OneDrive\\DTU\\4_Semester_AS\\Master_Thesis\\auto-annotation-sam\\notebooks\\..\\data\\raw\\NewMeatballs2.mp4: 640x640 1 class0, 7.4ms\n",
      "video 1/1 (frame 659/960) c:\\Users\\gtoft\\OneDrive\\DTU\\4_Semester_AS\\Master_Thesis\\auto-annotation-sam\\notebooks\\..\\data\\raw\\NewMeatballs2.mp4: 640x640 1 class0, 8.1ms\n",
      "video 1/1 (frame 660/960) c:\\Users\\gtoft\\OneDrive\\DTU\\4_Semester_AS\\Master_Thesis\\auto-annotation-sam\\notebooks\\..\\data\\raw\\NewMeatballs2.mp4: 640x640 1 class0, 12.9ms\n",
      "video 1/1 (frame 661/960) c:\\Users\\gtoft\\OneDrive\\DTU\\4_Semester_AS\\Master_Thesis\\auto-annotation-sam\\notebooks\\..\\data\\raw\\NewMeatballs2.mp4: 640x640 (no detections), 8.5ms\n",
      "video 1/1 (frame 662/960) c:\\Users\\gtoft\\OneDrive\\DTU\\4_Semester_AS\\Master_Thesis\\auto-annotation-sam\\notebooks\\..\\data\\raw\\NewMeatballs2.mp4: 640x640 (no detections), 11.1ms\n",
      "video 1/1 (frame 663/960) c:\\Users\\gtoft\\OneDrive\\DTU\\4_Semester_AS\\Master_Thesis\\auto-annotation-sam\\notebooks\\..\\data\\raw\\NewMeatballs2.mp4: 640x640 (no detections), 7.1ms\n",
      "video 1/1 (frame 664/960) c:\\Users\\gtoft\\OneDrive\\DTU\\4_Semester_AS\\Master_Thesis\\auto-annotation-sam\\notebooks\\..\\data\\raw\\NewMeatballs2.mp4: 640x640 (no detections), 7.1ms\n",
      "video 1/1 (frame 665/960) c:\\Users\\gtoft\\OneDrive\\DTU\\4_Semester_AS\\Master_Thesis\\auto-annotation-sam\\notebooks\\..\\data\\raw\\NewMeatballs2.mp4: 640x640 (no detections), 8.6ms\n",
      "video 1/1 (frame 666/960) c:\\Users\\gtoft\\OneDrive\\DTU\\4_Semester_AS\\Master_Thesis\\auto-annotation-sam\\notebooks\\..\\data\\raw\\NewMeatballs2.mp4: 640x640 (no detections), 11.1ms\n",
      "video 1/1 (frame 667/960) c:\\Users\\gtoft\\OneDrive\\DTU\\4_Semester_AS\\Master_Thesis\\auto-annotation-sam\\notebooks\\..\\data\\raw\\NewMeatballs2.mp4: 640x640 (no detections), 8.0ms\n",
      "video 1/1 (frame 668/960) c:\\Users\\gtoft\\OneDrive\\DTU\\4_Semester_AS\\Master_Thesis\\auto-annotation-sam\\notebooks\\..\\data\\raw\\NewMeatballs2.mp4: 640x640 (no detections), 7.0ms\n",
      "video 1/1 (frame 669/960) c:\\Users\\gtoft\\OneDrive\\DTU\\4_Semester_AS\\Master_Thesis\\auto-annotation-sam\\notebooks\\..\\data\\raw\\NewMeatballs2.mp4: 640x640 (no detections), 16.2ms\n",
      "video 1/1 (frame 670/960) c:\\Users\\gtoft\\OneDrive\\DTU\\4_Semester_AS\\Master_Thesis\\auto-annotation-sam\\notebooks\\..\\data\\raw\\NewMeatballs2.mp4: 640x640 (no detections), 10.5ms\n",
      "video 1/1 (frame 671/960) c:\\Users\\gtoft\\OneDrive\\DTU\\4_Semester_AS\\Master_Thesis\\auto-annotation-sam\\notebooks\\..\\data\\raw\\NewMeatballs2.mp4: 640x640 (no detections), 13.2ms\n",
      "video 1/1 (frame 672/960) c:\\Users\\gtoft\\OneDrive\\DTU\\4_Semester_AS\\Master_Thesis\\auto-annotation-sam\\notebooks\\..\\data\\raw\\NewMeatballs2.mp4: 640x640 (no detections), 6.5ms\n",
      "video 1/1 (frame 673/960) c:\\Users\\gtoft\\OneDrive\\DTU\\4_Semester_AS\\Master_Thesis\\auto-annotation-sam\\notebooks\\..\\data\\raw\\NewMeatballs2.mp4: 640x640 (no detections), 8.9ms\n",
      "video 1/1 (frame 674/960) c:\\Users\\gtoft\\OneDrive\\DTU\\4_Semester_AS\\Master_Thesis\\auto-annotation-sam\\notebooks\\..\\data\\raw\\NewMeatballs2.mp4: 640x640 (no detections), 8.0ms\n",
      "video 1/1 (frame 675/960) c:\\Users\\gtoft\\OneDrive\\DTU\\4_Semester_AS\\Master_Thesis\\auto-annotation-sam\\notebooks\\..\\data\\raw\\NewMeatballs2.mp4: 640x640 1 class0, 8.8ms\n",
      "video 1/1 (frame 676/960) c:\\Users\\gtoft\\OneDrive\\DTU\\4_Semester_AS\\Master_Thesis\\auto-annotation-sam\\notebooks\\..\\data\\raw\\NewMeatballs2.mp4: 640x640 1 class0, 11.9ms\n",
      "video 1/1 (frame 677/960) c:\\Users\\gtoft\\OneDrive\\DTU\\4_Semester_AS\\Master_Thesis\\auto-annotation-sam\\notebooks\\..\\data\\raw\\NewMeatballs2.mp4: 640x640 1 class0, 8.0ms\n",
      "video 1/1 (frame 678/960) c:\\Users\\gtoft\\OneDrive\\DTU\\4_Semester_AS\\Master_Thesis\\auto-annotation-sam\\notebooks\\..\\data\\raw\\NewMeatballs2.mp4: 640x640 1 class0, 8.1ms\n",
      "video 1/1 (frame 679/960) c:\\Users\\gtoft\\OneDrive\\DTU\\4_Semester_AS\\Master_Thesis\\auto-annotation-sam\\notebooks\\..\\data\\raw\\NewMeatballs2.mp4: 640x640 (no detections), 14.3ms\n",
      "video 1/1 (frame 680/960) c:\\Users\\gtoft\\OneDrive\\DTU\\4_Semester_AS\\Master_Thesis\\auto-annotation-sam\\notebooks\\..\\data\\raw\\NewMeatballs2.mp4: 640x640 3 class0s, 10.1ms\n",
      "video 1/1 (frame 681/960) c:\\Users\\gtoft\\OneDrive\\DTU\\4_Semester_AS\\Master_Thesis\\auto-annotation-sam\\notebooks\\..\\data\\raw\\NewMeatballs2.mp4: 640x640 2 class0s, 15.7ms\n",
      "video 1/1 (frame 682/960) c:\\Users\\gtoft\\OneDrive\\DTU\\4_Semester_AS\\Master_Thesis\\auto-annotation-sam\\notebooks\\..\\data\\raw\\NewMeatballs2.mp4: 640x640 1 class0, 10.5ms\n",
      "video 1/1 (frame 683/960) c:\\Users\\gtoft\\OneDrive\\DTU\\4_Semester_AS\\Master_Thesis\\auto-annotation-sam\\notebooks\\..\\data\\raw\\NewMeatballs2.mp4: 640x640 1 class0, 9.7ms\n",
      "video 1/1 (frame 684/960) c:\\Users\\gtoft\\OneDrive\\DTU\\4_Semester_AS\\Master_Thesis\\auto-annotation-sam\\notebooks\\..\\data\\raw\\NewMeatballs2.mp4: 640x640 1 class0, 7.3ms\n",
      "video 1/1 (frame 685/960) c:\\Users\\gtoft\\OneDrive\\DTU\\4_Semester_AS\\Master_Thesis\\auto-annotation-sam\\notebooks\\..\\data\\raw\\NewMeatballs2.mp4: 640x640 1 class0, 9.1ms\n",
      "video 1/1 (frame 686/960) c:\\Users\\gtoft\\OneDrive\\DTU\\4_Semester_AS\\Master_Thesis\\auto-annotation-sam\\notebooks\\..\\data\\raw\\NewMeatballs2.mp4: 640x640 1 class0, 7.9ms\n",
      "video 1/1 (frame 687/960) c:\\Users\\gtoft\\OneDrive\\DTU\\4_Semester_AS\\Master_Thesis\\auto-annotation-sam\\notebooks\\..\\data\\raw\\NewMeatballs2.mp4: 640x640 1 class0, 6.8ms\n",
      "video 1/1 (frame 688/960) c:\\Users\\gtoft\\OneDrive\\DTU\\4_Semester_AS\\Master_Thesis\\auto-annotation-sam\\notebooks\\..\\data\\raw\\NewMeatballs2.mp4: 640x640 1 class0, 14.2ms\n",
      "video 1/1 (frame 689/960) c:\\Users\\gtoft\\OneDrive\\DTU\\4_Semester_AS\\Master_Thesis\\auto-annotation-sam\\notebooks\\..\\data\\raw\\NewMeatballs2.mp4: 640x640 2 class0s, 14.0ms\n",
      "video 1/1 (frame 690/960) c:\\Users\\gtoft\\OneDrive\\DTU\\4_Semester_AS\\Master_Thesis\\auto-annotation-sam\\notebooks\\..\\data\\raw\\NewMeatballs2.mp4: 640x640 2 class0s, 7.2ms\n",
      "video 1/1 (frame 691/960) c:\\Users\\gtoft\\OneDrive\\DTU\\4_Semester_AS\\Master_Thesis\\auto-annotation-sam\\notebooks\\..\\data\\raw\\NewMeatballs2.mp4: 640x640 1 class0, 6.8ms\n",
      "video 1/1 (frame 692/960) c:\\Users\\gtoft\\OneDrive\\DTU\\4_Semester_AS\\Master_Thesis\\auto-annotation-sam\\notebooks\\..\\data\\raw\\NewMeatballs2.mp4: 640x640 1 class0, 12.5ms\n",
      "video 1/1 (frame 693/960) c:\\Users\\gtoft\\OneDrive\\DTU\\4_Semester_AS\\Master_Thesis\\auto-annotation-sam\\notebooks\\..\\data\\raw\\NewMeatballs2.mp4: 640x640 1 class0, 8.8ms\n",
      "video 1/1 (frame 694/960) c:\\Users\\gtoft\\OneDrive\\DTU\\4_Semester_AS\\Master_Thesis\\auto-annotation-sam\\notebooks\\..\\data\\raw\\NewMeatballs2.mp4: 640x640 1 class0, 10.3ms\n",
      "video 1/1 (frame 695/960) c:\\Users\\gtoft\\OneDrive\\DTU\\4_Semester_AS\\Master_Thesis\\auto-annotation-sam\\notebooks\\..\\data\\raw\\NewMeatballs2.mp4: 640x640 1 class0, 8.4ms\n",
      "video 1/1 (frame 696/960) c:\\Users\\gtoft\\OneDrive\\DTU\\4_Semester_AS\\Master_Thesis\\auto-annotation-sam\\notebooks\\..\\data\\raw\\NewMeatballs2.mp4: 640x640 1 class0, 7.4ms\n",
      "video 1/1 (frame 697/960) c:\\Users\\gtoft\\OneDrive\\DTU\\4_Semester_AS\\Master_Thesis\\auto-annotation-sam\\notebooks\\..\\data\\raw\\NewMeatballs2.mp4: 640x640 (no detections), 7.2ms\n",
      "video 1/1 (frame 698/960) c:\\Users\\gtoft\\OneDrive\\DTU\\4_Semester_AS\\Master_Thesis\\auto-annotation-sam\\notebooks\\..\\data\\raw\\NewMeatballs2.mp4: 640x640 (no detections), 7.9ms\n",
      "video 1/1 (frame 699/960) c:\\Users\\gtoft\\OneDrive\\DTU\\4_Semester_AS\\Master_Thesis\\auto-annotation-sam\\notebooks\\..\\data\\raw\\NewMeatballs2.mp4: 640x640 (no detections), 7.9ms\n",
      "video 1/1 (frame 700/960) c:\\Users\\gtoft\\OneDrive\\DTU\\4_Semester_AS\\Master_Thesis\\auto-annotation-sam\\notebooks\\..\\data\\raw\\NewMeatballs2.mp4: 640x640 (no detections), 14.6ms\n",
      "video 1/1 (frame 701/960) c:\\Users\\gtoft\\OneDrive\\DTU\\4_Semester_AS\\Master_Thesis\\auto-annotation-sam\\notebooks\\..\\data\\raw\\NewMeatballs2.mp4: 640x640 (no detections), 7.8ms\n",
      "video 1/1 (frame 702/960) c:\\Users\\gtoft\\OneDrive\\DTU\\4_Semester_AS\\Master_Thesis\\auto-annotation-sam\\notebooks\\..\\data\\raw\\NewMeatballs2.mp4: 640x640 (no detections), 7.8ms\n",
      "video 1/1 (frame 703/960) c:\\Users\\gtoft\\OneDrive\\DTU\\4_Semester_AS\\Master_Thesis\\auto-annotation-sam\\notebooks\\..\\data\\raw\\NewMeatballs2.mp4: 640x640 1 class0, 7.0ms\n",
      "video 1/1 (frame 704/960) c:\\Users\\gtoft\\OneDrive\\DTU\\4_Semester_AS\\Master_Thesis\\auto-annotation-sam\\notebooks\\..\\data\\raw\\NewMeatballs2.mp4: 640x640 (no detections), 10.8ms\n",
      "video 1/1 (frame 705/960) c:\\Users\\gtoft\\OneDrive\\DTU\\4_Semester_AS\\Master_Thesis\\auto-annotation-sam\\notebooks\\..\\data\\raw\\NewMeatballs2.mp4: 640x640 1 class0, 6.6ms\n",
      "video 1/1 (frame 706/960) c:\\Users\\gtoft\\OneDrive\\DTU\\4_Semester_AS\\Master_Thesis\\auto-annotation-sam\\notebooks\\..\\data\\raw\\NewMeatballs2.mp4: 640x640 1 class0, 7.1ms\n",
      "video 1/1 (frame 707/960) c:\\Users\\gtoft\\OneDrive\\DTU\\4_Semester_AS\\Master_Thesis\\auto-annotation-sam\\notebooks\\..\\data\\raw\\NewMeatballs2.mp4: 640x640 1 class0, 13.5ms\n",
      "video 1/1 (frame 708/960) c:\\Users\\gtoft\\OneDrive\\DTU\\4_Semester_AS\\Master_Thesis\\auto-annotation-sam\\notebooks\\..\\data\\raw\\NewMeatballs2.mp4: 640x640 1 class0, 7.5ms\n",
      "video 1/1 (frame 709/960) c:\\Users\\gtoft\\OneDrive\\DTU\\4_Semester_AS\\Master_Thesis\\auto-annotation-sam\\notebooks\\..\\data\\raw\\NewMeatballs2.mp4: 640x640 1 class0, 11.1ms\n",
      "video 1/1 (frame 710/960) c:\\Users\\gtoft\\OneDrive\\DTU\\4_Semester_AS\\Master_Thesis\\auto-annotation-sam\\notebooks\\..\\data\\raw\\NewMeatballs2.mp4: 640x640 1 class0, 7.8ms\n",
      "video 1/1 (frame 711/960) c:\\Users\\gtoft\\OneDrive\\DTU\\4_Semester_AS\\Master_Thesis\\auto-annotation-sam\\notebooks\\..\\data\\raw\\NewMeatballs2.mp4: 640x640 1 class0, 7.4ms\n",
      "video 1/1 (frame 712/960) c:\\Users\\gtoft\\OneDrive\\DTU\\4_Semester_AS\\Master_Thesis\\auto-annotation-sam\\notebooks\\..\\data\\raw\\NewMeatballs2.mp4: 640x640 1 class0, 6.9ms\n",
      "video 1/1 (frame 713/960) c:\\Users\\gtoft\\OneDrive\\DTU\\4_Semester_AS\\Master_Thesis\\auto-annotation-sam\\notebooks\\..\\data\\raw\\NewMeatballs2.mp4: 640x640 2 class0s, 10.3ms\n",
      "video 1/1 (frame 714/960) c:\\Users\\gtoft\\OneDrive\\DTU\\4_Semester_AS\\Master_Thesis\\auto-annotation-sam\\notebooks\\..\\data\\raw\\NewMeatballs2.mp4: 640x640 2 class0s, 7.1ms\n",
      "video 1/1 (frame 715/960) c:\\Users\\gtoft\\OneDrive\\DTU\\4_Semester_AS\\Master_Thesis\\auto-annotation-sam\\notebooks\\..\\data\\raw\\NewMeatballs2.mp4: 640x640 1 class0, 8.0ms\n",
      "video 1/1 (frame 716/960) c:\\Users\\gtoft\\OneDrive\\DTU\\4_Semester_AS\\Master_Thesis\\auto-annotation-sam\\notebooks\\..\\data\\raw\\NewMeatballs2.mp4: 640x640 1 class0, 11.2ms\n",
      "video 1/1 (frame 717/960) c:\\Users\\gtoft\\OneDrive\\DTU\\4_Semester_AS\\Master_Thesis\\auto-annotation-sam\\notebooks\\..\\data\\raw\\NewMeatballs2.mp4: 640x640 2 class0s, 7.2ms\n",
      "video 1/1 (frame 718/960) c:\\Users\\gtoft\\OneDrive\\DTU\\4_Semester_AS\\Master_Thesis\\auto-annotation-sam\\notebooks\\..\\data\\raw\\NewMeatballs2.mp4: 640x640 1 class0, 10.9ms\n",
      "video 1/1 (frame 719/960) c:\\Users\\gtoft\\OneDrive\\DTU\\4_Semester_AS\\Master_Thesis\\auto-annotation-sam\\notebooks\\..\\data\\raw\\NewMeatballs2.mp4: 640x640 1 class0, 8.5ms\n",
      "video 1/1 (frame 720/960) c:\\Users\\gtoft\\OneDrive\\DTU\\4_Semester_AS\\Master_Thesis\\auto-annotation-sam\\notebooks\\..\\data\\raw\\NewMeatballs2.mp4: 640x640 1 class0, 6.5ms\n",
      "video 1/1 (frame 721/960) c:\\Users\\gtoft\\OneDrive\\DTU\\4_Semester_AS\\Master_Thesis\\auto-annotation-sam\\notebooks\\..\\data\\raw\\NewMeatballs2.mp4: 640x640 1 class0, 7.8ms\n",
      "video 1/1 (frame 722/960) c:\\Users\\gtoft\\OneDrive\\DTU\\4_Semester_AS\\Master_Thesis\\auto-annotation-sam\\notebooks\\..\\data\\raw\\NewMeatballs2.mp4: 640x640 2 class0s, 7.0ms\n",
      "video 1/1 (frame 723/960) c:\\Users\\gtoft\\OneDrive\\DTU\\4_Semester_AS\\Master_Thesis\\auto-annotation-sam\\notebooks\\..\\data\\raw\\NewMeatballs2.mp4: 640x640 (no detections), 8.0ms\n",
      "video 1/1 (frame 724/960) c:\\Users\\gtoft\\OneDrive\\DTU\\4_Semester_AS\\Master_Thesis\\auto-annotation-sam\\notebooks\\..\\data\\raw\\NewMeatballs2.mp4: 640x640 1 class0, 6.4ms\n",
      "video 1/1 (frame 725/960) c:\\Users\\gtoft\\OneDrive\\DTU\\4_Semester_AS\\Master_Thesis\\auto-annotation-sam\\notebooks\\..\\data\\raw\\NewMeatballs2.mp4: 640x640 (no detections), 6.3ms\n",
      "video 1/1 (frame 726/960) c:\\Users\\gtoft\\OneDrive\\DTU\\4_Semester_AS\\Master_Thesis\\auto-annotation-sam\\notebooks\\..\\data\\raw\\NewMeatballs2.mp4: 640x640 1 class0, 6.4ms\n",
      "video 1/1 (frame 727/960) c:\\Users\\gtoft\\OneDrive\\DTU\\4_Semester_AS\\Master_Thesis\\auto-annotation-sam\\notebooks\\..\\data\\raw\\NewMeatballs2.mp4: 640x640 1 class0, 7.5ms\n",
      "video 1/1 (frame 728/960) c:\\Users\\gtoft\\OneDrive\\DTU\\4_Semester_AS\\Master_Thesis\\auto-annotation-sam\\notebooks\\..\\data\\raw\\NewMeatballs2.mp4: 640x640 (no detections), 7.1ms\n",
      "video 1/1 (frame 729/960) c:\\Users\\gtoft\\OneDrive\\DTU\\4_Semester_AS\\Master_Thesis\\auto-annotation-sam\\notebooks\\..\\data\\raw\\NewMeatballs2.mp4: 640x640 (no detections), 9.3ms\n",
      "video 1/1 (frame 730/960) c:\\Users\\gtoft\\OneDrive\\DTU\\4_Semester_AS\\Master_Thesis\\auto-annotation-sam\\notebooks\\..\\data\\raw\\NewMeatballs2.mp4: 640x640 1 class0, 7.2ms\n",
      "video 1/1 (frame 731/960) c:\\Users\\gtoft\\OneDrive\\DTU\\4_Semester_AS\\Master_Thesis\\auto-annotation-sam\\notebooks\\..\\data\\raw\\NewMeatballs2.mp4: 640x640 (no detections), 7.8ms\n",
      "video 1/1 (frame 732/960) c:\\Users\\gtoft\\OneDrive\\DTU\\4_Semester_AS\\Master_Thesis\\auto-annotation-sam\\notebooks\\..\\data\\raw\\NewMeatballs2.mp4: 640x640 (no detections), 7.7ms\n",
      "video 1/1 (frame 733/960) c:\\Users\\gtoft\\OneDrive\\DTU\\4_Semester_AS\\Master_Thesis\\auto-annotation-sam\\notebooks\\..\\data\\raw\\NewMeatballs2.mp4: 640x640 (no detections), 7.6ms\n",
      "video 1/1 (frame 734/960) c:\\Users\\gtoft\\OneDrive\\DTU\\4_Semester_AS\\Master_Thesis\\auto-annotation-sam\\notebooks\\..\\data\\raw\\NewMeatballs2.mp4: 640x640 (no detections), 6.9ms\n",
      "video 1/1 (frame 735/960) c:\\Users\\gtoft\\OneDrive\\DTU\\4_Semester_AS\\Master_Thesis\\auto-annotation-sam\\notebooks\\..\\data\\raw\\NewMeatballs2.mp4: 640x640 (no detections), 14.8ms\n",
      "video 1/1 (frame 736/960) c:\\Users\\gtoft\\OneDrive\\DTU\\4_Semester_AS\\Master_Thesis\\auto-annotation-sam\\notebooks\\..\\data\\raw\\NewMeatballs2.mp4: 640x640 (no detections), 11.0ms\n",
      "video 1/1 (frame 737/960) c:\\Users\\gtoft\\OneDrive\\DTU\\4_Semester_AS\\Master_Thesis\\auto-annotation-sam\\notebooks\\..\\data\\raw\\NewMeatballs2.mp4: 640x640 2 class0s, 11.1ms\n",
      "video 1/1 (frame 738/960) c:\\Users\\gtoft\\OneDrive\\DTU\\4_Semester_AS\\Master_Thesis\\auto-annotation-sam\\notebooks\\..\\data\\raw\\NewMeatballs2.mp4: 640x640 (no detections), 7.2ms\n",
      "video 1/1 (frame 739/960) c:\\Users\\gtoft\\OneDrive\\DTU\\4_Semester_AS\\Master_Thesis\\auto-annotation-sam\\notebooks\\..\\data\\raw\\NewMeatballs2.mp4: 640x640 2 class0s, 8.0ms\n",
      "video 1/1 (frame 740/960) c:\\Users\\gtoft\\OneDrive\\DTU\\4_Semester_AS\\Master_Thesis\\auto-annotation-sam\\notebooks\\..\\data\\raw\\NewMeatballs2.mp4: 640x640 1 class0, 6.8ms\n",
      "video 1/1 (frame 741/960) c:\\Users\\gtoft\\OneDrive\\DTU\\4_Semester_AS\\Master_Thesis\\auto-annotation-sam\\notebooks\\..\\data\\raw\\NewMeatballs2.mp4: 640x640 (no detections), 8.7ms\n",
      "video 1/1 (frame 742/960) c:\\Users\\gtoft\\OneDrive\\DTU\\4_Semester_AS\\Master_Thesis\\auto-annotation-sam\\notebooks\\..\\data\\raw\\NewMeatballs2.mp4: 640x640 (no detections), 13.4ms\n",
      "video 1/1 (frame 743/960) c:\\Users\\gtoft\\OneDrive\\DTU\\4_Semester_AS\\Master_Thesis\\auto-annotation-sam\\notebooks\\..\\data\\raw\\NewMeatballs2.mp4: 640x640 (no detections), 7.0ms\n",
      "video 1/1 (frame 744/960) c:\\Users\\gtoft\\OneDrive\\DTU\\4_Semester_AS\\Master_Thesis\\auto-annotation-sam\\notebooks\\..\\data\\raw\\NewMeatballs2.mp4: 640x640 2 class0s, 13.3ms\n",
      "video 1/1 (frame 745/960) c:\\Users\\gtoft\\OneDrive\\DTU\\4_Semester_AS\\Master_Thesis\\auto-annotation-sam\\notebooks\\..\\data\\raw\\NewMeatballs2.mp4: 640x640 1 class0, 7.1ms\n",
      "video 1/1 (frame 746/960) c:\\Users\\gtoft\\OneDrive\\DTU\\4_Semester_AS\\Master_Thesis\\auto-annotation-sam\\notebooks\\..\\data\\raw\\NewMeatballs2.mp4: 640x640 2 class0s, 7.1ms\n",
      "video 1/1 (frame 747/960) c:\\Users\\gtoft\\OneDrive\\DTU\\4_Semester_AS\\Master_Thesis\\auto-annotation-sam\\notebooks\\..\\data\\raw\\NewMeatballs2.mp4: 640x640 1 class0, 9.8ms\n",
      "video 1/1 (frame 748/960) c:\\Users\\gtoft\\OneDrive\\DTU\\4_Semester_AS\\Master_Thesis\\auto-annotation-sam\\notebooks\\..\\data\\raw\\NewMeatballs2.mp4: 640x640 1 class0, 15.0ms\n",
      "video 1/1 (frame 749/960) c:\\Users\\gtoft\\OneDrive\\DTU\\4_Semester_AS\\Master_Thesis\\auto-annotation-sam\\notebooks\\..\\data\\raw\\NewMeatballs2.mp4: 640x640 1 class0, 14.2ms\n",
      "video 1/1 (frame 750/960) c:\\Users\\gtoft\\OneDrive\\DTU\\4_Semester_AS\\Master_Thesis\\auto-annotation-sam\\notebooks\\..\\data\\raw\\NewMeatballs2.mp4: 640x640 1 class0, 6.9ms\n",
      "video 1/1 (frame 751/960) c:\\Users\\gtoft\\OneDrive\\DTU\\4_Semester_AS\\Master_Thesis\\auto-annotation-sam\\notebooks\\..\\data\\raw\\NewMeatballs2.mp4: 640x640 2 class0s, 8.3ms\n",
      "video 1/1 (frame 752/960) c:\\Users\\gtoft\\OneDrive\\DTU\\4_Semester_AS\\Master_Thesis\\auto-annotation-sam\\notebooks\\..\\data\\raw\\NewMeatballs2.mp4: 640x640 2 class0s, 7.4ms\n",
      "video 1/1 (frame 753/960) c:\\Users\\gtoft\\OneDrive\\DTU\\4_Semester_AS\\Master_Thesis\\auto-annotation-sam\\notebooks\\..\\data\\raw\\NewMeatballs2.mp4: 640x640 2 class0s, 12.6ms\n",
      "video 1/1 (frame 754/960) c:\\Users\\gtoft\\OneDrive\\DTU\\4_Semester_AS\\Master_Thesis\\auto-annotation-sam\\notebooks\\..\\data\\raw\\NewMeatballs2.mp4: 640x640 2 class0s, 6.6ms\n",
      "video 1/1 (frame 755/960) c:\\Users\\gtoft\\OneDrive\\DTU\\4_Semester_AS\\Master_Thesis\\auto-annotation-sam\\notebooks\\..\\data\\raw\\NewMeatballs2.mp4: 640x640 1 class0, 9.2ms\n",
      "video 1/1 (frame 756/960) c:\\Users\\gtoft\\OneDrive\\DTU\\4_Semester_AS\\Master_Thesis\\auto-annotation-sam\\notebooks\\..\\data\\raw\\NewMeatballs2.mp4: 640x640 1 class0, 7.1ms\n",
      "video 1/1 (frame 757/960) c:\\Users\\gtoft\\OneDrive\\DTU\\4_Semester_AS\\Master_Thesis\\auto-annotation-sam\\notebooks\\..\\data\\raw\\NewMeatballs2.mp4: 640x640 1 class0, 8.4ms\n",
      "video 1/1 (frame 758/960) c:\\Users\\gtoft\\OneDrive\\DTU\\4_Semester_AS\\Master_Thesis\\auto-annotation-sam\\notebooks\\..\\data\\raw\\NewMeatballs2.mp4: 640x640 2 class0s, 6.5ms\n",
      "video 1/1 (frame 759/960) c:\\Users\\gtoft\\OneDrive\\DTU\\4_Semester_AS\\Master_Thesis\\auto-annotation-sam\\notebooks\\..\\data\\raw\\NewMeatballs2.mp4: 640x640 2 class0s, 10.8ms\n",
      "video 1/1 (frame 760/960) c:\\Users\\gtoft\\OneDrive\\DTU\\4_Semester_AS\\Master_Thesis\\auto-annotation-sam\\notebooks\\..\\data\\raw\\NewMeatballs2.mp4: 640x640 2 class0s, 12.1ms\n",
      "video 1/1 (frame 761/960) c:\\Users\\gtoft\\OneDrive\\DTU\\4_Semester_AS\\Master_Thesis\\auto-annotation-sam\\notebooks\\..\\data\\raw\\NewMeatballs2.mp4: 640x640 1 class0, 9.7ms\n",
      "video 1/1 (frame 762/960) c:\\Users\\gtoft\\OneDrive\\DTU\\4_Semester_AS\\Master_Thesis\\auto-annotation-sam\\notebooks\\..\\data\\raw\\NewMeatballs2.mp4: 640x640 (no detections), 9.5ms\n",
      "video 1/1 (frame 763/960) c:\\Users\\gtoft\\OneDrive\\DTU\\4_Semester_AS\\Master_Thesis\\auto-annotation-sam\\notebooks\\..\\data\\raw\\NewMeatballs2.mp4: 640x640 (no detections), 14.5ms\n",
      "video 1/1 (frame 764/960) c:\\Users\\gtoft\\OneDrive\\DTU\\4_Semester_AS\\Master_Thesis\\auto-annotation-sam\\notebooks\\..\\data\\raw\\NewMeatballs2.mp4: 640x640 2 class0s, 14.0ms\n",
      "video 1/1 (frame 765/960) c:\\Users\\gtoft\\OneDrive\\DTU\\4_Semester_AS\\Master_Thesis\\auto-annotation-sam\\notebooks\\..\\data\\raw\\NewMeatballs2.mp4: 640x640 1 class0, 9.6ms\n",
      "video 1/1 (frame 766/960) c:\\Users\\gtoft\\OneDrive\\DTU\\4_Semester_AS\\Master_Thesis\\auto-annotation-sam\\notebooks\\..\\data\\raw\\NewMeatballs2.mp4: 640x640 1 class0, 7.6ms\n",
      "video 1/1 (frame 767/960) c:\\Users\\gtoft\\OneDrive\\DTU\\4_Semester_AS\\Master_Thesis\\auto-annotation-sam\\notebooks\\..\\data\\raw\\NewMeatballs2.mp4: 640x640 (no detections), 7.5ms\n",
      "video 1/1 (frame 768/960) c:\\Users\\gtoft\\OneDrive\\DTU\\4_Semester_AS\\Master_Thesis\\auto-annotation-sam\\notebooks\\..\\data\\raw\\NewMeatballs2.mp4: 640x640 (no detections), 7.6ms\n",
      "video 1/1 (frame 769/960) c:\\Users\\gtoft\\OneDrive\\DTU\\4_Semester_AS\\Master_Thesis\\auto-annotation-sam\\notebooks\\..\\data\\raw\\NewMeatballs2.mp4: 640x640 (no detections), 6.6ms\n",
      "video 1/1 (frame 770/960) c:\\Users\\gtoft\\OneDrive\\DTU\\4_Semester_AS\\Master_Thesis\\auto-annotation-sam\\notebooks\\..\\data\\raw\\NewMeatballs2.mp4: 640x640 1 class0, 6.6ms\n",
      "video 1/1 (frame 771/960) c:\\Users\\gtoft\\OneDrive\\DTU\\4_Semester_AS\\Master_Thesis\\auto-annotation-sam\\notebooks\\..\\data\\raw\\NewMeatballs2.mp4: 640x640 1 class0, 6.4ms\n",
      "video 1/1 (frame 772/960) c:\\Users\\gtoft\\OneDrive\\DTU\\4_Semester_AS\\Master_Thesis\\auto-annotation-sam\\notebooks\\..\\data\\raw\\NewMeatballs2.mp4: 640x640 1 class0, 6.8ms\n",
      "video 1/1 (frame 773/960) c:\\Users\\gtoft\\OneDrive\\DTU\\4_Semester_AS\\Master_Thesis\\auto-annotation-sam\\notebooks\\..\\data\\raw\\NewMeatballs2.mp4: 640x640 1 class0, 6.9ms\n",
      "video 1/1 (frame 774/960) c:\\Users\\gtoft\\OneDrive\\DTU\\4_Semester_AS\\Master_Thesis\\auto-annotation-sam\\notebooks\\..\\data\\raw\\NewMeatballs2.mp4: 640x640 2 class0s, 7.1ms\n",
      "video 1/1 (frame 775/960) c:\\Users\\gtoft\\OneDrive\\DTU\\4_Semester_AS\\Master_Thesis\\auto-annotation-sam\\notebooks\\..\\data\\raw\\NewMeatballs2.mp4: 640x640 1 class0, 8.0ms\n",
      "video 1/1 (frame 776/960) c:\\Users\\gtoft\\OneDrive\\DTU\\4_Semester_AS\\Master_Thesis\\auto-annotation-sam\\notebooks\\..\\data\\raw\\NewMeatballs2.mp4: 640x640 1 class0, 7.5ms\n",
      "video 1/1 (frame 777/960) c:\\Users\\gtoft\\OneDrive\\DTU\\4_Semester_AS\\Master_Thesis\\auto-annotation-sam\\notebooks\\..\\data\\raw\\NewMeatballs2.mp4: 640x640 2 class0s, 6.2ms\n",
      "video 1/1 (frame 778/960) c:\\Users\\gtoft\\OneDrive\\DTU\\4_Semester_AS\\Master_Thesis\\auto-annotation-sam\\notebooks\\..\\data\\raw\\NewMeatballs2.mp4: 640x640 4 class0s, 7.2ms\n",
      "video 1/1 (frame 779/960) c:\\Users\\gtoft\\OneDrive\\DTU\\4_Semester_AS\\Master_Thesis\\auto-annotation-sam\\notebooks\\..\\data\\raw\\NewMeatballs2.mp4: 640x640 6 class0s, 7.0ms\n",
      "video 1/1 (frame 780/960) c:\\Users\\gtoft\\OneDrive\\DTU\\4_Semester_AS\\Master_Thesis\\auto-annotation-sam\\notebooks\\..\\data\\raw\\NewMeatballs2.mp4: 640x640 6 class0s, 7.8ms\n",
      "video 1/1 (frame 781/960) c:\\Users\\gtoft\\OneDrive\\DTU\\4_Semester_AS\\Master_Thesis\\auto-annotation-sam\\notebooks\\..\\data\\raw\\NewMeatballs2.mp4: 640x640 4 class0s, 13.8ms\n",
      "video 1/1 (frame 782/960) c:\\Users\\gtoft\\OneDrive\\DTU\\4_Semester_AS\\Master_Thesis\\auto-annotation-sam\\notebooks\\..\\data\\raw\\NewMeatballs2.mp4: 640x640 3 class0s, 11.2ms\n",
      "video 1/1 (frame 783/960) c:\\Users\\gtoft\\OneDrive\\DTU\\4_Semester_AS\\Master_Thesis\\auto-annotation-sam\\notebooks\\..\\data\\raw\\NewMeatballs2.mp4: 640x640 2 class0s, 8.7ms\n",
      "video 1/1 (frame 784/960) c:\\Users\\gtoft\\OneDrive\\DTU\\4_Semester_AS\\Master_Thesis\\auto-annotation-sam\\notebooks\\..\\data\\raw\\NewMeatballs2.mp4: 640x640 2 class0s, 7.4ms\n",
      "video 1/1 (frame 785/960) c:\\Users\\gtoft\\OneDrive\\DTU\\4_Semester_AS\\Master_Thesis\\auto-annotation-sam\\notebooks\\..\\data\\raw\\NewMeatballs2.mp4: 640x640 3 class0s, 6.7ms\n",
      "video 1/1 (frame 786/960) c:\\Users\\gtoft\\OneDrive\\DTU\\4_Semester_AS\\Master_Thesis\\auto-annotation-sam\\notebooks\\..\\data\\raw\\NewMeatballs2.mp4: 640x640 2 class0s, 11.9ms\n",
      "video 1/1 (frame 787/960) c:\\Users\\gtoft\\OneDrive\\DTU\\4_Semester_AS\\Master_Thesis\\auto-annotation-sam\\notebooks\\..\\data\\raw\\NewMeatballs2.mp4: 640x640 2 class0s, 10.1ms\n",
      "video 1/1 (frame 788/960) c:\\Users\\gtoft\\OneDrive\\DTU\\4_Semester_AS\\Master_Thesis\\auto-annotation-sam\\notebooks\\..\\data\\raw\\NewMeatballs2.mp4: 640x640 (no detections), 10.5ms\n",
      "video 1/1 (frame 789/960) c:\\Users\\gtoft\\OneDrive\\DTU\\4_Semester_AS\\Master_Thesis\\auto-annotation-sam\\notebooks\\..\\data\\raw\\NewMeatballs2.mp4: 640x640 (no detections), 13.2ms\n",
      "video 1/1 (frame 790/960) c:\\Users\\gtoft\\OneDrive\\DTU\\4_Semester_AS\\Master_Thesis\\auto-annotation-sam\\notebooks\\..\\data\\raw\\NewMeatballs2.mp4: 640x640 (no detections), 17.4ms\n",
      "video 1/1 (frame 791/960) c:\\Users\\gtoft\\OneDrive\\DTU\\4_Semester_AS\\Master_Thesis\\auto-annotation-sam\\notebooks\\..\\data\\raw\\NewMeatballs2.mp4: 640x640 (no detections), 15.1ms\n",
      "video 1/1 (frame 792/960) c:\\Users\\gtoft\\OneDrive\\DTU\\4_Semester_AS\\Master_Thesis\\auto-annotation-sam\\notebooks\\..\\data\\raw\\NewMeatballs2.mp4: 640x640 (no detections), 28.1ms\n",
      "video 1/1 (frame 793/960) c:\\Users\\gtoft\\OneDrive\\DTU\\4_Semester_AS\\Master_Thesis\\auto-annotation-sam\\notebooks\\..\\data\\raw\\NewMeatballs2.mp4: 640x640 (no detections), 22.4ms\n",
      "video 1/1 (frame 794/960) c:\\Users\\gtoft\\OneDrive\\DTU\\4_Semester_AS\\Master_Thesis\\auto-annotation-sam\\notebooks\\..\\data\\raw\\NewMeatballs2.mp4: 640x640 (no detections), 14.5ms\n",
      "video 1/1 (frame 795/960) c:\\Users\\gtoft\\OneDrive\\DTU\\4_Semester_AS\\Master_Thesis\\auto-annotation-sam\\notebooks\\..\\data\\raw\\NewMeatballs2.mp4: 640x640 (no detections), 14.3ms\n",
      "video 1/1 (frame 796/960) c:\\Users\\gtoft\\OneDrive\\DTU\\4_Semester_AS\\Master_Thesis\\auto-annotation-sam\\notebooks\\..\\data\\raw\\NewMeatballs2.mp4: 640x640 (no detections), 10.3ms\n",
      "video 1/1 (frame 797/960) c:\\Users\\gtoft\\OneDrive\\DTU\\4_Semester_AS\\Master_Thesis\\auto-annotation-sam\\notebooks\\..\\data\\raw\\NewMeatballs2.mp4: 640x640 (no detections), 11.3ms\n",
      "video 1/1 (frame 798/960) c:\\Users\\gtoft\\OneDrive\\DTU\\4_Semester_AS\\Master_Thesis\\auto-annotation-sam\\notebooks\\..\\data\\raw\\NewMeatballs2.mp4: 640x640 1 class0, 7.4ms\n",
      "video 1/1 (frame 799/960) c:\\Users\\gtoft\\OneDrive\\DTU\\4_Semester_AS\\Master_Thesis\\auto-annotation-sam\\notebooks\\..\\data\\raw\\NewMeatballs2.mp4: 640x640 (no detections), 6.7ms\n",
      "video 1/1 (frame 800/960) c:\\Users\\gtoft\\OneDrive\\DTU\\4_Semester_AS\\Master_Thesis\\auto-annotation-sam\\notebooks\\..\\data\\raw\\NewMeatballs2.mp4: 640x640 (no detections), 8.5ms\n",
      "video 1/1 (frame 801/960) c:\\Users\\gtoft\\OneDrive\\DTU\\4_Semester_AS\\Master_Thesis\\auto-annotation-sam\\notebooks\\..\\data\\raw\\NewMeatballs2.mp4: 640x640 1 class0, 6.9ms\n",
      "video 1/1 (frame 802/960) c:\\Users\\gtoft\\OneDrive\\DTU\\4_Semester_AS\\Master_Thesis\\auto-annotation-sam\\notebooks\\..\\data\\raw\\NewMeatballs2.mp4: 640x640 1 class0, 12.1ms\n",
      "video 1/1 (frame 803/960) c:\\Users\\gtoft\\OneDrive\\DTU\\4_Semester_AS\\Master_Thesis\\auto-annotation-sam\\notebooks\\..\\data\\raw\\NewMeatballs2.mp4: 640x640 (no detections), 14.9ms\n",
      "video 1/1 (frame 804/960) c:\\Users\\gtoft\\OneDrive\\DTU\\4_Semester_AS\\Master_Thesis\\auto-annotation-sam\\notebooks\\..\\data\\raw\\NewMeatballs2.mp4: 640x640 (no detections), 9.1ms\n",
      "video 1/1 (frame 805/960) c:\\Users\\gtoft\\OneDrive\\DTU\\4_Semester_AS\\Master_Thesis\\auto-annotation-sam\\notebooks\\..\\data\\raw\\NewMeatballs2.mp4: 640x640 1 class0, 8.6ms\n",
      "video 1/1 (frame 806/960) c:\\Users\\gtoft\\OneDrive\\DTU\\4_Semester_AS\\Master_Thesis\\auto-annotation-sam\\notebooks\\..\\data\\raw\\NewMeatballs2.mp4: 640x640 2 class0s, 12.8ms\n",
      "video 1/1 (frame 807/960) c:\\Users\\gtoft\\OneDrive\\DTU\\4_Semester_AS\\Master_Thesis\\auto-annotation-sam\\notebooks\\..\\data\\raw\\NewMeatballs2.mp4: 640x640 2 class0s, 14.5ms\n",
      "video 1/1 (frame 808/960) c:\\Users\\gtoft\\OneDrive\\DTU\\4_Semester_AS\\Master_Thesis\\auto-annotation-sam\\notebooks\\..\\data\\raw\\NewMeatballs2.mp4: 640x640 2 class0s, 8.6ms\n",
      "video 1/1 (frame 809/960) c:\\Users\\gtoft\\OneDrive\\DTU\\4_Semester_AS\\Master_Thesis\\auto-annotation-sam\\notebooks\\..\\data\\raw\\NewMeatballs2.mp4: 640x640 2 class0s, 13.9ms\n",
      "video 1/1 (frame 810/960) c:\\Users\\gtoft\\OneDrive\\DTU\\4_Semester_AS\\Master_Thesis\\auto-annotation-sam\\notebooks\\..\\data\\raw\\NewMeatballs2.mp4: 640x640 (no detections), 7.5ms\n",
      "video 1/1 (frame 811/960) c:\\Users\\gtoft\\OneDrive\\DTU\\4_Semester_AS\\Master_Thesis\\auto-annotation-sam\\notebooks\\..\\data\\raw\\NewMeatballs2.mp4: 640x640 2 class0s, 7.4ms\n",
      "video 1/1 (frame 812/960) c:\\Users\\gtoft\\OneDrive\\DTU\\4_Semester_AS\\Master_Thesis\\auto-annotation-sam\\notebooks\\..\\data\\raw\\NewMeatballs2.mp4: 640x640 2 class0s, 10.9ms\n",
      "video 1/1 (frame 813/960) c:\\Users\\gtoft\\OneDrive\\DTU\\4_Semester_AS\\Master_Thesis\\auto-annotation-sam\\notebooks\\..\\data\\raw\\NewMeatballs2.mp4: 640x640 2 class0s, 7.5ms\n",
      "video 1/1 (frame 814/960) c:\\Users\\gtoft\\OneDrive\\DTU\\4_Semester_AS\\Master_Thesis\\auto-annotation-sam\\notebooks\\..\\data\\raw\\NewMeatballs2.mp4: 640x640 2 class0s, 7.5ms\n",
      "video 1/1 (frame 815/960) c:\\Users\\gtoft\\OneDrive\\DTU\\4_Semester_AS\\Master_Thesis\\auto-annotation-sam\\notebooks\\..\\data\\raw\\NewMeatballs2.mp4: 640x640 2 class0s, 8.2ms\n",
      "video 1/1 (frame 816/960) c:\\Users\\gtoft\\OneDrive\\DTU\\4_Semester_AS\\Master_Thesis\\auto-annotation-sam\\notebooks\\..\\data\\raw\\NewMeatballs2.mp4: 640x640 2 class0s, 21.1ms\n",
      "video 1/1 (frame 817/960) c:\\Users\\gtoft\\OneDrive\\DTU\\4_Semester_AS\\Master_Thesis\\auto-annotation-sam\\notebooks\\..\\data\\raw\\NewMeatballs2.mp4: 640x640 2 class0s, 10.0ms\n",
      "video 1/1 (frame 818/960) c:\\Users\\gtoft\\OneDrive\\DTU\\4_Semester_AS\\Master_Thesis\\auto-annotation-sam\\notebooks\\..\\data\\raw\\NewMeatballs2.mp4: 640x640 2 class0s, 8.7ms\n",
      "video 1/1 (frame 819/960) c:\\Users\\gtoft\\OneDrive\\DTU\\4_Semester_AS\\Master_Thesis\\auto-annotation-sam\\notebooks\\..\\data\\raw\\NewMeatballs2.mp4: 640x640 1 class0, 9.4ms\n",
      "video 1/1 (frame 820/960) c:\\Users\\gtoft\\OneDrive\\DTU\\4_Semester_AS\\Master_Thesis\\auto-annotation-sam\\notebooks\\..\\data\\raw\\NewMeatballs2.mp4: 640x640 2 class0s, 17.5ms\n",
      "video 1/1 (frame 821/960) c:\\Users\\gtoft\\OneDrive\\DTU\\4_Semester_AS\\Master_Thesis\\auto-annotation-sam\\notebooks\\..\\data\\raw\\NewMeatballs2.mp4: 640x640 2 class0s, 7.8ms\n",
      "video 1/1 (frame 822/960) c:\\Users\\gtoft\\OneDrive\\DTU\\4_Semester_AS\\Master_Thesis\\auto-annotation-sam\\notebooks\\..\\data\\raw\\NewMeatballs2.mp4: 640x640 1 class0, 16.4ms\n",
      "video 1/1 (frame 823/960) c:\\Users\\gtoft\\OneDrive\\DTU\\4_Semester_AS\\Master_Thesis\\auto-annotation-sam\\notebooks\\..\\data\\raw\\NewMeatballs2.mp4: 640x640 2 class0s, 6.9ms\n",
      "video 1/1 (frame 824/960) c:\\Users\\gtoft\\OneDrive\\DTU\\4_Semester_AS\\Master_Thesis\\auto-annotation-sam\\notebooks\\..\\data\\raw\\NewMeatballs2.mp4: 640x640 1 class0, 7.1ms\n",
      "video 1/1 (frame 825/960) c:\\Users\\gtoft\\OneDrive\\DTU\\4_Semester_AS\\Master_Thesis\\auto-annotation-sam\\notebooks\\..\\data\\raw\\NewMeatballs2.mp4: 640x640 1 class0, 8.9ms\n",
      "video 1/1 (frame 826/960) c:\\Users\\gtoft\\OneDrive\\DTU\\4_Semester_AS\\Master_Thesis\\auto-annotation-sam\\notebooks\\..\\data\\raw\\NewMeatballs2.mp4: 640x640 1 class0, 7.3ms\n",
      "video 1/1 (frame 827/960) c:\\Users\\gtoft\\OneDrive\\DTU\\4_Semester_AS\\Master_Thesis\\auto-annotation-sam\\notebooks\\..\\data\\raw\\NewMeatballs2.mp4: 640x640 1 class0, 8.0ms\n",
      "video 1/1 (frame 828/960) c:\\Users\\gtoft\\OneDrive\\DTU\\4_Semester_AS\\Master_Thesis\\auto-annotation-sam\\notebooks\\..\\data\\raw\\NewMeatballs2.mp4: 640x640 1 class0, 7.1ms\n",
      "video 1/1 (frame 829/960) c:\\Users\\gtoft\\OneDrive\\DTU\\4_Semester_AS\\Master_Thesis\\auto-annotation-sam\\notebooks\\..\\data\\raw\\NewMeatballs2.mp4: 640x640 (no detections), 7.4ms\n",
      "video 1/1 (frame 830/960) c:\\Users\\gtoft\\OneDrive\\DTU\\4_Semester_AS\\Master_Thesis\\auto-annotation-sam\\notebooks\\..\\data\\raw\\NewMeatballs2.mp4: 640x640 1 class0, 8.2ms\n",
      "video 1/1 (frame 831/960) c:\\Users\\gtoft\\OneDrive\\DTU\\4_Semester_AS\\Master_Thesis\\auto-annotation-sam\\notebooks\\..\\data\\raw\\NewMeatballs2.mp4: 640x640 (no detections), 6.8ms\n",
      "video 1/1 (frame 832/960) c:\\Users\\gtoft\\OneDrive\\DTU\\4_Semester_AS\\Master_Thesis\\auto-annotation-sam\\notebooks\\..\\data\\raw\\NewMeatballs2.mp4: 640x640 1 class0, 10.1ms\n",
      "video 1/1 (frame 833/960) c:\\Users\\gtoft\\OneDrive\\DTU\\4_Semester_AS\\Master_Thesis\\auto-annotation-sam\\notebooks\\..\\data\\raw\\NewMeatballs2.mp4: 640x640 (no detections), 9.0ms\n",
      "video 1/1 (frame 834/960) c:\\Users\\gtoft\\OneDrive\\DTU\\4_Semester_AS\\Master_Thesis\\auto-annotation-sam\\notebooks\\..\\data\\raw\\NewMeatballs2.mp4: 640x640 1 class0, 15.0ms\n",
      "video 1/1 (frame 835/960) c:\\Users\\gtoft\\OneDrive\\DTU\\4_Semester_AS\\Master_Thesis\\auto-annotation-sam\\notebooks\\..\\data\\raw\\NewMeatballs2.mp4: 640x640 1 class0, 21.2ms\n",
      "video 1/1 (frame 836/960) c:\\Users\\gtoft\\OneDrive\\DTU\\4_Semester_AS\\Master_Thesis\\auto-annotation-sam\\notebooks\\..\\data\\raw\\NewMeatballs2.mp4: 640x640 (no detections), 7.5ms\n",
      "video 1/1 (frame 837/960) c:\\Users\\gtoft\\OneDrive\\DTU\\4_Semester_AS\\Master_Thesis\\auto-annotation-sam\\notebooks\\..\\data\\raw\\NewMeatballs2.mp4: 640x640 4 class0s, 8.6ms\n",
      "video 1/1 (frame 838/960) c:\\Users\\gtoft\\OneDrive\\DTU\\4_Semester_AS\\Master_Thesis\\auto-annotation-sam\\notebooks\\..\\data\\raw\\NewMeatballs2.mp4: 640x640 3 class0s, 7.9ms\n",
      "video 1/1 (frame 839/960) c:\\Users\\gtoft\\OneDrive\\DTU\\4_Semester_AS\\Master_Thesis\\auto-annotation-sam\\notebooks\\..\\data\\raw\\NewMeatballs2.mp4: 640x640 3 class0s, 8.3ms\n",
      "video 1/1 (frame 840/960) c:\\Users\\gtoft\\OneDrive\\DTU\\4_Semester_AS\\Master_Thesis\\auto-annotation-sam\\notebooks\\..\\data\\raw\\NewMeatballs2.mp4: 640x640 3 class0s, 6.8ms\n",
      "video 1/1 (frame 841/960) c:\\Users\\gtoft\\OneDrive\\DTU\\4_Semester_AS\\Master_Thesis\\auto-annotation-sam\\notebooks\\..\\data\\raw\\NewMeatballs2.mp4: 640x640 3 class0s, 6.7ms\n",
      "video 1/1 (frame 842/960) c:\\Users\\gtoft\\OneDrive\\DTU\\4_Semester_AS\\Master_Thesis\\auto-annotation-sam\\notebooks\\..\\data\\raw\\NewMeatballs2.mp4: 640x640 2 class0s, 11.9ms\n",
      "video 1/1 (frame 843/960) c:\\Users\\gtoft\\OneDrive\\DTU\\4_Semester_AS\\Master_Thesis\\auto-annotation-sam\\notebooks\\..\\data\\raw\\NewMeatballs2.mp4: 640x640 4 class0s, 11.0ms\n",
      "video 1/1 (frame 844/960) c:\\Users\\gtoft\\OneDrive\\DTU\\4_Semester_AS\\Master_Thesis\\auto-annotation-sam\\notebooks\\..\\data\\raw\\NewMeatballs2.mp4: 640x640 3 class0s, 7.0ms\n",
      "video 1/1 (frame 845/960) c:\\Users\\gtoft\\OneDrive\\DTU\\4_Semester_AS\\Master_Thesis\\auto-annotation-sam\\notebooks\\..\\data\\raw\\NewMeatballs2.mp4: 640x640 5 class0s, 8.9ms\n",
      "video 1/1 (frame 846/960) c:\\Users\\gtoft\\OneDrive\\DTU\\4_Semester_AS\\Master_Thesis\\auto-annotation-sam\\notebooks\\..\\data\\raw\\NewMeatballs2.mp4: 640x640 2 class0s, 7.5ms\n",
      "video 1/1 (frame 847/960) c:\\Users\\gtoft\\OneDrive\\DTU\\4_Semester_AS\\Master_Thesis\\auto-annotation-sam\\notebooks\\..\\data\\raw\\NewMeatballs2.mp4: 640x640 1 class0, 6.6ms\n",
      "video 1/1 (frame 848/960) c:\\Users\\gtoft\\OneDrive\\DTU\\4_Semester_AS\\Master_Thesis\\auto-annotation-sam\\notebooks\\..\\data\\raw\\NewMeatballs2.mp4: 640x640 1 class0, 7.0ms\n",
      "video 1/1 (frame 849/960) c:\\Users\\gtoft\\OneDrive\\DTU\\4_Semester_AS\\Master_Thesis\\auto-annotation-sam\\notebooks\\..\\data\\raw\\NewMeatballs2.mp4: 640x640 1 class0, 7.1ms\n",
      "video 1/1 (frame 850/960) c:\\Users\\gtoft\\OneDrive\\DTU\\4_Semester_AS\\Master_Thesis\\auto-annotation-sam\\notebooks\\..\\data\\raw\\NewMeatballs2.mp4: 640x640 1 class0, 12.8ms\n",
      "video 1/1 (frame 851/960) c:\\Users\\gtoft\\OneDrive\\DTU\\4_Semester_AS\\Master_Thesis\\auto-annotation-sam\\notebooks\\..\\data\\raw\\NewMeatballs2.mp4: 640x640 1 class0, 13.5ms\n",
      "video 1/1 (frame 852/960) c:\\Users\\gtoft\\OneDrive\\DTU\\4_Semester_AS\\Master_Thesis\\auto-annotation-sam\\notebooks\\..\\data\\raw\\NewMeatballs2.mp4: 640x640 1 class0, 8.9ms\n",
      "video 1/1 (frame 853/960) c:\\Users\\gtoft\\OneDrive\\DTU\\4_Semester_AS\\Master_Thesis\\auto-annotation-sam\\notebooks\\..\\data\\raw\\NewMeatballs2.mp4: 640x640 (no detections), 6.8ms\n",
      "video 1/1 (frame 854/960) c:\\Users\\gtoft\\OneDrive\\DTU\\4_Semester_AS\\Master_Thesis\\auto-annotation-sam\\notebooks\\..\\data\\raw\\NewMeatballs2.mp4: 640x640 (no detections), 10.3ms\n",
      "video 1/1 (frame 855/960) c:\\Users\\gtoft\\OneDrive\\DTU\\4_Semester_AS\\Master_Thesis\\auto-annotation-sam\\notebooks\\..\\data\\raw\\NewMeatballs2.mp4: 640x640 (no detections), 7.4ms\n",
      "video 1/1 (frame 856/960) c:\\Users\\gtoft\\OneDrive\\DTU\\4_Semester_AS\\Master_Thesis\\auto-annotation-sam\\notebooks\\..\\data\\raw\\NewMeatballs2.mp4: 640x640 (no detections), 8.8ms\n",
      "video 1/1 (frame 857/960) c:\\Users\\gtoft\\OneDrive\\DTU\\4_Semester_AS\\Master_Thesis\\auto-annotation-sam\\notebooks\\..\\data\\raw\\NewMeatballs2.mp4: 640x640 1 class0, 6.5ms\n",
      "video 1/1 (frame 858/960) c:\\Users\\gtoft\\OneDrive\\DTU\\4_Semester_AS\\Master_Thesis\\auto-annotation-sam\\notebooks\\..\\data\\raw\\NewMeatballs2.mp4: 640x640 (no detections), 6.6ms\n",
      "video 1/1 (frame 859/960) c:\\Users\\gtoft\\OneDrive\\DTU\\4_Semester_AS\\Master_Thesis\\auto-annotation-sam\\notebooks\\..\\data\\raw\\NewMeatballs2.mp4: 640x640 (no detections), 8.2ms\n",
      "video 1/1 (frame 860/960) c:\\Users\\gtoft\\OneDrive\\DTU\\4_Semester_AS\\Master_Thesis\\auto-annotation-sam\\notebooks\\..\\data\\raw\\NewMeatballs2.mp4: 640x640 1 class0, 6.5ms\n",
      "video 1/1 (frame 861/960) c:\\Users\\gtoft\\OneDrive\\DTU\\4_Semester_AS\\Master_Thesis\\auto-annotation-sam\\notebooks\\..\\data\\raw\\NewMeatballs2.mp4: 640x640 1 class0, 7.9ms\n",
      "video 1/1 (frame 862/960) c:\\Users\\gtoft\\OneDrive\\DTU\\4_Semester_AS\\Master_Thesis\\auto-annotation-sam\\notebooks\\..\\data\\raw\\NewMeatballs2.mp4: 640x640 1 class0, 12.1ms\n",
      "video 1/1 (frame 863/960) c:\\Users\\gtoft\\OneDrive\\DTU\\4_Semester_AS\\Master_Thesis\\auto-annotation-sam\\notebooks\\..\\data\\raw\\NewMeatballs2.mp4: 640x640 1 class0, 9.4ms\n",
      "video 1/1 (frame 864/960) c:\\Users\\gtoft\\OneDrive\\DTU\\4_Semester_AS\\Master_Thesis\\auto-annotation-sam\\notebooks\\..\\data\\raw\\NewMeatballs2.mp4: 640x640 1 class0, 10.0ms\n",
      "video 1/1 (frame 865/960) c:\\Users\\gtoft\\OneDrive\\DTU\\4_Semester_AS\\Master_Thesis\\auto-annotation-sam\\notebooks\\..\\data\\raw\\NewMeatballs2.mp4: 640x640 (no detections), 19.7ms\n",
      "video 1/1 (frame 866/960) c:\\Users\\gtoft\\OneDrive\\DTU\\4_Semester_AS\\Master_Thesis\\auto-annotation-sam\\notebooks\\..\\data\\raw\\NewMeatballs2.mp4: 640x640 1 class0, 14.8ms\n",
      "video 1/1 (frame 867/960) c:\\Users\\gtoft\\OneDrive\\DTU\\4_Semester_AS\\Master_Thesis\\auto-annotation-sam\\notebooks\\..\\data\\raw\\NewMeatballs2.mp4: 640x640 1 class0, 7.4ms\n",
      "video 1/1 (frame 868/960) c:\\Users\\gtoft\\OneDrive\\DTU\\4_Semester_AS\\Master_Thesis\\auto-annotation-sam\\notebooks\\..\\data\\raw\\NewMeatballs2.mp4: 640x640 (no detections), 6.6ms\n",
      "video 1/1 (frame 869/960) c:\\Users\\gtoft\\OneDrive\\DTU\\4_Semester_AS\\Master_Thesis\\auto-annotation-sam\\notebooks\\..\\data\\raw\\NewMeatballs2.mp4: 640x640 1 class0, 11.5ms\n",
      "video 1/1 (frame 870/960) c:\\Users\\gtoft\\OneDrive\\DTU\\4_Semester_AS\\Master_Thesis\\auto-annotation-sam\\notebooks\\..\\data\\raw\\NewMeatballs2.mp4: 640x640 1 class0, 7.8ms\n",
      "video 1/1 (frame 871/960) c:\\Users\\gtoft\\OneDrive\\DTU\\4_Semester_AS\\Master_Thesis\\auto-annotation-sam\\notebooks\\..\\data\\raw\\NewMeatballs2.mp4: 640x640 3 class0s, 7.2ms\n",
      "video 1/1 (frame 872/960) c:\\Users\\gtoft\\OneDrive\\DTU\\4_Semester_AS\\Master_Thesis\\auto-annotation-sam\\notebooks\\..\\data\\raw\\NewMeatballs2.mp4: 640x640 2 class0s, 13.9ms\n",
      "video 1/1 (frame 873/960) c:\\Users\\gtoft\\OneDrive\\DTU\\4_Semester_AS\\Master_Thesis\\auto-annotation-sam\\notebooks\\..\\data\\raw\\NewMeatballs2.mp4: 640x640 2 class0s, 9.3ms\n",
      "video 1/1 (frame 874/960) c:\\Users\\gtoft\\OneDrive\\DTU\\4_Semester_AS\\Master_Thesis\\auto-annotation-sam\\notebooks\\..\\data\\raw\\NewMeatballs2.mp4: 640x640 3 class0s, 6.7ms\n",
      "video 1/1 (frame 875/960) c:\\Users\\gtoft\\OneDrive\\DTU\\4_Semester_AS\\Master_Thesis\\auto-annotation-sam\\notebooks\\..\\data\\raw\\NewMeatballs2.mp4: 640x640 2 class0s, 9.9ms\n",
      "video 1/1 (frame 876/960) c:\\Users\\gtoft\\OneDrive\\DTU\\4_Semester_AS\\Master_Thesis\\auto-annotation-sam\\notebooks\\..\\data\\raw\\NewMeatballs2.mp4: 640x640 2 class0s, 7.6ms\n",
      "video 1/1 (frame 877/960) c:\\Users\\gtoft\\OneDrive\\DTU\\4_Semester_AS\\Master_Thesis\\auto-annotation-sam\\notebooks\\..\\data\\raw\\NewMeatballs2.mp4: 640x640 2 class0s, 14.0ms\n",
      "video 1/1 (frame 878/960) c:\\Users\\gtoft\\OneDrive\\DTU\\4_Semester_AS\\Master_Thesis\\auto-annotation-sam\\notebooks\\..\\data\\raw\\NewMeatballs2.mp4: 640x640 2 class0s, 7.1ms\n",
      "video 1/1 (frame 879/960) c:\\Users\\gtoft\\OneDrive\\DTU\\4_Semester_AS\\Master_Thesis\\auto-annotation-sam\\notebooks\\..\\data\\raw\\NewMeatballs2.mp4: 640x640 2 class0s, 9.2ms\n",
      "video 1/1 (frame 880/960) c:\\Users\\gtoft\\OneDrive\\DTU\\4_Semester_AS\\Master_Thesis\\auto-annotation-sam\\notebooks\\..\\data\\raw\\NewMeatballs2.mp4: 640x640 2 class0s, 10.7ms\n",
      "video 1/1 (frame 881/960) c:\\Users\\gtoft\\OneDrive\\DTU\\4_Semester_AS\\Master_Thesis\\auto-annotation-sam\\notebooks\\..\\data\\raw\\NewMeatballs2.mp4: 640x640 1 class0, 14.7ms\n",
      "video 1/1 (frame 882/960) c:\\Users\\gtoft\\OneDrive\\DTU\\4_Semester_AS\\Master_Thesis\\auto-annotation-sam\\notebooks\\..\\data\\raw\\NewMeatballs2.mp4: 640x640 1 class0, 7.1ms\n",
      "video 1/1 (frame 883/960) c:\\Users\\gtoft\\OneDrive\\DTU\\4_Semester_AS\\Master_Thesis\\auto-annotation-sam\\notebooks\\..\\data\\raw\\NewMeatballs2.mp4: 640x640 2 class0s, 9.6ms\n",
      "video 1/1 (frame 884/960) c:\\Users\\gtoft\\OneDrive\\DTU\\4_Semester_AS\\Master_Thesis\\auto-annotation-sam\\notebooks\\..\\data\\raw\\NewMeatballs2.mp4: 640x640 1 class0, 6.6ms\n",
      "video 1/1 (frame 885/960) c:\\Users\\gtoft\\OneDrive\\DTU\\4_Semester_AS\\Master_Thesis\\auto-annotation-sam\\notebooks\\..\\data\\raw\\NewMeatballs2.mp4: 640x640 1 class0, 7.2ms\n",
      "video 1/1 (frame 886/960) c:\\Users\\gtoft\\OneDrive\\DTU\\4_Semester_AS\\Master_Thesis\\auto-annotation-sam\\notebooks\\..\\data\\raw\\NewMeatballs2.mp4: 640x640 1 class0, 13.5ms\n",
      "video 1/1 (frame 887/960) c:\\Users\\gtoft\\OneDrive\\DTU\\4_Semester_AS\\Master_Thesis\\auto-annotation-sam\\notebooks\\..\\data\\raw\\NewMeatballs2.mp4: 640x640 2 class0s, 11.1ms\n",
      "video 1/1 (frame 888/960) c:\\Users\\gtoft\\OneDrive\\DTU\\4_Semester_AS\\Master_Thesis\\auto-annotation-sam\\notebooks\\..\\data\\raw\\NewMeatballs2.mp4: 640x640 1 class0, 7.0ms\n",
      "video 1/1 (frame 889/960) c:\\Users\\gtoft\\OneDrive\\DTU\\4_Semester_AS\\Master_Thesis\\auto-annotation-sam\\notebooks\\..\\data\\raw\\NewMeatballs2.mp4: 640x640 1 class0, 9.1ms\n",
      "video 1/1 (frame 890/960) c:\\Users\\gtoft\\OneDrive\\DTU\\4_Semester_AS\\Master_Thesis\\auto-annotation-sam\\notebooks\\..\\data\\raw\\NewMeatballs2.mp4: 640x640 1 class0, 7.1ms\n",
      "video 1/1 (frame 891/960) c:\\Users\\gtoft\\OneDrive\\DTU\\4_Semester_AS\\Master_Thesis\\auto-annotation-sam\\notebooks\\..\\data\\raw\\NewMeatballs2.mp4: 640x640 (no detections), 10.3ms\n",
      "video 1/1 (frame 892/960) c:\\Users\\gtoft\\OneDrive\\DTU\\4_Semester_AS\\Master_Thesis\\auto-annotation-sam\\notebooks\\..\\data\\raw\\NewMeatballs2.mp4: 640x640 1 class0, 7.6ms\n",
      "video 1/1 (frame 893/960) c:\\Users\\gtoft\\OneDrive\\DTU\\4_Semester_AS\\Master_Thesis\\auto-annotation-sam\\notebooks\\..\\data\\raw\\NewMeatballs2.mp4: 640x640 (no detections), 6.8ms\n",
      "video 1/1 (frame 894/960) c:\\Users\\gtoft\\OneDrive\\DTU\\4_Semester_AS\\Master_Thesis\\auto-annotation-sam\\notebooks\\..\\data\\raw\\NewMeatballs2.mp4: 640x640 (no detections), 13.5ms\n",
      "video 1/1 (frame 895/960) c:\\Users\\gtoft\\OneDrive\\DTU\\4_Semester_AS\\Master_Thesis\\auto-annotation-sam\\notebooks\\..\\data\\raw\\NewMeatballs2.mp4: 640x640 (no detections), 7.2ms\n",
      "video 1/1 (frame 896/960) c:\\Users\\gtoft\\OneDrive\\DTU\\4_Semester_AS\\Master_Thesis\\auto-annotation-sam\\notebooks\\..\\data\\raw\\NewMeatballs2.mp4: 640x640 1 class0, 11.2ms\n",
      "video 1/1 (frame 897/960) c:\\Users\\gtoft\\OneDrive\\DTU\\4_Semester_AS\\Master_Thesis\\auto-annotation-sam\\notebooks\\..\\data\\raw\\NewMeatballs2.mp4: 640x640 (no detections), 9.0ms\n",
      "video 1/1 (frame 898/960) c:\\Users\\gtoft\\OneDrive\\DTU\\4_Semester_AS\\Master_Thesis\\auto-annotation-sam\\notebooks\\..\\data\\raw\\NewMeatballs2.mp4: 640x640 (no detections), 6.7ms\n",
      "video 1/1 (frame 899/960) c:\\Users\\gtoft\\OneDrive\\DTU\\4_Semester_AS\\Master_Thesis\\auto-annotation-sam\\notebooks\\..\\data\\raw\\NewMeatballs2.mp4: 640x640 (no detections), 6.5ms\n",
      "video 1/1 (frame 900/960) c:\\Users\\gtoft\\OneDrive\\DTU\\4_Semester_AS\\Master_Thesis\\auto-annotation-sam\\notebooks\\..\\data\\raw\\NewMeatballs2.mp4: 640x640 1 class0, 15.7ms\n",
      "video 1/1 (frame 901/960) c:\\Users\\gtoft\\OneDrive\\DTU\\4_Semester_AS\\Master_Thesis\\auto-annotation-sam\\notebooks\\..\\data\\raw\\NewMeatballs2.mp4: 640x640 2 class0s, 8.2ms\n",
      "video 1/1 (frame 902/960) c:\\Users\\gtoft\\OneDrive\\DTU\\4_Semester_AS\\Master_Thesis\\auto-annotation-sam\\notebooks\\..\\data\\raw\\NewMeatballs2.mp4: 640x640 (no detections), 6.4ms\n",
      "video 1/1 (frame 903/960) c:\\Users\\gtoft\\OneDrive\\DTU\\4_Semester_AS\\Master_Thesis\\auto-annotation-sam\\notebooks\\..\\data\\raw\\NewMeatballs2.mp4: 640x640 (no detections), 8.1ms\n",
      "video 1/1 (frame 904/960) c:\\Users\\gtoft\\OneDrive\\DTU\\4_Semester_AS\\Master_Thesis\\auto-annotation-sam\\notebooks\\..\\data\\raw\\NewMeatballs2.mp4: 640x640 1 class0, 6.4ms\n",
      "video 1/1 (frame 905/960) c:\\Users\\gtoft\\OneDrive\\DTU\\4_Semester_AS\\Master_Thesis\\auto-annotation-sam\\notebooks\\..\\data\\raw\\NewMeatballs2.mp4: 640x640 (no detections), 6.6ms\n",
      "video 1/1 (frame 906/960) c:\\Users\\gtoft\\OneDrive\\DTU\\4_Semester_AS\\Master_Thesis\\auto-annotation-sam\\notebooks\\..\\data\\raw\\NewMeatballs2.mp4: 640x640 1 class0, 14.2ms\n",
      "video 1/1 (frame 907/960) c:\\Users\\gtoft\\OneDrive\\DTU\\4_Semester_AS\\Master_Thesis\\auto-annotation-sam\\notebooks\\..\\data\\raw\\NewMeatballs2.mp4: 640x640 2 class0s, 13.1ms\n",
      "video 1/1 (frame 908/960) c:\\Users\\gtoft\\OneDrive\\DTU\\4_Semester_AS\\Master_Thesis\\auto-annotation-sam\\notebooks\\..\\data\\raw\\NewMeatballs2.mp4: 640x640 1 class0, 12.7ms\n",
      "video 1/1 (frame 909/960) c:\\Users\\gtoft\\OneDrive\\DTU\\4_Semester_AS\\Master_Thesis\\auto-annotation-sam\\notebooks\\..\\data\\raw\\NewMeatballs2.mp4: 640x640 1 class0, 9.1ms\n",
      "video 1/1 (frame 910/960) c:\\Users\\gtoft\\OneDrive\\DTU\\4_Semester_AS\\Master_Thesis\\auto-annotation-sam\\notebooks\\..\\data\\raw\\NewMeatballs2.mp4: 640x640 1 class0, 7.5ms\n",
      "video 1/1 (frame 911/960) c:\\Users\\gtoft\\OneDrive\\DTU\\4_Semester_AS\\Master_Thesis\\auto-annotation-sam\\notebooks\\..\\data\\raw\\NewMeatballs2.mp4: 640x640 (no detections), 7.4ms\n",
      "video 1/1 (frame 912/960) c:\\Users\\gtoft\\OneDrive\\DTU\\4_Semester_AS\\Master_Thesis\\auto-annotation-sam\\notebooks\\..\\data\\raw\\NewMeatballs2.mp4: 640x640 (no detections), 7.3ms\n",
      "video 1/1 (frame 913/960) c:\\Users\\gtoft\\OneDrive\\DTU\\4_Semester_AS\\Master_Thesis\\auto-annotation-sam\\notebooks\\..\\data\\raw\\NewMeatballs2.mp4: 640x640 (no detections), 6.5ms\n",
      "video 1/1 (frame 914/960) c:\\Users\\gtoft\\OneDrive\\DTU\\4_Semester_AS\\Master_Thesis\\auto-annotation-sam\\notebooks\\..\\data\\raw\\NewMeatballs2.mp4: 640x640 1 class0, 7.2ms\n",
      "video 1/1 (frame 915/960) c:\\Users\\gtoft\\OneDrive\\DTU\\4_Semester_AS\\Master_Thesis\\auto-annotation-sam\\notebooks\\..\\data\\raw\\NewMeatballs2.mp4: 640x640 (no detections), 13.1ms\n",
      "video 1/1 (frame 916/960) c:\\Users\\gtoft\\OneDrive\\DTU\\4_Semester_AS\\Master_Thesis\\auto-annotation-sam\\notebooks\\..\\data\\raw\\NewMeatballs2.mp4: 640x640 1 class0, 6.7ms\n",
      "video 1/1 (frame 917/960) c:\\Users\\gtoft\\OneDrive\\DTU\\4_Semester_AS\\Master_Thesis\\auto-annotation-sam\\notebooks\\..\\data\\raw\\NewMeatballs2.mp4: 640x640 (no detections), 8.3ms\n",
      "video 1/1 (frame 918/960) c:\\Users\\gtoft\\OneDrive\\DTU\\4_Semester_AS\\Master_Thesis\\auto-annotation-sam\\notebooks\\..\\data\\raw\\NewMeatballs2.mp4: 640x640 (no detections), 11.3ms\n",
      "video 1/1 (frame 919/960) c:\\Users\\gtoft\\OneDrive\\DTU\\4_Semester_AS\\Master_Thesis\\auto-annotation-sam\\notebooks\\..\\data\\raw\\NewMeatballs2.mp4: 640x640 (no detections), 7.7ms\n",
      "video 1/1 (frame 920/960) c:\\Users\\gtoft\\OneDrive\\DTU\\4_Semester_AS\\Master_Thesis\\auto-annotation-sam\\notebooks\\..\\data\\raw\\NewMeatballs2.mp4: 640x640 (no detections), 9.4ms\n",
      "video 1/1 (frame 921/960) c:\\Users\\gtoft\\OneDrive\\DTU\\4_Semester_AS\\Master_Thesis\\auto-annotation-sam\\notebooks\\..\\data\\raw\\NewMeatballs2.mp4: 640x640 1 class0, 7.2ms\n",
      "video 1/1 (frame 922/960) c:\\Users\\gtoft\\OneDrive\\DTU\\4_Semester_AS\\Master_Thesis\\auto-annotation-sam\\notebooks\\..\\data\\raw\\NewMeatballs2.mp4: 640x640 1 class0, 8.0ms\n",
      "video 1/1 (frame 923/960) c:\\Users\\gtoft\\OneDrive\\DTU\\4_Semester_AS\\Master_Thesis\\auto-annotation-sam\\notebooks\\..\\data\\raw\\NewMeatballs2.mp4: 640x640 1 class0, 6.3ms\n",
      "video 1/1 (frame 924/960) c:\\Users\\gtoft\\OneDrive\\DTU\\4_Semester_AS\\Master_Thesis\\auto-annotation-sam\\notebooks\\..\\data\\raw\\NewMeatballs2.mp4: 640x640 (no detections), 14.9ms\n",
      "video 1/1 (frame 925/960) c:\\Users\\gtoft\\OneDrive\\DTU\\4_Semester_AS\\Master_Thesis\\auto-annotation-sam\\notebooks\\..\\data\\raw\\NewMeatballs2.mp4: 640x640 1 class0, 6.6ms\n",
      "video 1/1 (frame 926/960) c:\\Users\\gtoft\\OneDrive\\DTU\\4_Semester_AS\\Master_Thesis\\auto-annotation-sam\\notebooks\\..\\data\\raw\\NewMeatballs2.mp4: 640x640 1 class0, 14.6ms\n",
      "video 1/1 (frame 927/960) c:\\Users\\gtoft\\OneDrive\\DTU\\4_Semester_AS\\Master_Thesis\\auto-annotation-sam\\notebooks\\..\\data\\raw\\NewMeatballs2.mp4: 640x640 1 class0, 6.7ms\n",
      "video 1/1 (frame 928/960) c:\\Users\\gtoft\\OneDrive\\DTU\\4_Semester_AS\\Master_Thesis\\auto-annotation-sam\\notebooks\\..\\data\\raw\\NewMeatballs2.mp4: 640x640 (no detections), 8.4ms\n",
      "video 1/1 (frame 929/960) c:\\Users\\gtoft\\OneDrive\\DTU\\4_Semester_AS\\Master_Thesis\\auto-annotation-sam\\notebooks\\..\\data\\raw\\NewMeatballs2.mp4: 640x640 (no detections), 14.9ms\n",
      "video 1/1 (frame 930/960) c:\\Users\\gtoft\\OneDrive\\DTU\\4_Semester_AS\\Master_Thesis\\auto-annotation-sam\\notebooks\\..\\data\\raw\\NewMeatballs2.mp4: 640x640 1 class0, 7.7ms\n",
      "video 1/1 (frame 931/960) c:\\Users\\gtoft\\OneDrive\\DTU\\4_Semester_AS\\Master_Thesis\\auto-annotation-sam\\notebooks\\..\\data\\raw\\NewMeatballs2.mp4: 640x640 (no detections), 8.9ms\n",
      "video 1/1 (frame 932/960) c:\\Users\\gtoft\\OneDrive\\DTU\\4_Semester_AS\\Master_Thesis\\auto-annotation-sam\\notebooks\\..\\data\\raw\\NewMeatballs2.mp4: 640x640 1 class0, 7.0ms\n",
      "video 1/1 (frame 933/960) c:\\Users\\gtoft\\OneDrive\\DTU\\4_Semester_AS\\Master_Thesis\\auto-annotation-sam\\notebooks\\..\\data\\raw\\NewMeatballs2.mp4: 640x640 1 class0, 6.7ms\n",
      "video 1/1 (frame 934/960) c:\\Users\\gtoft\\OneDrive\\DTU\\4_Semester_AS\\Master_Thesis\\auto-annotation-sam\\notebooks\\..\\data\\raw\\NewMeatballs2.mp4: 640x640 (no detections), 7.6ms\n",
      "video 1/1 (frame 935/960) c:\\Users\\gtoft\\OneDrive\\DTU\\4_Semester_AS\\Master_Thesis\\auto-annotation-sam\\notebooks\\..\\data\\raw\\NewMeatballs2.mp4: 640x640 1 class0, 17.8ms\n",
      "video 1/1 (frame 936/960) c:\\Users\\gtoft\\OneDrive\\DTU\\4_Semester_AS\\Master_Thesis\\auto-annotation-sam\\notebooks\\..\\data\\raw\\NewMeatballs2.mp4: 640x640 1 class0, 7.5ms\n",
      "video 1/1 (frame 937/960) c:\\Users\\gtoft\\OneDrive\\DTU\\4_Semester_AS\\Master_Thesis\\auto-annotation-sam\\notebooks\\..\\data\\raw\\NewMeatballs2.mp4: 640x640 1 class0, 12.1ms\n",
      "video 1/1 (frame 938/960) c:\\Users\\gtoft\\OneDrive\\DTU\\4_Semester_AS\\Master_Thesis\\auto-annotation-sam\\notebooks\\..\\data\\raw\\NewMeatballs2.mp4: 640x640 1 class0, 9.6ms\n",
      "video 1/1 (frame 939/960) c:\\Users\\gtoft\\OneDrive\\DTU\\4_Semester_AS\\Master_Thesis\\auto-annotation-sam\\notebooks\\..\\data\\raw\\NewMeatballs2.mp4: 640x640 2 class0s, 22.3ms\n",
      "video 1/1 (frame 940/960) c:\\Users\\gtoft\\OneDrive\\DTU\\4_Semester_AS\\Master_Thesis\\auto-annotation-sam\\notebooks\\..\\data\\raw\\NewMeatballs2.mp4: 640x640 1 class0, 7.5ms\n",
      "video 1/1 (frame 941/960) c:\\Users\\gtoft\\OneDrive\\DTU\\4_Semester_AS\\Master_Thesis\\auto-annotation-sam\\notebooks\\..\\data\\raw\\NewMeatballs2.mp4: 640x640 2 class0s, 7.6ms\n",
      "video 1/1 (frame 942/960) c:\\Users\\gtoft\\OneDrive\\DTU\\4_Semester_AS\\Master_Thesis\\auto-annotation-sam\\notebooks\\..\\data\\raw\\NewMeatballs2.mp4: 640x640 1 class0, 11.9ms\n",
      "video 1/1 (frame 943/960) c:\\Users\\gtoft\\OneDrive\\DTU\\4_Semester_AS\\Master_Thesis\\auto-annotation-sam\\notebooks\\..\\data\\raw\\NewMeatballs2.mp4: 640x640 3 class0s, 8.6ms\n",
      "video 1/1 (frame 944/960) c:\\Users\\gtoft\\OneDrive\\DTU\\4_Semester_AS\\Master_Thesis\\auto-annotation-sam\\notebooks\\..\\data\\raw\\NewMeatballs2.mp4: 640x640 1 class0, 10.3ms\n",
      "video 1/1 (frame 945/960) c:\\Users\\gtoft\\OneDrive\\DTU\\4_Semester_AS\\Master_Thesis\\auto-annotation-sam\\notebooks\\..\\data\\raw\\NewMeatballs2.mp4: 640x640 2 class0s, 6.9ms\n",
      "video 1/1 (frame 946/960) c:\\Users\\gtoft\\OneDrive\\DTU\\4_Semester_AS\\Master_Thesis\\auto-annotation-sam\\notebooks\\..\\data\\raw\\NewMeatballs2.mp4: 640x640 1 class0, 7.2ms\n",
      "video 1/1 (frame 947/960) c:\\Users\\gtoft\\OneDrive\\DTU\\4_Semester_AS\\Master_Thesis\\auto-annotation-sam\\notebooks\\..\\data\\raw\\NewMeatballs2.mp4: 640x640 2 class0s, 9.1ms\n",
      "video 1/1 (frame 948/960) c:\\Users\\gtoft\\OneDrive\\DTU\\4_Semester_AS\\Master_Thesis\\auto-annotation-sam\\notebooks\\..\\data\\raw\\NewMeatballs2.mp4: 640x640 2 class0s, 8.3ms\n",
      "video 1/1 (frame 949/960) c:\\Users\\gtoft\\OneDrive\\DTU\\4_Semester_AS\\Master_Thesis\\auto-annotation-sam\\notebooks\\..\\data\\raw\\NewMeatballs2.mp4: 640x640 1 class0, 7.7ms\n",
      "video 1/1 (frame 950/960) c:\\Users\\gtoft\\OneDrive\\DTU\\4_Semester_AS\\Master_Thesis\\auto-annotation-sam\\notebooks\\..\\data\\raw\\NewMeatballs2.mp4: 640x640 1 class0, 6.7ms\n",
      "video 1/1 (frame 951/960) c:\\Users\\gtoft\\OneDrive\\DTU\\4_Semester_AS\\Master_Thesis\\auto-annotation-sam\\notebooks\\..\\data\\raw\\NewMeatballs2.mp4: 640x640 2 class0s, 7.2ms\n",
      "video 1/1 (frame 952/960) c:\\Users\\gtoft\\OneDrive\\DTU\\4_Semester_AS\\Master_Thesis\\auto-annotation-sam\\notebooks\\..\\data\\raw\\NewMeatballs2.mp4: 640x640 1 class0, 8.8ms\n",
      "video 1/1 (frame 953/960) c:\\Users\\gtoft\\OneDrive\\DTU\\4_Semester_AS\\Master_Thesis\\auto-annotation-sam\\notebooks\\..\\data\\raw\\NewMeatballs2.mp4: 640x640 1 class0, 6.3ms\n",
      "video 1/1 (frame 954/960) c:\\Users\\gtoft\\OneDrive\\DTU\\4_Semester_AS\\Master_Thesis\\auto-annotation-sam\\notebooks\\..\\data\\raw\\NewMeatballs2.mp4: 640x640 1 class0, 6.3ms\n",
      "video 1/1 (frame 955/960) c:\\Users\\gtoft\\OneDrive\\DTU\\4_Semester_AS\\Master_Thesis\\auto-annotation-sam\\notebooks\\..\\data\\raw\\NewMeatballs2.mp4: 640x640 1 class0, 10.0ms\n",
      "video 1/1 (frame 956/960) c:\\Users\\gtoft\\OneDrive\\DTU\\4_Semester_AS\\Master_Thesis\\auto-annotation-sam\\notebooks\\..\\data\\raw\\NewMeatballs2.mp4: 640x640 (no detections), 9.0ms\n",
      "video 1/1 (frame 957/960) c:\\Users\\gtoft\\OneDrive\\DTU\\4_Semester_AS\\Master_Thesis\\auto-annotation-sam\\notebooks\\..\\data\\raw\\NewMeatballs2.mp4: 640x640 (no detections), 14.1ms\n",
      "video 1/1 (frame 958/960) c:\\Users\\gtoft\\OneDrive\\DTU\\4_Semester_AS\\Master_Thesis\\auto-annotation-sam\\notebooks\\..\\data\\raw\\NewMeatballs2.mp4: 640x640 (no detections), 10.6ms\n",
      "video 1/1 (frame 959/960) c:\\Users\\gtoft\\OneDrive\\DTU\\4_Semester_AS\\Master_Thesis\\auto-annotation-sam\\notebooks\\..\\data\\raw\\NewMeatballs2.mp4: 640x640 (no detections), 8.7ms\n",
      "video 1/1 (frame 960/960) c:\\Users\\gtoft\\OneDrive\\DTU\\4_Semester_AS\\Master_Thesis\\auto-annotation-sam\\notebooks\\..\\data\\raw\\NewMeatballs2.mp4: 640x640 (no detections), 12.4ms\n",
      "Speed: 3.2ms preprocess, 9.6ms inference, 1.7ms postprocess per image at shape (1, 3, 640, 640)\n",
      "Results saved to \u001b[1myolo_inference\\NewMeatballs2\u001b[0m\n",
      "Processing complete! Video saved to: yolo_inference\\NewMeatballs2_pred.mp4\n"
     ]
    }
   ],
   "source": [
    "from ultralytics import YOLO\n",
    "import cv2\n",
    "import os\n",
    "from IPython.display import display, HTML, Video\n",
    "\n",
    "# Load your trained model\n",
    "model_path = \"runs/detect/train3/weights/best.pt\"  # Update this to your model path\n",
    "model = YOLO(model_path)\n",
    "\n",
    "# Path to your video\n",
    "video_path = \"../data/raw/NewMeatballs2.mp4\"  # Update this to your video path\n",
    "\n",
    "# Output settings\n",
    "output_folder = \"yolo_inference\"\n",
    "os.makedirs(output_folder, exist_ok=True)\n",
    "video_name = os.path.basename(video_path)\n",
    "video_name_without_ext = os.path.splitext(video_name)[0]\n",
    "output_path = os.path.join(output_folder, f\"{video_name_without_ext}_pred.mp4\")\n",
    "\n",
    "# Run inference with tracking\n",
    "results = model.track(\n",
    "    source=video_path,\n",
    "    conf=0.5,  # Confidence threshold\n",
    "    iou=0.45,\n",
    "    save=True,\n",
    "    project=output_folder,\n",
    "    name=video_name_without_ext,\n",
    "    stream=False,  # Set to True for very large videos to process frame by frame\n",
    "    persist=True,\n",
    ")\n",
    "\n",
    "# Print detection summary\n",
    "print(f\"Processing complete! Video saved to: {output_path}\")"
   ]
  },
  {
   "cell_type": "code",
   "execution_count": null,
   "id": "e9793825",
   "metadata": {},
   "outputs": [],
   "source": []
  }
 ],
 "metadata": {
  "kernelspec": {
   "display_name": "masterenv",
   "language": "python",
   "name": "python3"
  },
  "language_info": {
   "codemirror_mode": {
    "name": "ipython",
    "version": 3
   },
   "file_extension": ".py",
   "mimetype": "text/x-python",
   "name": "python",
   "nbconvert_exporter": "python",
   "pygments_lexer": "ipython3",
   "version": "3.11.11"
  }
 },
 "nbformat": 4,
 "nbformat_minor": 5
}
